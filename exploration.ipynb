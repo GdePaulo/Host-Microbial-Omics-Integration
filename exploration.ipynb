{
 "cells": [
  {
   "cell_type": "code",
   "execution_count": null,
   "metadata": {},
   "outputs": [],
   "source": [
    "import pandas as pd\n",
    "import loader as load\n",
    "import config\n",
    "# aak_ge = load.loadGEWithClinical()"
   ]
  },
  {
   "cell_type": "code",
   "execution_count": null,
   "metadata": {},
   "outputs": [],
   "source": [
    "import processor as pr\n",
    "\n",
    "tcma_cancer_type = [\"COAD\", \"ESCA\", \"HNSC\", \"STAD\"]\n",
    "target = \"tumor\"\n",
    "\n",
    "data, files_names = load.loadAll(includeStage=(target==\"stage\"), sameSamples=True, skipGenes=False)\n",
    "layer_names = [\"GENUS\", \"GE\", \"GE ∩ GENUS\"]\n",
    "# source_types = [\"GENUS\", \"GE\", \"GENUS n GE\"]\n",
    "# file_names = [\"tcma_Genus\", \"TCMA_Phylum\", \"TCGA_GE(Aakash)\", \"TCMA_Genus_GE(Aakash)_Overlap\", \"TCMA_Phylum_GE(Aakash)_Overlap\"]\n"
   ]
  },
  {
   "cell_type": "code",
   "execution_count": null,
   "metadata": {},
   "outputs": [],
   "source": [
    "reduction_type = \"t-SNE\""
   ]
  },
  {
   "cell_type": "code",
   "execution_count": null,
   "metadata": {},
   "outputs": [],
   "source": [
    "import processor as pr\n",
    "\n",
    "for feature_amount in config.feature_amounts[:1]:\n",
    "    X, Y, sub_titles = [], [], []\n",
    "    for i, b in enumerate(data):\n",
    "        if target == \"tumor\":\n",
    "            d = load.attachTumorStatus(b)\n",
    "            print(d.columns)\n",
    "        elif target == \"stage\":\n",
    "            d = load.attachStageStatus(b)\n",
    "        \n",
    "        # print(f\"len is {len(d)}\")\n",
    "        for c in tcma_cancer_type[-1:]:\n",
    "            x, y = pr.splitData(d, target, project=c)\n",
    "            \n",
    "            best_indices = pr.selectFeatures(x, y, feature_amount)\n",
    "            x_selected = x.iloc[:, best_indices].copy()\n",
    "            # print(f\"len is {len(x)}\")\n",
    "\n",
    "            if reduction_type == \"PCA\":\n",
    "                X.append(pr.getPCA(x_selected))\n",
    "            else:\n",
    "                X.append(pr.getTSNE(x_selected))\n",
    "            Y.append(y)\n",
    "            sub_title = f\"{layer_names[i]}\"\n",
    "            sub_titles.append(sub_title)\n",
    "        main_title = f\"{c} | {target} {reduction_type} | p: {feature_amount}\"\n",
    "        pr.plotScatter(X, Y, sub_titles, f\"Visual/exploration/{target}/{reduction_type}/p{feature_amount}/{c}\", diagnostic=target, main_title=main_title)\n",
    "        # pr.plotScatter(X, Y, sub_titles, f\"Visual/exploration/{reduction_type}/p{feature_amount}/{c}_{files_names[i]}\")"
   ]
  }
 ],
 "metadata": {
  "kernelspec": {
   "display_name": "Python 3.9.4 ('bacteria')",
   "language": "python",
   "name": "python3"
  },
  "language_info": {
   "codemirror_mode": {
    "name": "ipython",
    "version": 3
   },
   "file_extension": ".py",
   "mimetype": "text/x-python",
   "name": "python",
   "nbconvert_exporter": "python",
   "pygments_lexer": "ipython3",
   "version": "3.9.4 (default, Apr  9 2021, 11:43:21) [MSC v.1916 64 bit (AMD64)]"
  },
  "orig_nbformat": 4,
  "vscode": {
   "interpreter": {
    "hash": "5c9c23c68e4133fb152380ec4059b1f78568734598c8159b0962b671d1bd3454"
   }
  }
 },
 "nbformat": 4,
 "nbformat_minor": 2
}
