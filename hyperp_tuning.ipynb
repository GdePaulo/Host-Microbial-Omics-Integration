{
 "cells": [
  {
   "attachments": {},
   "cell_type": "markdown",
   "metadata": {},
   "source": [
    "https://machinelearningmastery.com/nested-cross-validation-for-machine-learning-with-python/\n",
    "Hyper parameter optimization:\n",
    "https://stats.stackexchange.com/questions/65128/nested-cross-validation-for-model-selection\n",
    "https://machinelearningmastery.com/nested-cross-validation-for-machine-learning-with-python/\n",
    "\n",
    "Current validation stack:\n",
    "for each cancer and target and model\n",
    "do 80/20 random stratified splits 200 times.\n",
    "Feature select and then train on 80% and test on 20%\n",
    "\n",
    "\n",
    "Nested cross validation:\n",
    "do an 80/20 stratified split x times\n",
    "within the 80:\n",
    "do another 80/20 split y times\n",
    "do this using your different possible hyper parameter models\n",
    "\n",
    "Choose the one with the best outer loop cross validation performance\n",
    "apply inner procedure to entire data set and use found hyper parameter for final model\n",
    "then train on entire data set\n",
    "\n",
    "https://scikit-learn.org/stable/modules/grid_search.html"
   ]
  },
  {
   "cell_type": "code",
   "execution_count": null,
   "metadata": {},
   "outputs": [],
   "source": [
    "import pandas as pd\n",
    "import processor as pr\n",
    "import loader as load\n",
    "import predictor as pred\n",
    "import config\n",
    "\n",
    "from sklearn.model_selection import train_test_split, StratifiedKFold, GridSearchCV, cross_val_score\n",
    "from sklearn.linear_model import LogisticRegression, LinearRegression, ElasticNet\n",
    "from sklearn.svm import SVC\n",
    "from sklearn.metrics import accuracy_score, classification_report, average_precision_score, log_loss, mean_squared_error\n",
    "\n",
    "data, files = load.loadAll(includeStage=True, sameSamples=True, skipGenes=False, skipAE=True)"
   ]
  },
  {
   "cell_type": "code",
   "execution_count": null,
   "metadata": {},
   "outputs": [],
   "source": [
    "ge = data[1]\n",
    "stage_data = load.attachStageStatus(ge)\n",
    "x, y = pr.splitData(stage_data, target=\"stage\", project=\"STAD\")"
   ]
  },
  {
   "cell_type": "code",
   "execution_count": null,
   "metadata": {},
   "outputs": [],
   "source": [
    "y.value_counts()"
   ]
  },
  {
   "cell_type": "code",
   "execution_count": null,
   "metadata": {},
   "outputs": [],
   "source": [
    "# https://aicorespot.io/how-to-produce-elastic-net-regression-models-in-python/\n",
    "\n",
    "estimator = ElasticNet(random_state=0)\n",
    "estimator.get_params()\n",
    "\n",
    "param_grid = {\n",
    "    \"alpha\" : [1e-5, 1e-4, 1e-3, 1e-2, 1e-1, 0.0, 1.0, 10.0, 100.0],\n",
    "    \"l1_ratio\" : [step/10 for step in range(0, 10)]\n",
    "}\n",
    "# takes 2 minutes for 2 iterations\n",
    "# for i in range(config.random_sampling_iterations):\n",
    "for i in range(2):\n",
    "    inner_cv = StratifiedKFold(n_splits=5, shuffle=True, random_state=i)\n",
    "    x_inner, x_test, y_inner, y_test = train_test_split(x, y, test_size=(1 - config.random_sampling_training_portion), stratify=y, random_state=42+i)\n",
    "\n",
    "    grid_search = GridSearchCV(\n",
    "        estimator=estimator,\n",
    "        param_grid=param_grid,\n",
    "        cv=inner_cv,\n",
    "        scoring=\"neg_root_mean_squared_error\", #https://scikit-learn.org/stable/modules/model_evaluation.html#scoring-parameter\n",
    "        refit=True,\n",
    "        return_train_score=True,\n",
    "        n_jobs=6)\n",
    "\n",
    "    grid_search.fit(x_inner, y_inner)\n",
    "    \n",
    "    # Predict on the test set and call accuracy\n",
    "    y_pred_grid = grid_search.predict(x_test)\n",
    "    metric_grid = mean_squared_error(y_test, y_pred_grid, squared=False)\n",
    "\n",
    "    \n",
    "    print(\"best parameters\", grid_search.best_params_)\n",
    "    print(\"best estimator\", grid_search.best_estimator_)\n",
    "    print(\"best score\", grid_search.best_score_)\n",
    "    # print(\"best cv results\", grid_search.cv_results_)\n",
    "    results_d = pd.DataFrame(grid_search.cv_results_)[['mean_test_score', 'std_test_score', 'params']]\n",
    "    \n",
    "    print(results_d)\n",
    "    print(\"best_inner_model current generalization eval:\", metric_grid)"
   ]
  }
 ],
 "metadata": {
  "kernelspec": {
   "display_name": "bacteria",
   "language": "python",
   "name": "python3"
  },
  "language_info": {
   "codemirror_mode": {
    "name": "ipython",
    "version": 3
   },
   "file_extension": ".py",
   "mimetype": "text/x-python",
   "name": "python",
   "nbconvert_exporter": "python",
   "pygments_lexer": "ipython3",
   "version": "3.9.4 (default, Apr  9 2021, 11:43:21) [MSC v.1916 64 bit (AMD64)]"
  },
  "orig_nbformat": 4,
  "vscode": {
   "interpreter": {
    "hash": "5c9c23c68e4133fb152380ec4059b1f78568734598c8159b0962b671d1bd3454"
   }
  }
 },
 "nbformat": 4,
 "nbformat_minor": 2
}
