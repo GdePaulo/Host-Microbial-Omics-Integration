{
 "cells": [
  {
   "cell_type": "code",
   "execution_count": null,
   "metadata": {},
   "outputs": [],
   "source": [
    "import pandas as pd\n",
    "\n",
    "type = \"phylum\"\n",
    "\n",
    "b = pd.read_csv(f'Data/TCMA/Raw/bacteria.sample.relabund.{type}.txt', delimiter = \"\\t\", index_col=0).T\n",
    "m = pd.read_csv(f'Data/TCMA/Raw/sample_metadata.{type}.txt', delimiter = \"\\t\", index_col=0)\n",
    "# print(b.head(1))\n",
    "# print(m[\"project\"].head(1))\n",
    "with_project = b.join(m[\"project\"], how=\"inner\")\n",
    "# print(with_project.info())\n",
    "# b.info()\n",
    "\n",
    "# with_project.to_csv(f\"Data/TCMA/all_cancers_{type}.csv\")\n",
    "\n",
    "print(m.columns)"
   ]
  },
  {
   "cell_type": "code",
   "execution_count": null,
   "metadata": {},
   "outputs": [],
   "source": [
    "\n",
    "aak_ge_clinical = pd.read_csv('Data/Aak_Study/GE(Aakash)_Clinical_Data.tsv', delimiter = \"\\t\", index_col=0)\n",
    "print(aak_ge_clinical.columns)\n",
    "aak_ge_clinical[\"stage\"]"
   ]
  },
  {
   "cell_type": "code",
   "execution_count": null,
   "metadata": {},
   "outputs": [],
   "source": [
    "import loader as load\n",
    "import pandas as pd\n",
    "# tst = load.loadGEWithClinical(includeStage=True)\n",
    "# load.createGEOverlappingTCMA(\"Phylum\", includeStage=True)\n",
    "# tst.head(2)"
   ]
  },
  {
   "cell_type": "code",
   "execution_count": null,
   "metadata": {},
   "outputs": [],
   "source": [
    "\n",
    "def getCancerValueTypes(df, feature):\n",
    "    result = \"\"\n",
    "    for c in [\"COAD\", \"ESCA\", \"HNSC\", \"READ\", \"STAD\"]:\n",
    "        result += (f\" Cancer: {c} \")\n",
    "        current = df[df[\"project\"]==c]\n",
    "        \n",
    "        result += str(current[[feature]].value_counts(dropna=False))\n",
    "    return result"
   ]
  },
  {
   "cell_type": "code",
   "execution_count": null,
   "metadata": {},
   "outputs": [],
   "source": [
    "phyl_aak_ge_stage = load.loadGEOverlappingTCMA(\"phylum\", includeStage=True) \n",
    "with_stage = load.attachStageStatus(phyl_aak_ge_stage)\n",
    "stages = getCancerValueTypes(with_stage, \"stage\")\n",
    "load.saveDescriptor(stages, r'Data\\Descriptor\\Description\\tcma_ge(aakash)_stage.txt')\n",
    "\n",
    "# phyl_aak_ge = load.loadGEOverlappingTCMA(\"phylum\") \n",
    "# load.attachTumorStatus(phyl_aak_ge)\n",
    "# tumors = getCancerValueTypes(phyl_aak_ge, \"tumor\")\n",
    "# load.saveDescriptor(tumors, r'Data\\Descriptor\\tcma_ge(aakash)_tumor.txt')\n",
    "\n",
    "# # Same for genus as well\n",
    "# phyl = load.loadTCMA(\"phylum\") \n",
    "# load.attachTumorStatus(phyl)\n",
    "# tumors = getCancerValueTypes(phyl, \"tumor\")\n",
    "# load.saveDescriptor(tumors, r'Data\\Descriptor\\tcma_tumor.txt')\n",
    "\n",
    "# aak_ge = load.loadGEWithClinical() \n",
    "# load.attachTumorStatus(aak_ge)\n",
    "# tumors = getCancerValueTypes(aak_ge, \"tumor\")\n",
    "# load.saveDescriptor(tumors, r'Data\\Descriptor\\ge(aakash)_tumor.txt')"
   ]
  },
  {
   "cell_type": "code",
   "execution_count": null,
   "metadata": {},
   "outputs": [],
   "source": [
    "# no_stage = phyl_aak_ge_stage.iloc[:, :-1]\n",
    "with_stage = load.attachStageStatus(phyl_aak_ge_stage)\n",
    "with_stage.head(2)"
   ]
  },
  {
   "cell_type": "code",
   "execution_count": null,
   "metadata": {},
   "outputs": [],
   "source": [
    "raw_ge = load.loadGE()"
   ]
  },
  {
   "cell_type": "code",
   "execution_count": null,
   "metadata": {},
   "outputs": [],
   "source": [
    "load.attachTumorStatus(raw_ge)\n",
    "t = phyl_aak_ge_stage[phyl_aak_ge_stage[\"project\"]==\"STAD\"]\n",
    "indices = t[t[\"tumor\"]==0].index\n",
    "print(f\"length of overlap {len(t)}\")\n",
    "# print(f\"what \", aak_ge.loc[\"TCGA-BR-6453-11\"])\n",
    "# print(raw_ge.index.tolist())\n",
    "for i in indices:\n",
    "    print(f\"---{i}:\")\n",
    "    # print(aak_ge.loc[i])\n",
    "    print(raw_ge.loc[i][\"tumor\"])\n",
    "    # print(aak_ge.loc[i][\"tumor\"].values[0])\n"
   ]
  }
 ],
 "metadata": {
  "interpreter": {
   "hash": "5c9c23c68e4133fb152380ec4059b1f78568734598c8159b0962b671d1bd3454"
  },
  "kernelspec": {
   "display_name": "Python 3.9.4 ('bacteria')",
   "language": "python",
   "name": "python3"
  },
  "language_info": {
   "codemirror_mode": {
    "name": "ipython",
    "version": 3
   },
   "file_extension": ".py",
   "mimetype": "text/x-python",
   "name": "python",
   "nbconvert_exporter": "python",
   "pygments_lexer": "ipython3",
   "version": "3.9.4 (default, Apr  9 2021, 11:43:21) [MSC v.1916 64 bit (AMD64)]"
  },
  "orig_nbformat": 4
 },
 "nbformat": 4,
 "nbformat_minor": 2
}
