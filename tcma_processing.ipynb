{
 "cells": [
  {
   "cell_type": "code",
   "execution_count": 1,
   "metadata": {},
   "outputs": [
    {
     "name": "stdout",
     "output_type": "stream",
     "text": [
      "Index(['case_id', 'Sample', 'biospecimen_sequence', 'composition',\n",
      "       'current_weight', 'days_to_collection', 'days_to_sample_procurement',\n",
      "       'freezing_method', 'initial_weight', 'intermediate_dimension',\n",
      "       'is_ffpe', 'longest_dimension', 'method_of_sample_procurement',\n",
      "       'oct_embedded', 'other_method_of_sample_procurement',\n",
      "       'pathology_report_file_name', 'pathology_report_uuid',\n",
      "       'preservation_method', 'sample_type', 'sample_type_id',\n",
      "       'shortest_dimension', 'time_between_clamping_and_freezing',\n",
      "       'time_between_excision_and_freezing', 'tissue_type', 'tumor_descriptor',\n",
      "       'vial_number', 'sample_code', 'Definition', 'ShortLetterCode',\n",
      "       'AnatomicSite', 'DNA_concentration', 'DNA_quant_method', 'DNA_quantity',\n",
      "       'DNA_volume', 'ProcurementMethod', 'anatomic_site',\n",
      "       'bcr_patient_barcode', 'burkitt_clinical_variant',\n",
      "       'ffpe_slide_submitted_indicator', 'histologic_diagnosis',\n",
      "       'histologic_dx_consistent', 'histologic_dx_inconsistent_reason',\n",
      "       'history_neoadjuvant_treatment', 'history_other_malignancy',\n",
      "       'image_submitted', 'necrosis_percent',\n",
      "       'necrosis_requirements_indicator', 'patient_consent_days_to',\n",
      "       'patient_consent_status', 'prescreened_at_tss', 'procurement_country',\n",
      "       'procurement_days_to', 'procurement_method', 'procurement_method_other',\n",
      "       'proximity_to_tumor', 'ship_vessel_other', 'site_of_disease',\n",
      "       'site_of_disease_description', 'site_of_disease_text', 'site_other',\n",
      "       'submitted_for_lce', 'top_slide_submitted',\n",
      "       'tss_pathology_review_days_to', 'tss_pathology_submitted',\n",
      "       'tumor_nuclei_percent', 'tumor_nuclei_requirements_indicator',\n",
      "       'vessel_used', 'weight', 'bcr_slide_barcode', 'slide_id',\n",
      "       'image_file_name', 'is_derived_from_ffpe',\n",
      "       'percent_lymphocyte_infiltration', 'percent_monocyte_infiltration',\n",
      "       'percent_necrosis', 'percent_neutrophil_infiltration',\n",
      "       'percent_normal_cells', 'percent_stromal_cells', 'percent_tumor_cells',\n",
      "       'percent_tumor_nuclei', 'project', 'ffpe_tumor_slide_submitted',\n",
      "       'HistologicalType'],\n",
      "      dtype='object')\n"
     ]
    }
   ],
   "source": [
    "import pandas as pd\n",
    "\n",
    "type = \"phylum\"\n",
    "\n",
    "b = pd.read_csv(f'Data/TCMA/Raw/bacteria.sample.relabund.{type}.txt', delimiter = \"\\t\", index_col=0).T\n",
    "m = pd.read_csv(f'Data/TCMA/Raw/sample_metadata.{type}.txt', delimiter = \"\\t\", index_col=0)\n",
    "# print(b.head(1))\n",
    "# print(m[\"project\"].head(1))\n",
    "with_project = b.join(m[\"project\"], how=\"inner\")\n",
    "# print(with_project.info())\n",
    "# b.info()\n",
    "\n",
    "# with_project.to_csv(f\"Data/TCMA/all_cancers_{type}.csv\")\n",
    "\n",
    "print(m.columns)"
   ]
  },
  {
   "cell_type": "code",
   "execution_count": 2,
   "metadata": {},
   "outputs": [
    {
     "name": "stdout",
     "output_type": "stream",
     "text": [
      "Index(['ethnicity', 'year_of_diagnosis', 'gender', 'race', 'organ',\n",
      "       'percent_tumor_nuclei', 'age_at_diagnosis', 'sample_type',\n",
      "       'analysis_center', 'vital_status', 'acronym', 'portion_id', 'disease',\n",
      "       'drug', 'platform', 'stage'],\n",
      "      dtype='object')\n"
     ]
    },
    {
     "data": {
      "text/plain": [
       "sample_id\n",
       "TCGA-CD-8534      Stage II\n",
       "TCGA-ER-A19A      Stage IV\n",
       "TCGA-C5-A1M8           NaN\n",
       "TCGA-D1-A0ZN           NaN\n",
       "TCGA-EM-A4FF       Stage I\n",
       "                   ...    \n",
       "TCGA-60-2724    Stage IIIA\n",
       "TCGA-HE-A5NK           NaN\n",
       "TCGA-ZF-A9RC     Stage III\n",
       "TCGA-E9-A1R7     Stage IIA\n",
       "TCGA-DD-AA3A       Stage I\n",
       "Name: stage, Length: 11284, dtype: object"
      ]
     },
     "execution_count": 2,
     "metadata": {},
     "output_type": "execute_result"
    }
   ],
   "source": [
    "\n",
    "aak_ge_clinical = pd.read_csv('Data/Aak_Study/GE(Aakash)_Clinical_Data.tsv', delimiter = \"\\t\", index_col=0)\n",
    "print(aak_ge_clinical.columns)\n",
    "aak_ge_clinical[\"stage\"]"
   ]
  },
  {
   "cell_type": "code",
   "execution_count": 2,
   "metadata": {},
   "outputs": [],
   "source": [
    "import loader as load\n",
    "# tst = load.loadGEWithClinical(includeStage=True)\n",
    "# load.createGEOverlappingTCMA(\"Phylum\", includeStage=True)\n",
    "# tst.head(2)"
   ]
  },
  {
   "cell_type": "code",
   "execution_count": 3,
   "metadata": {},
   "outputs": [],
   "source": [
    "\n",
    "def getCancerValueTypes(df, feature):\n",
    "    result = \"\"\n",
    "    for c in [\"COAD\", \"ESCA\", \"HNSC\", \"READ\", \"STAD\"]:\n",
    "        result += (f\" Cancer: {c} \")\n",
    "        current = df[df[\"project\"]==c]\n",
    "        \n",
    "        result += str(current[[feature]].value_counts(dropna=False))\n",
    "    return result"
   ]
  },
  {
   "cell_type": "code",
   "execution_count": 4,
   "metadata": {},
   "outputs": [
    {
     "name": "stdout",
     "output_type": "stream",
     "text": [
      "Types: acronym       object\n",
      "portion_id    object\n",
      "dtype: object\n"
     ]
    },
    {
     "name": "stderr",
     "output_type": "stream",
     "text": [
      "c:\\Users\\Ameno\\Desktop\\Life\\Thesis\\Host-Microbial-Omics-Integration\\loader.py:23: SettingWithCopyWarning: \n",
      "A value is trying to be set on a copy of a slice from a DataFrame.\n",
      "Try using .loc[row_indexer,col_indexer] = value instead\n",
      "\n",
      "See the caveats in the documentation: https://pandas.pydata.org/pandas-docs/stable/user_guide/indexing.html#returning-a-view-versus-a-copy\n",
      "  aak_ge_clinical_types[\"portion_id\"] = aak_ge_clinical_types.apply(lambda row: str(row.portion_id)[:-4], axis=1)\n",
      "c:\\Users\\Ameno\\Desktop\\Life\\Thesis\\Host-Microbial-Omics-Integration\\loader.py:24: SettingWithCopyWarning: \n",
      "A value is trying to be set on a copy of a slice from a DataFrame\n",
      "\n",
      "See the caveats in the documentation: https://pandas.pydata.org/pandas-docs/stable/user_guide/indexing.html#returning-a-view-versus-a-copy\n",
      "  aak_ge_clinical_types.drop_duplicates([\"portion_id\"], inplace=True)\n"
     ]
    },
    {
     "name": "stdout",
     "output_type": "stream",
     "text": [
      "clityps:                 acronym\n",
      "portion_id             \n",
      "TCGA-CD-8534-01    STAD\n",
      "TCGA-ER-A19A-06    SKCM\n",
      "TCGA-C5-A1M8-01    CESC\n",
      "TCGA-D1-A0ZN-01    UCEC\n",
      "reg:                    RPS4Y1      XIST      KRT5  AGR2  CEACAM5     KRT6A  \\\n",
      "TCGA-02-0047-01  0.678296  0.289910  0.034230   0.0      0.0  0.084731   \n",
      "TCGA-02-0055-01  0.200633  0.654917  0.181993   0.0      0.0  0.100606   \n",
      "TCGA-02-2483-01  0.785980  0.140842  0.081082   0.0      0.0  0.000000   \n",
      "TCGA-02-2485-01  0.720258  0.122554  0.180042   0.0      0.0  0.000000   \n",
      "\n",
      "                    KRT14   CEACAM6     DDX3Y     KDM5D  ...   FAM129A  \\\n",
      "TCGA-02-0047-01  0.031863  0.037709  0.746797  0.687833  ...  0.440610   \n",
      "TCGA-02-0055-01  0.050011  0.092586  0.103725  0.140642  ...  0.620658   \n",
      "TCGA-02-2483-01  0.000000  0.000000  0.730648  0.657189  ...  0.437658   \n",
      "TCGA-02-2485-01  0.000000  0.000000  0.720306  0.719855  ...  0.553306   \n",
      "\n",
      "                  C8orf48    CDK5R1    FAM81A  C13orf18     GDPD3     SMAGP  \\\n",
      "TCGA-02-0047-01  0.428782  0.732819  0.634340  0.580662  0.294313  0.458134   \n",
      "TCGA-02-0055-01  0.363207  0.592269  0.602755  0.610192  0.374569  0.722420   \n",
      "TCGA-02-2483-01  0.471489  0.868774  0.471141  0.487212  0.385521  0.466642   \n",
      "TCGA-02-2485-01  0.373344  0.818608  0.691962  0.635023  0.430647  0.453690   \n",
      "\n",
      "                  C2orf85   POU5F1B     CHST2  \n",
      "TCGA-02-0047-01  0.478219  0.168263  0.638497  \n",
      "TCGA-02-0055-01  0.271356  0.160465  0.602560  \n",
      "TCGA-02-2483-01  0.784059  0.160797  0.557074  \n",
      "TCGA-02-2485-01  0.364494  0.161363  0.607895  \n",
      "\n",
      "[4 rows x 5000 columns]\n"
     ]
    }
   ],
   "source": [
    "phyl_aak_ge_stage = load.loadGEOverlappingTCMA(\"phylum\", includeStage=True) \n",
    "\n",
    "stages = getCancerValueTypes(phyl_aak_ge_stage, \"stage\")\n",
    "load.saveDescriptor(stages, r'Data\\Descriptor\\tcma_ge(aakash)_stage.txt')\n",
    "\n",
    "phyl_aak_ge = load.loadGEOverlappingTCMA(\"phylum\") \n",
    "load.attachTumorStatus(phyl_aak_ge)\n",
    "tumors = getCancerValueTypes(phyl_aak_ge, \"tumor\")\n",
    "load.saveDescriptor(tumors, r'Data\\Descriptor\\tcma_ge(aakash)_tumor.txt')\n",
    "\n",
    "# Same for genus as well\n",
    "phyl = load.loadTCMA(\"phylum\") \n",
    "load.attachTumorStatus(phyl)\n",
    "tumors = getCancerValueTypes(phyl, \"tumor\")\n",
    "load.saveDescriptor(tumors, r'Data\\Descriptor\\tcma_tumor.txt')\n",
    "\n",
    "aak_ge = load.loadGEWithClinical() \n",
    "load.attachTumorStatus(aak_ge)\n",
    "tumors = getCancerValueTypes(aak_ge, \"tumor\")\n",
    "load.saveDescriptor(tumors, r'Data\\Descriptor\\ge(aakash)_tumor.txt')"
   ]
  },
  {
   "cell_type": "code",
   "execution_count": 5,
   "metadata": {},
   "outputs": [],
   "source": [
    "raw_ge = load.loadGE()"
   ]
  },
  {
   "cell_type": "code",
   "execution_count": 6,
   "metadata": {},
   "outputs": [
    {
     "ename": "KeyError",
     "evalue": "'tumor'",
     "output_type": "error",
     "traceback": [
      "\u001b[1;31m---------------------------------------------------------------------------\u001b[0m",
      "\u001b[1;31mKeyError\u001b[0m                                  Traceback (most recent call last)",
      "File \u001b[1;32mc:\\Users\\Ameno\\Anaconda3\\envs\\bacteria\\lib\\site-packages\\pandas\\core\\indexes\\base.py:3621\u001b[0m, in \u001b[0;36mIndex.get_loc\u001b[1;34m(self, key, method, tolerance)\u001b[0m\n\u001b[0;32m   <a href='file:///c%3A/Users/Ameno/Anaconda3/envs/bacteria/lib/site-packages/pandas/core/indexes/base.py?line=3619'>3620</a>\u001b[0m \u001b[39mtry\u001b[39;00m:\n\u001b[1;32m-> <a href='file:///c%3A/Users/Ameno/Anaconda3/envs/bacteria/lib/site-packages/pandas/core/indexes/base.py?line=3620'>3621</a>\u001b[0m     \u001b[39mreturn\u001b[39;00m \u001b[39mself\u001b[39;49m\u001b[39m.\u001b[39;49m_engine\u001b[39m.\u001b[39;49mget_loc(casted_key)\n\u001b[0;32m   <a href='file:///c%3A/Users/Ameno/Anaconda3/envs/bacteria/lib/site-packages/pandas/core/indexes/base.py?line=3621'>3622</a>\u001b[0m \u001b[39mexcept\u001b[39;00m \u001b[39mKeyError\u001b[39;00m \u001b[39mas\u001b[39;00m err:\n",
      "File \u001b[1;32mc:\\Users\\Ameno\\Anaconda3\\envs\\bacteria\\lib\\site-packages\\pandas\\_libs\\index.pyx:136\u001b[0m, in \u001b[0;36mpandas._libs.index.IndexEngine.get_loc\u001b[1;34m()\u001b[0m\n",
      "File \u001b[1;32mc:\\Users\\Ameno\\Anaconda3\\envs\\bacteria\\lib\\site-packages\\pandas\\_libs\\index.pyx:163\u001b[0m, in \u001b[0;36mpandas._libs.index.IndexEngine.get_loc\u001b[1;34m()\u001b[0m\n",
      "File \u001b[1;32mpandas\\_libs\\hashtable_class_helper.pxi:5198\u001b[0m, in \u001b[0;36mpandas._libs.hashtable.PyObjectHashTable.get_item\u001b[1;34m()\u001b[0m\n",
      "File \u001b[1;32mpandas\\_libs\\hashtable_class_helper.pxi:5206\u001b[0m, in \u001b[0;36mpandas._libs.hashtable.PyObjectHashTable.get_item\u001b[1;34m()\u001b[0m\n",
      "\u001b[1;31mKeyError\u001b[0m: 'tumor'",
      "\nThe above exception was the direct cause of the following exception:\n",
      "\u001b[1;31mKeyError\u001b[0m                                  Traceback (most recent call last)",
      "\u001b[1;32mc:\\Users\\Ameno\\Desktop\\Life\\Thesis\\Host-Microbial-Omics-Integration\\tcma_processing.ipynb Cell 7'\u001b[0m in \u001b[0;36m<cell line: 3>\u001b[1;34m()\u001b[0m\n\u001b[0;32m      <a href='vscode-notebook-cell:/c%3A/Users/Ameno/Desktop/Life/Thesis/Host-Microbial-Omics-Integration/tcma_processing.ipynb#ch0000005?line=0'>1</a>\u001b[0m load\u001b[39m.\u001b[39mattachTumorStatus(raw_ge)\n\u001b[0;32m      <a href='vscode-notebook-cell:/c%3A/Users/Ameno/Desktop/Life/Thesis/Host-Microbial-Omics-Integration/tcma_processing.ipynb#ch0000005?line=1'>2</a>\u001b[0m t \u001b[39m=\u001b[39m phyl_aak_ge_stage[phyl_aak_ge_stage[\u001b[39m\"\u001b[39m\u001b[39mproject\u001b[39m\u001b[39m\"\u001b[39m]\u001b[39m==\u001b[39m\u001b[39m\"\u001b[39m\u001b[39mSTAD\u001b[39m\u001b[39m\"\u001b[39m]\n\u001b[1;32m----> <a href='vscode-notebook-cell:/c%3A/Users/Ameno/Desktop/Life/Thesis/Host-Microbial-Omics-Integration/tcma_processing.ipynb#ch0000005?line=2'>3</a>\u001b[0m indices \u001b[39m=\u001b[39m t[t[\u001b[39m\"\u001b[39;49m\u001b[39mtumor\u001b[39;49m\u001b[39m\"\u001b[39;49m]\u001b[39m==\u001b[39m\u001b[39m0\u001b[39m]\u001b[39m.\u001b[39mindex\n\u001b[0;32m      <a href='vscode-notebook-cell:/c%3A/Users/Ameno/Desktop/Life/Thesis/Host-Microbial-Omics-Integration/tcma_processing.ipynb#ch0000005?line=3'>4</a>\u001b[0m \u001b[39mprint\u001b[39m(\u001b[39mf\u001b[39m\u001b[39m\"\u001b[39m\u001b[39mlength of overlap \u001b[39m\u001b[39m{\u001b[39;00m\u001b[39mlen\u001b[39m(t)\u001b[39m}\u001b[39;00m\u001b[39m\"\u001b[39m)\n\u001b[0;32m      <a href='vscode-notebook-cell:/c%3A/Users/Ameno/Desktop/Life/Thesis/Host-Microbial-Omics-Integration/tcma_processing.ipynb#ch0000005?line=4'>5</a>\u001b[0m \u001b[39m# print(f\"what \", aak_ge.loc[\"TCGA-BR-6453-11\"])\u001b[39;00m\n\u001b[0;32m      <a href='vscode-notebook-cell:/c%3A/Users/Ameno/Desktop/Life/Thesis/Host-Microbial-Omics-Integration/tcma_processing.ipynb#ch0000005?line=5'>6</a>\u001b[0m \u001b[39m# print(raw_ge.index.tolist())\u001b[39;00m\n",
      "File \u001b[1;32mc:\\Users\\Ameno\\Anaconda3\\envs\\bacteria\\lib\\site-packages\\pandas\\core\\frame.py:3505\u001b[0m, in \u001b[0;36mDataFrame.__getitem__\u001b[1;34m(self, key)\u001b[0m\n\u001b[0;32m   <a href='file:///c%3A/Users/Ameno/Anaconda3/envs/bacteria/lib/site-packages/pandas/core/frame.py?line=3502'>3503</a>\u001b[0m \u001b[39mif\u001b[39;00m \u001b[39mself\u001b[39m\u001b[39m.\u001b[39mcolumns\u001b[39m.\u001b[39mnlevels \u001b[39m>\u001b[39m \u001b[39m1\u001b[39m:\n\u001b[0;32m   <a href='file:///c%3A/Users/Ameno/Anaconda3/envs/bacteria/lib/site-packages/pandas/core/frame.py?line=3503'>3504</a>\u001b[0m     \u001b[39mreturn\u001b[39;00m \u001b[39mself\u001b[39m\u001b[39m.\u001b[39m_getitem_multilevel(key)\n\u001b[1;32m-> <a href='file:///c%3A/Users/Ameno/Anaconda3/envs/bacteria/lib/site-packages/pandas/core/frame.py?line=3504'>3505</a>\u001b[0m indexer \u001b[39m=\u001b[39m \u001b[39mself\u001b[39;49m\u001b[39m.\u001b[39;49mcolumns\u001b[39m.\u001b[39;49mget_loc(key)\n\u001b[0;32m   <a href='file:///c%3A/Users/Ameno/Anaconda3/envs/bacteria/lib/site-packages/pandas/core/frame.py?line=3505'>3506</a>\u001b[0m \u001b[39mif\u001b[39;00m is_integer(indexer):\n\u001b[0;32m   <a href='file:///c%3A/Users/Ameno/Anaconda3/envs/bacteria/lib/site-packages/pandas/core/frame.py?line=3506'>3507</a>\u001b[0m     indexer \u001b[39m=\u001b[39m [indexer]\n",
      "File \u001b[1;32mc:\\Users\\Ameno\\Anaconda3\\envs\\bacteria\\lib\\site-packages\\pandas\\core\\indexes\\base.py:3623\u001b[0m, in \u001b[0;36mIndex.get_loc\u001b[1;34m(self, key, method, tolerance)\u001b[0m\n\u001b[0;32m   <a href='file:///c%3A/Users/Ameno/Anaconda3/envs/bacteria/lib/site-packages/pandas/core/indexes/base.py?line=3620'>3621</a>\u001b[0m     \u001b[39mreturn\u001b[39;00m \u001b[39mself\u001b[39m\u001b[39m.\u001b[39m_engine\u001b[39m.\u001b[39mget_loc(casted_key)\n\u001b[0;32m   <a href='file:///c%3A/Users/Ameno/Anaconda3/envs/bacteria/lib/site-packages/pandas/core/indexes/base.py?line=3621'>3622</a>\u001b[0m \u001b[39mexcept\u001b[39;00m \u001b[39mKeyError\u001b[39;00m \u001b[39mas\u001b[39;00m err:\n\u001b[1;32m-> <a href='file:///c%3A/Users/Ameno/Anaconda3/envs/bacteria/lib/site-packages/pandas/core/indexes/base.py?line=3622'>3623</a>\u001b[0m     \u001b[39mraise\u001b[39;00m \u001b[39mKeyError\u001b[39;00m(key) \u001b[39mfrom\u001b[39;00m \u001b[39merr\u001b[39;00m\n\u001b[0;32m   <a href='file:///c%3A/Users/Ameno/Anaconda3/envs/bacteria/lib/site-packages/pandas/core/indexes/base.py?line=3623'>3624</a>\u001b[0m \u001b[39mexcept\u001b[39;00m \u001b[39mTypeError\u001b[39;00m:\n\u001b[0;32m   <a href='file:///c%3A/Users/Ameno/Anaconda3/envs/bacteria/lib/site-packages/pandas/core/indexes/base.py?line=3624'>3625</a>\u001b[0m     \u001b[39m# If we have a listlike key, _check_indexing_error will raise\u001b[39;00m\n\u001b[0;32m   <a href='file:///c%3A/Users/Ameno/Anaconda3/envs/bacteria/lib/site-packages/pandas/core/indexes/base.py?line=3625'>3626</a>\u001b[0m     \u001b[39m#  InvalidIndexError. Otherwise we fall through and re-raise\u001b[39;00m\n\u001b[0;32m   <a href='file:///c%3A/Users/Ameno/Anaconda3/envs/bacteria/lib/site-packages/pandas/core/indexes/base.py?line=3626'>3627</a>\u001b[0m     \u001b[39m#  the TypeError.\u001b[39;00m\n\u001b[0;32m   <a href='file:///c%3A/Users/Ameno/Anaconda3/envs/bacteria/lib/site-packages/pandas/core/indexes/base.py?line=3627'>3628</a>\u001b[0m     \u001b[39mself\u001b[39m\u001b[39m.\u001b[39m_check_indexing_error(key)\n",
      "\u001b[1;31mKeyError\u001b[0m: 'tumor'"
     ]
    }
   ],
   "source": [
    "load.attachTumorStatus(raw_ge)\n",
    "t = phyl_aak_ge_stage[phyl_aak_ge_stage[\"project\"]==\"STAD\"]\n",
    "indices = t[t[\"tumor\"]==0].index\n",
    "print(f\"length of overlap {len(t)}\")\n",
    "# print(f\"what \", aak_ge.loc[\"TCGA-BR-6453-11\"])\n",
    "# print(raw_ge.index.tolist())\n",
    "for i in indices:\n",
    "    print(f\"---{i}:\")\n",
    "    # print(aak_ge.loc[i])\n",
    "    print(raw_ge.loc[i][\"tumor\"])\n",
    "    # print(aak_ge.loc[i][\"tumor\"].values[0])\n"
   ]
  }
 ],
 "metadata": {
  "interpreter": {
   "hash": "5c9c23c68e4133fb152380ec4059b1f78568734598c8159b0962b671d1bd3454"
  },
  "kernelspec": {
   "display_name": "Python 3.9.4 ('bacteria')",
   "language": "python",
   "name": "python3"
  },
  "language_info": {
   "codemirror_mode": {
    "name": "ipython",
    "version": 3
   },
   "file_extension": ".py",
   "mimetype": "text/x-python",
   "name": "python",
   "nbconvert_exporter": "python",
   "pygments_lexer": "ipython3",
   "version": "3.9.4"
  },
  "orig_nbformat": 4
 },
 "nbformat": 4,
 "nbformat_minor": 2
}
