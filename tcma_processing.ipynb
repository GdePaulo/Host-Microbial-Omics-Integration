{
 "cells": [
  {
   "cell_type": "code",
   "execution_count": null,
   "metadata": {},
   "outputs": [],
   "source": [
    "import pandas as pd\n",
    "\n",
    "type = \"phylum\"\n",
    "\n",
    "b = pd.read_csv(f'Data/TCMA/Raw/bacteria.sample.relabund.{type}.txt', delimiter = \"\\t\", index_col=0).T\n",
    "m = pd.read_csv(f'Data/TCMA/Raw/sample_metadata.{type}.txt', delimiter = \"\\t\", index_col=0)\n",
    "# print(b.head(1))\n",
    "# print(m[\"project\"].head(1))\n",
    "with_project = b.join(m[\"project\"], how=\"inner\")\n",
    "# print(with_project.info())\n",
    "# b.info()\n",
    "\n",
    "# with_project.to_csv(f\"Data/TCMA/all_cancers_{type}.csv\")\n",
    "\n",
    "print(m.columns)"
   ]
  },
  {
   "cell_type": "code",
   "execution_count": null,
   "metadata": {},
   "outputs": [],
   "source": [
    "\n",
    "aak_ge_clinical = pd.read_csv('Data/Aak_Study/GE(Aakash)_Clinical_Data.tsv', delimiter = \"\\t\", index_col=0)\n",
    "print(aak_ge_clinical.columns)\n",
    "aak_ge_clinical[\"stage\"]"
   ]
  },
  {
   "cell_type": "code",
   "execution_count": 12,
   "metadata": {},
   "outputs": [],
   "source": [
    "import loader as load\n",
    "# tst = load.loadGEWithClinical(includeStage=True)\n",
    "load.createGEOverlappingTCMA(\"Phylum\", includeStage=True)\n",
    "# tst.head(2)"
   ]
  },
  {
   "cell_type": "code",
   "execution_count": 26,
   "metadata": {},
   "outputs": [],
   "source": [
    "phyl_aak_ge_stage = pd.read_csv(r'Data\\Integration\\all_cancers_phylum_ge(aakash)_stage.csv', index_col=0)\n",
    "\n",
    "stages = \"\"\n",
    "for c in [\"COAD\", \"ESCA\", \"HNSC\", \"READ\", \"STAD\"]:\n",
    "    stages += (f\" Cancer: {c} \")\n",
    "    current = phyl_aak_ge_stage[phyl_aak_ge_stage[\"project\"]==c]\n",
    "    \n",
    "    stages += str(current[[\"stage\"]].value_counts(dropna=False))\n",
    "\n",
    "with open(r'Data\\Descriptor\\all_cancers_phylum_ge(aakash)_stage.txt', 'w') as f:\n",
    "    print(stages, file=f)  # Python 3.x\n",
    "\n",
    "# phyl_aak_ge_stage.head(3)\n",
    "# len(phyl_aak_ge_stage)"
   ]
  }
 ],
 "metadata": {
  "interpreter": {
   "hash": "5c9c23c68e4133fb152380ec4059b1f78568734598c8159b0962b671d1bd3454"
  },
  "kernelspec": {
   "display_name": "Python 3.9.4 ('bacteria')",
   "language": "python",
   "name": "python3"
  },
  "language_info": {
   "codemirror_mode": {
    "name": "ipython",
    "version": 3
   },
   "file_extension": ".py",
   "mimetype": "text/x-python",
   "name": "python",
   "nbconvert_exporter": "python",
   "pygments_lexer": "ipython3",
   "version": "3.9.4"
  },
  "orig_nbformat": 4
 },
 "nbformat": 4,
 "nbformat_minor": 2
}
