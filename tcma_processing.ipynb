{
 "cells": [
  {
   "cell_type": "code",
   "execution_count": 17,
   "metadata": {},
   "outputs": [
    {
     "name": "stdout",
     "output_type": "stream",
     "text": [
      "name              Simonsiella  Treponema  Campylobacter  Helicobacter  \\\n",
      "TCGA-CR-6487-01A          0.0        0.0       0.011971           0.0   \n",
      "\n",
      "name              Paracoccus  Comamonas  Pseudomonas  Xanthomonas  \\\n",
      "TCGA-CR-6487-01A         0.0        0.0     0.024628          0.0   \n",
      "\n",
      "name              Agrobacterium  Bradyrhizobium  ...  Merdibacter  \\\n",
      "TCGA-CR-6487-01A            0.0             0.0  ...          0.0   \n",
      "\n",
      "name              Massilioclostridium  Criibacterium  Fournierella  \\\n",
      "TCGA-CR-6487-01A                  0.0            0.0           0.0   \n",
      "\n",
      "name              Lagierella  Urmitella  Colibacter  Alterileibacterium  \\\n",
      "TCGA-CR-6487-01A         0.0        0.0         0.0                 0.0   \n",
      "\n",
      "name              Negativibacillus  Duodenibacillus  \n",
      "TCGA-CR-6487-01A               0.0              0.0  \n",
      "\n",
      "[1 rows x 221 columns]\n",
      "TCGA-CR-6487-01A    HNSC\n",
      "Name: project, dtype: object\n",
      "<class 'pandas.core.frame.DataFrame'>\n",
      "Index: 620 entries, TCGA-CR-6487-01A to TCGA-CD-5813-01A\n",
      "Columns: 222 entries, Simonsiella to project\n",
      "dtypes: float64(221), object(1)\n",
      "memory usage: 1.1+ MB\n",
      "None\n",
      "<class 'pandas.core.frame.DataFrame'>\n",
      "Index: 620 entries, TCGA-CR-6487-01A to TCGA-CD-5813-01A\n",
      "Columns: 221 entries, Simonsiella to Duodenibacillus\n",
      "dtypes: float64(221)\n",
      "memory usage: 1.1+ MB\n"
     ]
    }
   ],
   "source": [
    "import pandas as pd\n",
    "b = pd.read_csv(f'Data/TCMA/bacteria.sample.relabund.genus.txt', delimiter = \"\\t\", index_col=0).T\n",
    "m = pd.read_csv(f'Data/TCMA/sample_metadata.txt', delimiter = \"\\t\", index_col=0)\n",
    "print(b.head(1))\n",
    "print(m[\"project\"].head(1))\n",
    "with_project = b.join(m[\"project\"], how=\"inner\")\n",
    "print(with_project.info())\n",
    "b.info()\n",
    "\n",
    "with_project.to_csv(\"Data/TCMA/all_cancers_genus.csv\")"
   ]
  }
 ],
 "metadata": {
  "interpreter": {
   "hash": "471eca0dc848140133dc64d1932547dad678b609e95c6d148d4173db0d1b72c4"
  },
  "kernelspec": {
   "display_name": "Python 3.9.4 ('bacteria')",
   "language": "python",
   "name": "python3"
  },
  "language_info": {
   "codemirror_mode": {
    "name": "ipython",
    "version": 3
   },
   "file_extension": ".py",
   "mimetype": "text/x-python",
   "name": "python",
   "nbconvert_exporter": "python",
   "pygments_lexer": "ipython3",
   "version": "3.9.4"
  },
  "orig_nbformat": 4
 },
 "nbformat": 4,
 "nbformat_minor": 2
}
