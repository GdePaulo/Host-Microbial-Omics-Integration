{
 "cells": [
  {
   "cell_type": "code",
   "execution_count": 1,
   "metadata": {},
   "outputs": [
    {
     "name": "stdout",
     "output_type": "stream",
     "text": [
      "name              Bacteroidetes  Proteobacteria  Firmicutes  Fusobacteria  \\\n",
      "TCGA-L5-A43C-01A       0.171208        0.301573    0.384799      0.023499   \n",
      "\n",
      "name              Verrucomicrobia  Chloroflexi  Thermotogae  Actinobacteria  \\\n",
      "TCGA-L5-A43C-01A              0.0          0.0          0.0        0.118921   \n",
      "\n",
      "name              Spirochaetes  Synergistetes  Tenericutes  \n",
      "TCGA-L5-A43C-01A           0.0            0.0          0.0  \n",
      "TCGA-L5-A43C-01A    ESCA\n",
      "Name: project, dtype: object\n",
      "<class 'pandas.core.frame.DataFrame'>\n",
      "Index: 620 entries, TCGA-L5-A43C-01A to TCGA-AG-A008-01A\n",
      "Data columns (total 12 columns):\n",
      " #   Column           Non-Null Count  Dtype  \n",
      "---  ------           --------------  -----  \n",
      " 0   Bacteroidetes    620 non-null    float64\n",
      " 1   Proteobacteria   620 non-null    float64\n",
      " 2   Firmicutes       620 non-null    float64\n",
      " 3   Fusobacteria     620 non-null    float64\n",
      " 4   Verrucomicrobia  620 non-null    float64\n",
      " 5   Chloroflexi      620 non-null    float64\n",
      " 6   Thermotogae      620 non-null    float64\n",
      " 7   Actinobacteria   620 non-null    float64\n",
      " 8   Spirochaetes     620 non-null    float64\n",
      " 9   Synergistetes    620 non-null    float64\n",
      " 10  Tenericutes      620 non-null    float64\n",
      " 11  project          620 non-null    object \n",
      "dtypes: float64(11), object(1)\n",
      "memory usage: 79.1+ KB\n",
      "None\n",
      "<class 'pandas.core.frame.DataFrame'>\n",
      "Index: 620 entries, TCGA-L5-A43C-01A to TCGA-AG-A008-01A\n",
      "Data columns (total 11 columns):\n",
      " #   Column           Non-Null Count  Dtype  \n",
      "---  ------           --------------  -----  \n",
      " 0   Bacteroidetes    620 non-null    float64\n",
      " 1   Proteobacteria   620 non-null    float64\n",
      " 2   Firmicutes       620 non-null    float64\n",
      " 3   Fusobacteria     620 non-null    float64\n",
      " 4   Verrucomicrobia  620 non-null    float64\n",
      " 5   Chloroflexi      620 non-null    float64\n",
      " 6   Thermotogae      620 non-null    float64\n",
      " 7   Actinobacteria   620 non-null    float64\n",
      " 8   Spirochaetes     620 non-null    float64\n",
      " 9   Synergistetes    620 non-null    float64\n",
      " 10  Tenericutes      620 non-null    float64\n",
      "dtypes: float64(11)\n",
      "memory usage: 74.3+ KB\n"
     ]
    }
   ],
   "source": [
    "import pandas as pd\n",
    "\n",
    "type = \"phylum\"\n",
    "\n",
    "b = pd.read_csv(f'Data/TCMA/bacteria.sample.relabund.{type}.txt', delimiter = \"\\t\", index_col=0).T\n",
    "m = pd.read_csv(f'Data/TCMA/sample_metadata.{type}.txt', delimiter = \"\\t\", index_col=0)\n",
    "print(b.head(1))\n",
    "print(m[\"project\"].head(1))\n",
    "with_project = b.join(m[\"project\"], how=\"inner\")\n",
    "print(with_project.info())\n",
    "b.info()\n",
    "\n",
    "with_project.to_csv(f\"Data/TCMA/all_cancers_{type}.csv\")"
   ]
  }
 ],
 "metadata": {
  "interpreter": {
   "hash": "5c9c23c68e4133fb152380ec4059b1f78568734598c8159b0962b671d1bd3454"
  },
  "kernelspec": {
   "display_name": "Python 3.9.4 ('bacteria')",
   "language": "python",
   "name": "python3"
  },
  "language_info": {
   "codemirror_mode": {
    "name": "ipython",
    "version": 3
   },
   "file_extension": ".py",
   "mimetype": "text/x-python",
   "name": "python",
   "nbconvert_exporter": "python",
   "pygments_lexer": "ipython3",
   "version": "3.9.4"
  },
  "orig_nbformat": 4
 },
 "nbformat": 4,
 "nbformat_minor": 2
}
