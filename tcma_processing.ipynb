{
 "cells": [
  {
   "cell_type": "code",
   "execution_count": 1,
   "metadata": {},
   "outputs": [
    {
     "name": "stdout",
     "output_type": "stream",
     "text": [
      "Index(['case_id', 'Sample', 'biospecimen_sequence', 'composition',\n",
      "       'current_weight', 'days_to_collection', 'days_to_sample_procurement',\n",
      "       'freezing_method', 'initial_weight', 'intermediate_dimension',\n",
      "       'is_ffpe', 'longest_dimension', 'method_of_sample_procurement',\n",
      "       'oct_embedded', 'other_method_of_sample_procurement',\n",
      "       'pathology_report_file_name', 'pathology_report_uuid',\n",
      "       'preservation_method', 'sample_type', 'sample_type_id',\n",
      "       'shortest_dimension', 'time_between_clamping_and_freezing',\n",
      "       'time_between_excision_and_freezing', 'tissue_type', 'tumor_descriptor',\n",
      "       'vial_number', 'sample_code', 'Definition', 'ShortLetterCode',\n",
      "       'AnatomicSite', 'DNA_concentration', 'DNA_quant_method', 'DNA_quantity',\n",
      "       'DNA_volume', 'ProcurementMethod', 'anatomic_site',\n",
      "       'bcr_patient_barcode', 'burkitt_clinical_variant',\n",
      "       'ffpe_slide_submitted_indicator', 'histologic_diagnosis',\n",
      "       'histologic_dx_consistent', 'histologic_dx_inconsistent_reason',\n",
      "       'history_neoadjuvant_treatment', 'history_other_malignancy',\n",
      "       'image_submitted', 'necrosis_percent',\n",
      "       'necrosis_requirements_indicator', 'patient_consent_days_to',\n",
      "       'patient_consent_status', 'prescreened_at_tss', 'procurement_country',\n",
      "       'procurement_days_to', 'procurement_method', 'procurement_method_other',\n",
      "       'proximity_to_tumor', 'ship_vessel_other', 'site_of_disease',\n",
      "       'site_of_disease_description', 'site_of_disease_text', 'site_other',\n",
      "       'submitted_for_lce', 'top_slide_submitted',\n",
      "       'tss_pathology_review_days_to', 'tss_pathology_submitted',\n",
      "       'tumor_nuclei_percent', 'tumor_nuclei_requirements_indicator',\n",
      "       'vessel_used', 'weight', 'bcr_slide_barcode', 'slide_id',\n",
      "       'image_file_name', 'is_derived_from_ffpe',\n",
      "       'percent_lymphocyte_infiltration', 'percent_monocyte_infiltration',\n",
      "       'percent_necrosis', 'percent_neutrophil_infiltration',\n",
      "       'percent_normal_cells', 'percent_stromal_cells', 'percent_tumor_cells',\n",
      "       'percent_tumor_nuclei', 'project', 'ffpe_tumor_slide_submitted',\n",
      "       'HistologicalType'],\n",
      "      dtype='object')\n"
     ]
    }
   ],
   "source": [
    "import pandas as pd\n",
    "\n",
    "type = \"phylum\"\n",
    "\n",
    "b = pd.read_csv(f'Data/TCMA/Raw/bacteria.sample.relabund.{type}.txt', delimiter = \"\\t\", index_col=0).T\n",
    "m = pd.read_csv(f'Data/TCMA/Raw/sample_metadata.{type}.txt', delimiter = \"\\t\", index_col=0)\n",
    "# print(b.head(1))\n",
    "# print(m[\"project\"].head(1))\n",
    "with_project = b.join(m[\"project\"], how=\"inner\")\n",
    "# print(with_project.info())\n",
    "# b.info()\n",
    "\n",
    "# with_project.to_csv(f\"Data/TCMA/all_cancers_{type}.csv\")\n",
    "\n",
    "print(m.columns)"
   ]
  },
  {
   "cell_type": "code",
   "execution_count": 2,
   "metadata": {},
   "outputs": [
    {
     "name": "stdout",
     "output_type": "stream",
     "text": [
      "Index(['ethnicity', 'year_of_diagnosis', 'gender', 'race', 'organ',\n",
      "       'percent_tumor_nuclei', 'age_at_diagnosis', 'sample_type',\n",
      "       'analysis_center', 'vital_status', 'acronym', 'portion_id', 'disease',\n",
      "       'drug', 'platform', 'stage'],\n",
      "      dtype='object')\n"
     ]
    },
    {
     "data": {
      "text/plain": [
       "sample_id\n",
       "TCGA-CD-8534      Stage II\n",
       "TCGA-ER-A19A      Stage IV\n",
       "TCGA-C5-A1M8           NaN\n",
       "TCGA-D1-A0ZN           NaN\n",
       "TCGA-EM-A4FF       Stage I\n",
       "                   ...    \n",
       "TCGA-60-2724    Stage IIIA\n",
       "TCGA-HE-A5NK           NaN\n",
       "TCGA-ZF-A9RC     Stage III\n",
       "TCGA-E9-A1R7     Stage IIA\n",
       "TCGA-DD-AA3A       Stage I\n",
       "Name: stage, Length: 11284, dtype: object"
      ]
     },
     "execution_count": 2,
     "metadata": {},
     "output_type": "execute_result"
    }
   ],
   "source": [
    "\n",
    "aak_ge_clinical = pd.read_csv('Data/Aak_Study/GE(Aakash)_Clinical_Data.tsv', delimiter = \"\\t\", index_col=0)\n",
    "print(aak_ge_clinical.columns)\n",
    "aak_ge_clinical[\"stage\"]"
   ]
  },
  {
   "cell_type": "code",
   "execution_count": 3,
   "metadata": {},
   "outputs": [],
   "source": [
    "import loader as load\n",
    "# tst = load.loadGEWithClinical(includeStage=True)\n",
    "# load.createGEOverlappingTCMA(\"Phylum\", includeStage=True)\n",
    "# tst.head(2)"
   ]
  },
  {
   "cell_type": "code",
   "execution_count": 9,
   "metadata": {},
   "outputs": [],
   "source": [
    "\n",
    "def getCancerValueTypes(df, feature):\n",
    "    result = \"\"\n",
    "    for c in [\"COAD\", \"ESCA\", \"HNSC\", \"READ\", \"STAD\"]:\n",
    "        result += (f\" Cancer: {c} \")\n",
    "        current = df[df[\"project\"]==c]\n",
    "        \n",
    "        result += str(current[[feature]].value_counts(dropna=False))\n",
    "    return result"
   ]
  },
  {
   "cell_type": "code",
   "execution_count": 38,
   "metadata": {},
   "outputs": [],
   "source": [
    "phyl_aak_ge_stage = load.loadGEOverlappingTCMA(\"phylum\", includeStage=True) \n",
    "\n",
    "stages = getCancerValueTypes(phyl_aak_ge_stage, \"stage\")\n",
    "load.saveDescriptor(stages, r'Data\\Descriptor\\tcma_ge(aakash)_stage.txt')\n",
    "\n",
    "phyl_aak_ge = load.loadGEOverlappingTCMA(\"phylum\") \n",
    "load.attachTumorStatus(phyl_aak_ge)\n",
    "tumors = getCancerValueTypes(phyl_aak_ge, \"tumor\")\n",
    "load.saveDescriptor(tumors, r'Data\\Descriptor\\tcma_ge(aakash)_tumor.txt')\n",
    "\n",
    "# Same for genus as well\n",
    "phyl = load.loadTCMA(\"phylum\") \n",
    "load.attachTumorStatus(phyl)\n",
    "tumors = getCancerValueTypes(phyl, \"tumor\")\n",
    "load.saveDescriptor(tumors, r'Data\\Descriptor\\tcma_tumor.txt')\n",
    "\n",
    "aak_ge = load.loadGEWithClinical() \n",
    "load.attachTumorStatus(aak_ge)\n",
    "tumors = getCancerValueTypes(aak_ge, \"tumor\")\n",
    "load.saveDescriptor(tumors, r'Data\\Descriptor\\ge(aakash)_tumor.txt')"
   ]
  },
  {
   "cell_type": "code",
   "execution_count": 29,
   "metadata": {},
   "outputs": [],
   "source": [
    "raw_ge = load.loadGE()"
   ]
  },
  {
   "cell_type": "code",
   "execution_count": 37,
   "metadata": {},
   "outputs": [
    {
     "name": "stdout",
     "output_type": "stream",
     "text": [
      "length of overlap 140\n",
      "---TCGA-BR-6453-11:\n",
      "0.0\n",
      "---TCGA-BR-6453-11:\n",
      "0.0\n",
      "---TCGA-BR-6454-11:\n",
      "0.0\n",
      "---TCGA-BR-6454-11:\n",
      "0.0\n",
      "---TCGA-CG-5720-11:\n",
      "0.0\n",
      "---TCGA-CG-5720-11:\n",
      "0.0\n",
      "---TCGA-CG-5721-11:\n",
      "0.0\n",
      "---TCGA-CG-5721-11:\n",
      "0.0\n",
      "---TCGA-CG-5722-11:\n",
      "0.0\n",
      "---TCGA-CG-5722-11:\n",
      "0.0\n",
      "---TCGA-CG-5728-11:\n",
      "0.0\n",
      "---TCGA-CG-5730-11:\n",
      "0.0\n",
      "---TCGA-CG-5733-11:\n",
      "0.0\n",
      "---TCGA-CG-5734-11:\n",
      "0.0\n",
      "---TCGA-CG-5734-11:\n",
      "0.0\n"
     ]
    }
   ],
   "source": [
    "load.attachTumorStatus(raw_ge)\n",
    "t = phyl_aak_ge_stage[phyl_aak_ge_stage[\"project\"]==\"STAD\"]\n",
    "indices = t[t[\"tumor\"]==0].index\n",
    "print(f\"length of overlap {len(t)}\")\n",
    "# print(f\"what \", aak_ge.loc[\"TCGA-BR-6453-11\"])\n",
    "# print(raw_ge.index.tolist())\n",
    "for i in indices:\n",
    "    print(f\"---{i}:\")\n",
    "    # print(aak_ge.loc[i])\n",
    "    print(raw_ge.loc[i][\"tumor\"])\n",
    "    # print(aak_ge.loc[i][\"tumor\"].values[0])\n"
   ]
  }
 ],
 "metadata": {
  "interpreter": {
   "hash": "5c9c23c68e4133fb152380ec4059b1f78568734598c8159b0962b671d1bd3454"
  },
  "kernelspec": {
   "display_name": "Python 3.9.4 ('bacteria')",
   "language": "python",
   "name": "python3"
  },
  "language_info": {
   "codemirror_mode": {
    "name": "ipython",
    "version": 3
   },
   "file_extension": ".py",
   "mimetype": "text/x-python",
   "name": "python",
   "nbconvert_exporter": "python",
   "pygments_lexer": "ipython3",
   "version": "3.9.4"
  },
  "orig_nbformat": 4
 },
 "nbformat": 4,
 "nbformat_minor": 2
}
