{
 "cells": [
  {
   "cell_type": "code",
   "execution_count": 31,
   "metadata": {},
   "outputs": [],
   "source": [
    "import pandas as pd\n",
    "# from tuner import computeMetric\n",
    "import numpy as np\n",
    "from sklearn.metrics import confusion_matrix, classification_report, mean_squared_error, f1_score\n",
    "import config\n",
    "from scipy import stats\n",
    "import loader as load\n",
    "\n",
    "\n",
    "def computeMetric(metric, cancer, p, all_pred_outputs, std=True, clamp_prediction_bounds=[]):\n",
    "    current_outputs = all_pred_outputs[(all_pred_outputs.cancer == cancer) & (all_pred_outputs.p == p)]\n",
    "    \n",
    "    metric_means = []\n",
    "    for iteration in current_outputs.iteration.unique():\n",
    "        current_iteration_preds = current_outputs[current_outputs.iteration==iteration]\n",
    "\n",
    "        if metric in [\"precision\", \"recall\", \"f1-score\"]:\n",
    "            cur_report = classification_report(current_iteration_preds.actual, current_iteration_preds.predicted, output_dict=True, zero_division=0)\n",
    "            cur_metric = cur_report[\"macro avg\"][metric]\n",
    "        elif metric == \"rmse\":\n",
    "            raw_predictions = current_iteration_preds[\"predicted-raw\"]\n",
    "            if clamp_prediction_bounds:\n",
    "                raw_predictions = np.clip(raw_predictions, clamp_prediction_bounds[0], clamp_prediction_bounds[1])\n",
    "            cur_metric = mean_squared_error(current_iteration_preds.actual, raw_predictions, squared=False)\n",
    "        elif metric == \"f1-score(weighted)\":\n",
    "            cur_metric = f1_score(current_iteration_preds.actual, current_iteration_preds.predicted, zero_division=0)\n",
    "        metric_means.append(cur_metric)\n",
    "\n",
    "    metrics = np.array(metric_means)\n",
    "    return metrics\n"
   ]
  },
  {
   "cell_type": "code",
   "execution_count": 44,
   "metadata": {},
   "outputs": [
    {
     "name": "stdout",
     "output_type": "stream",
     "text": [
      "STAD|stage|enet|elasticnet for tcma_gen_aak_ge_ae vs tcma_gen_aak_ge: MannwhitneyuResult(statistic=11541.0, pvalue=2.552122253432249e-13)\n",
      "\n",
      "STAD|stage|enet|pearson for tcma_gen_aak_ge_ae vs tcma_gen_aak_ge: MannwhitneyuResult(statistic=22712.0, pvalue=0.019011872822146773)\n",
      "\n"
     ]
    }
   ],
   "source": [
    "cancer = \"STAD\"\n",
    "results = \"\"\n",
    "\n",
    "for target in [\"tumor\", \"stage\"][1:]:\n",
    "    # target = \"tumor\"\n",
    "    prediction_models = {\n",
    "        \"tumor\": \"SVC\",\n",
    "        # \"stage\": \"rfreg\"\n",
    "        \"stage\": \"enet\"\n",
    "    }\n",
    "    selection_per_target = {\n",
    "            \"tumor\": [\"anova\"],\n",
    "            \"stage\": [\"elasticnet\", \"pearson\", \"rfreg\"][:2]\n",
    "            # \"stage\": [\"rfreg\"]\n",
    "        }\n",
    "    model = prediction_models[target]\n",
    "    # model = \"enet\"\n",
    "    modalities = [\"aak_ge\", \"tcma_gen\"]\n",
    "    # modalities = [\"aak_ge\", \"tcma_gen_aak_ge\"]\n",
    "    integration = \"ae\"\n",
    "    for selection in selection_per_target[target]:\n",
    "        # for modalities in [(\"tcma_gen_aak_ge_ae\", \"tcma_gen_aak_ge\"), (\"tcma_gen_aak_ge_ae\", \"tcma_gen_ae\"), (\"tcma_gen_aak_ge_ae\", \"aak_ge_ae\")]:\n",
    "        for modalities in [(f\"tcma_gen_aak_ge_{integration}\", \"tcma_gen_aak_ge\"), (f\"tcma_gen_aak_ge_{integration}\", f\"tcma_gen_{integration}\"), (f\"tcma_gen_aak_ge_{integration}\", f\"aak_ge_{integration}\")][:1]:\n",
    "            # prediction_tables_root = f\"Data/Descriptor/Prediction_Tables/random_sampling/{target}/{model}\"\n",
    "            prediction_tables_root = f\"Data/Descriptor/Prediction_Tables/super/random_sampling/{target}/{model}\"\n",
    "            l, r = [pd.read_csv(f\"{prediction_tables_root}/{selection}/{x}_{selection}_predoutput.csv\", index_col=None) for x in modalities]\n",
    "            d = [l, r]\n",
    "            pairs = [None, None]\n",
    "            ps = (0, 100)\n",
    "            for i, x in enumerate(d):\n",
    "                if target==\"stage\":\n",
    "                    metrics = computeMetric(\"rmse\", cancer=cancer, p=ps[i], all_pred_outputs=x, clamp_prediction_bounds=config.prediction_bounds[target])\n",
    "                else:\n",
    "                    metrics = computeMetric(\"f1-score(weighted)\", cancer=cancer, p=ps[i], all_pred_outputs=x, clamp_prediction_bounds=config.prediction_bounds[target])\n",
    "                pairs[i] = metrics\n",
    "            # np.mean(pairs[1])\n",
    "            test = stats.mannwhitneyu(pairs[0], pairs[1])\n",
    "            is_normal = (stats.normaltest(pairs[0]), stats.normaltest(pairs[1]))\n",
    "            cur_result = f\"{cancer}|{target}|{model}|{selection} for {modalities[0]} vs {modalities[1]}: {test}\\n\"\n",
    "            results += cur_result\n",
    "            print(cur_result) # | norm: {is_normal}\") \n",
    "# load.saveDescriptor(results, r'Data\\Descriptor\\Description\\stat_test\\base.txt')\n",
    "# load.saveDescriptor(results, r'Data\\Descriptor\\Description\\stat_test\\super_ae.txt')\n",
    "load.saveDescriptor(results, rf'Data\\Descriptor\\Description\\stat_test\\super_{integration}_{p}_{model}.txt')\n",
    "# r"
   ]
  },
  {
   "cell_type": "code",
   "execution_count": null,
   "metadata": {},
   "outputs": [
    {
     "data": {
      "text/plain": [
       "(array([ 5., 15., 55., 52., 36., 16., 11.,  5.,  4.,  1.]),\n",
       " array([1.01984379, 1.0518113 , 1.08377881, 1.11574632, 1.14771384,\n",
       "        1.17968135, 1.21164886, 1.24361637, 1.27558389, 1.3075514 ,\n",
       "        1.33951891]),\n",
       " <BarContainer object of 10 artists>)"
      ]
     },
     "execution_count": 19,
     "metadata": {},
     "output_type": "execute_result"
    },
    {
     "data": {
      "image/png": "[encoded data removed]",
      "text/plain": [
       "<Figure size 432x288 with 1 Axes>"
      ]
     },
     "metadata": {
      "needs_background": "light"
     },
     "output_type": "display_data"
    }
   ],
   "source": [
    "import matplotlib.pyplot as plt\n",
    "plt.hist(pairs[0])\n",
    "plt.hist(pairs[1])"
   ]
  },
  {
   "cell_type": "code",
   "execution_count": null,
   "metadata": {},
   "outputs": [
    {
     "name": "stdout",
     "output_type": "stream",
     "text": [
      "WilcoxonResult(statistic=621.0, pvalue=1.2451149461732018e-30)\n",
      "MannwhitneyuResult(statistic=3743.0, pvalue=6.59693896379775e-45)\n"
     ]
    }
   ],
   "source": [
    "from scipy import stats\n",
    "# https://pythonfordatascienceorg.wordpress.com/wilcoxon-sign-ranked-test-python/\n",
    "print(stats.wilcoxon(pairs[0], pairs[1]))\n",
    "print(stats.mannwhitneyu(pairs[0], pairs[1]))"
   ]
  },
  {
   "cell_type": "code",
   "execution_count": null,
   "metadata": {},
   "outputs": [],
   "source": [
    "# Compute all baselines"
   ]
  }
 ],
 "metadata": {
  "kernelspec": {
   "display_name": "bacteria",
   "language": "python",
   "name": "python3"
  },
  "language_info": {
   "codemirror_mode": {
    "name": "ipython",
    "version": 3
   },
   "file_extension": ".py",
   "mimetype": "text/x-python",
   "name": "python",
   "nbconvert_exporter": "python",
   "pygments_lexer": "ipython3",
   "version": "3.9.4"
  },
  "orig_nbformat": 4
 },
 "nbformat": 4,
 "nbformat_minor": 2
}
