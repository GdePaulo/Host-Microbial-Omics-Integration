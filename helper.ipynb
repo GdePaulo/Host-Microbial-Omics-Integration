{
 "cells": [
  {
   "cell_type": "code",
   "execution_count": null,
   "metadata": {},
   "outputs": [],
   "source": [
    "import os\n",
    "def read_energy_files(dir):                                                                                                  \n",
    "    r = []\n",
    "    for root, dirs, files in os.walk(dir):\n",
    "        if dirs and not dirs[0].isdigit():\n",
    "            continue    \n",
    "        for year_dir in dirs:\n",
    "            building_usages = os.path.join(root, os.path.join(year_dir,\"EAN 26728\"))\n",
    "            for year_root, year_dirs, year_files in os.walk(building_usages):\n",
    "                for building_dir in year_dirs:\n",
    "                    for building_root, building_dirs, building_files in os.walk(os.path.join(year_root, building_dir)):\n",
    "                        print(\"dir:\",building_dir, \"files\", building_files)\n",
    "                    \n",
    "                        for name in building_files[-1:]: \n",
    "                            d = pd.read_excel(os.path.join(building_root, name), names=[\"time\", \"kWh\"], converters= {\"Datum-tijd tot\": pd.to_datetime}, skiprows=4, index_col=0)\n",
    "                            d[\"building_name\"] = building_dir\n",
    "                            r.append(d)\n",
    "    return r \n",
    "energy_usages = pd.concat(read_energy_files(r\"EUR\\Energy\"))"
   ]
  },
  {
   "cell_type": "code",
   "execution_count": 23,
   "metadata": {},
   "outputs": [
    {
     "name": "stdout",
     "output_type": "stream",
     "text": [
      "2 3\n",
      "(648, 648, 648) (432, 432, 432)\n",
      "3 3\n",
      "(648, 648, 648) (432, 432, 432)\n",
      "4 3\n",
      "(648, 648, 648) (432, 432, 432)\n",
      "[0, 3, 6, 9]\n",
      "In new page ading 432 with y_offs 432\n",
      "In new page ading 432 with y_offs 864\n",
      "In new page ading 432 with y_offs 1296\n"
     ]
    }
   ],
   "source": [
    "import sys\n",
    "from PIL import Image\n",
    "\n",
    "reduction_type = \"PCA\"\n",
    "reduction_type = \"t-SNE\"\n",
    "diagnostic = \"tumor\"\n",
    "\n",
    "images = []\n",
    "new_page = [0]\n",
    "\n",
    "total_width = 0\n",
    "total_height = 0\n",
    "for p in [0, 5, 10]:\n",
    "    cur_images = [Image.open(f\"Visual/{diagnostic}/{reduction_type}/p{p}/{x}\") for x in ['TCGA_GE(Aakash).png', 'TCMA_Genus.png', 'TCMA_Genus_GE(Aakash)_Overlap.png']]\n",
    "    new_page.append(new_page[-1] + len(cur_images))\n",
    "    print(len(new_page), len(cur_images))\n",
    "    images += cur_images\n",
    "    \n",
    "    widths, heights = zip(*(i.size for i in cur_images))\n",
    "    print(widths, heights)\n",
    "    cur_width = sum(widths)\n",
    "    max_height = max(heights)\n",
    "\n",
    "    total_width = max(cur_width, total_width)\n",
    "    total_height += max_height\n",
    "\n",
    "\n",
    "new_im = Image.new('RGB', (total_width, total_height))\n",
    "print(new_page)\n",
    "\n",
    "x_offset = 0\n",
    "y_offset = 0\n",
    "for i, im in enumerate(images):\n",
    "    new_im.paste(im, (x_offset,y_offset))\n",
    "    x_offset += im.size[0]\n",
    "\n",
    "    if i + 1 in new_page:\n",
    "        x_offset = 0\n",
    "        y_offset += im.size[1]\n",
    "        print(f\"In new page ading {im.size[1]} with y_offs {y_offset}\")\n",
    "\n",
    "new_im.save(f'Visual/Compiled/{diagnostic}_{reduction_type}.png')\n"
   ]
  }
 ],
 "metadata": {
  "kernelspec": {
   "display_name": "Python 3.8.6 ('pytorch-cpu')",
   "language": "python",
   "name": "python3"
  },
  "language_info": {
   "codemirror_mode": {
    "name": "ipython",
    "version": 3
   },
   "file_extension": ".py",
   "mimetype": "text/x-python",
   "name": "python",
   "nbconvert_exporter": "python",
   "pygments_lexer": "ipython3",
   "version": "3.8.6"
  },
  "orig_nbformat": 4,
  "vscode": {
   "interpreter": {
    "hash": "5ff11b96d6191b1744b0c21f422c8b48708f27d8a8903ac73174d6a3fb479488"
   }
  }
 },
 "nbformat": 4,
 "nbformat_minor": 2
}
