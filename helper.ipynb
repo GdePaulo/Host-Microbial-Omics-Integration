{
 "cells": [
  {
   "cell_type": "code",
   "execution_count": 2,
   "metadata": {},
   "outputs": [],
   "source": [
    "import sys\n",
    "from PIL import Image\n",
    "\n",
    "samples_pool = \"intersect\"\n",
    "# samples_pool = \"all\"\n",
    "reduction_type = \"PCA\"\n",
    "# reduction_type = \"t-SNE\"\n",
    "diagnostic = \"tumor\"\n",
    "# diagnostic = \"stage\"\n",
    "\n",
    "\n",
    "# images = []\n",
    "# new_page = [0]\n",
    "\n",
    "# total_width = 0\n",
    "# total_height = 0\n",
    "# for p in [0, 5, 10]:\n",
    "#     cur_images = [Image.open(f\"Visual/{diagnostic}/{samples_pool}/{reduction_type}/p{p}/{x}\") for x in ['aak_ge.png', 'tcma_gen.png', 'tcma_gen_aak_ge.png']]\n",
    "#     new_page.append(new_page[-1] + len(cur_images))\n",
    "#     print(len(new_page), len(cur_images))\n",
    "#     images += cur_images\n",
    "    \n",
    "#     widths, heights = zip(*(i.size for i in cur_images))\n",
    "#     print(widths, heights)\n",
    "#     cur_width = sum(widths)\n",
    "#     max_height = max(heights)\n",
    "\n",
    "#     total_width = max(cur_width, total_width)\n",
    "#     total_height += max_height\n",
    "\n",
    "\n",
    "# new_im = Image.new('RGB', (total_width, total_height))\n",
    "# print(new_page)\n",
    "\n",
    "# x_offset = 0\n",
    "# y_offset = 0\n",
    "# for i, im in enumerate(images):\n",
    "#     new_im.paste(im, (x_offset,y_offset))\n",
    "#     x_offset += im.size[0]\n",
    "\n",
    "#     if i + 1 in new_page:\n",
    "#         x_offset = 0\n",
    "#         y_offset += im.size[1]\n",
    "#         print(f\"In new page ading {im.size[1]} with y_offs {y_offset}\")\n",
    "\n",
    "# new_im.save(f'Visual/Compiled/{diagnostic}_{reduction_type}_{samples_pool}.png')\n"
   ]
  },
  {
   "cell_type": "code",
   "execution_count": 5,
   "metadata": {},
   "outputs": [
    {
     "name": "stdout",
     "output_type": "stream",
     "text": [
      "2 2\n",
      "(3138, 3125) (3205, 3205)\n",
      "[0, 2]\n"
     ]
    }
   ],
   "source": [
    "from PIL import ImageFont\n",
    "from PIL import ImageDraw\n",
    "\n",
    "base_tumor = r\"Visual\\prediction\\base\\random_sampling\\tumor\\anova\\metrics\\svc\\STAD\\legend_none\\f1-score(actual).png\"\n",
    "base_stage = r\"Visual\\prediction\\super_base\\random_sampling\\stage\\elasticnet\\metrics\\enet\\STAD\\legend_outside\\rmse.png\"\n",
    "# base_stage_rf = r\"Visual\\prediction\\super_base\\random_sampling\\stage\\elasticnet\\metrics\\rfreg\\STAD\\legend_none\\rmse.png\"\n",
    "\n",
    "left_fraction_ge = r\"Visual\\prediction\\super_base\\random_sampling\\stage\\all_selectors\\features\\legend_none\\frac_selected_ge.png\"\n",
    "right_number_genus = r\"Visual\\prediction\\super_base\\random_sampling\\stage\\all_selectors\\features\\legend_outside\\nr_selected_genus.png\"\n",
    "\n",
    "left_ae_overlap = r\"Visual\\prediction\\super_ae_overlap\\random_sampling\\stage\\elasticnet\\metrics\\enet\\STAD\\with_baseline\\rmse.png\"\n",
    "right_ae = r\"Visual\\prediction\\super_ae\\random_sampling\\stage\\elasticnet\\metrics\\enet\\STAD\\with_baseline\\rmse.png\"\n",
    "\n",
    "left_nmf_overlap = r\"Visual\\prediction\\super_nmf_overlap\\random_sampling\\stage\\elasticnet\\metrics\\enet\\STAD\\with_baseline\\rmse.png\"\n",
    "right_nmf = r\"Visual\\prediction\\super_nmf\\random_sampling\\stage\\elasticnet\\metrics\\enet\\STAD\\with_baseline\\rmse.png\"\n",
    "\n",
    "left_base_pearson = r\"Visual\\prediction\\super_base\\random_sampling\\stage\\pearson\\metrics\\enet\\STAD\\legend_none\\rmse.png\"\n",
    "right_base_rf = r\"Visual\\prediction\\super_base\\random_sampling\\stage\\rfreg\\metrics\\enet\\STAD\\legend_outside\\rmse.png\"\n",
    "\n",
    "images_to_combine = [(base_tumor, base_stage), (left_fraction_ge, right_number_genus), (left_ae_overlap, right_ae), (left_nmf_overlap, right_nmf),\n",
    "                     (left_base_pearson, right_base_rf)]\n",
    "images_to_combine_labels = [\"base_tumor_stage\", \"base_sel_features\", \"ae\", \"nmf\", \"base_pearson_rf\"]\n",
    "selected_index = 3\n",
    "\n",
    "\n",
    "images = []\n",
    "new_page = [0]\n",
    "\n",
    "total_width = 0\n",
    "total_height = 0\n",
    "for imgs in [images_to_combine[selected_index]]:\n",
    "    cur_images = [Image.open(x) for x in imgs]\n",
    "    new_page.append(new_page[-1] + len(cur_images))\n",
    "    print(len(new_page), len(cur_images))\n",
    "    images += cur_images\n",
    "    \n",
    "    widths, heights = zip(*(i.size for i in cur_images))\n",
    "    print(widths, heights)\n",
    "    cur_width = sum(widths)\n",
    "    max_height = max(heights)\n",
    "\n",
    "    total_width = max(cur_width, total_width)\n",
    "    total_height += max_height\n",
    "\n",
    "new_im = Image.new('RGB', (total_width, total_height), color=(255, 255, 255))\n",
    "font = ImageFont.truetype('Visual/Compiled/dual/DejaVuSans-Bold.ttf', 220)\n",
    "draw = ImageDraw.Draw(new_im)\n",
    "print(new_page)\n",
    "\n",
    "x_offset = 0\n",
    "y_offset = 0\n",
    "for i, im in enumerate(images):\n",
    "    new_im.paste(im, (x_offset,y_offset))\n",
    "\n",
    "    text_x = 50 + x_offset\n",
    "    text_y = 50\n",
    "    draw.text((text_x, text_y),[\"A\", \"B\", \"C\"][i],(0, 0, 0), font=font)\n",
    "\n",
    "    x_offset += im.size[0]\n",
    "\n",
    "new_im.save(f'Visual/Compiled/Dual/{images_to_combine_labels[selected_index]}.png')\n"
   ]
  },
  {
   "cell_type": "code",
   "execution_count": 4,
   "metadata": {},
   "outputs": [
    {
     "data": {
      "text/plain": [
       "(array([1.e-10, 1.e-09, 1.e-08, 1.e-07, 1.e-06, 1.e-05, 1.e-04, 1.e-03,\n",
       "        1.e-02, 1.e-01, 1.e+00, 1.e+01, 1.e+02, 1.e+03, 1.e+04, 1.e+05,\n",
       "        1.e+06, 1.e+07, 1.e+08, 1.e+09, 1.e+10]),)"
      ]
     },
     "execution_count": 4,
     "metadata": {},
     "output_type": "execute_result"
    }
   ],
   "source": [
    "import numpy as np\n",
    "np.logspace(-10, 10, 21),"
   ]
  }
 ],
 "metadata": {
  "kernelspec": {
   "display_name": "Python 3.8.6 ('pytorch-cpu')",
   "language": "python",
   "name": "python3"
  },
  "language_info": {
   "codemirror_mode": {
    "name": "ipython",
    "version": 3
   },
   "file_extension": ".py",
   "mimetype": "text/x-python",
   "name": "python",
   "nbconvert_exporter": "python",
   "pygments_lexer": "ipython3",
   "version": "3.9.4"
  },
  "orig_nbformat": 4,
  "vscode": {
   "interpreter": {
    "hash": "5ff11b96d6191b1744b0c21f422c8b48708f27d8a8903ac73174d6a3fb479488"
   }
  }
 },
 "nbformat": 4,
 "nbformat_minor": 2
}
