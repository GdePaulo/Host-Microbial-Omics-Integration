{
 "cells": [
  {
   "cell_type": "code",
   "execution_count": null,
   "metadata": {},
   "outputs": [],
   "source": [
    "# https://www.geeksforgeeks.org/implementing-an-autoencoder-in-pytorch/\n",
    "import torch\n",
    "from torchvision import datasets\n",
    "from torchvision import transforms\n",
    "import matplotlib.pyplot as plt\n"
   ]
  },
  {
   "cell_type": "code",
   "execution_count": null,
   "metadata": {},
   "outputs": [],
   "source": [
    "# Transforms images to a PyTorch Tensor\n",
    "tensor_transform = transforms.ToTensor()\n",
    "\n",
    "# Download the MNIST Dataset\n",
    "dataset = datasets.MNIST(root = \"./aidata\",\n",
    "\t\t\t\t\t\ttrain = True,\n",
    "\t\t\t\t\t\tdownload = True,\n",
    "\t\t\t\t\t\ttransform = tensor_transform)\n",
    "\n",
    "# DataLoader is used to load the dataset\n",
    "# for training\n",
    "loader = torch.utils.data.DataLoader(dataset = dataset,\n",
    "\t\t\t\t\t\t\t\t\tbatch_size = 32,\n",
    "\t\t\t\t\t\t\t\t\tshuffle = True)"
   ]
  },
  {
   "cell_type": "code",
   "execution_count": null,
   "metadata": {},
   "outputs": [],
   "source": [
    "import loader as load\n",
    "import processor as pr\n",
    "\n",
    "target=\"tumor\"\n",
    "c=\"STAD\"\n",
    "data, files_names = load.loadAll(includeStage=(target==\"stage\"), sameSamples=True, skipGenes=True)\n",
    "ge_genus, ge_genus_name = data[-1], files_names[-1]\n",
    "ge_genus = load.attachTumorStatus(ge_genus)\n",
    "\n",
    "x, y = pr.splitData(ge_genus, target=target, project=c)\n",
    "x = x.drop(x.iloc[:, 5:5216], axis=1)\n",
    "x"
   ]
  },
  {
   "cell_type": "code",
   "execution_count": 44,
   "metadata": {},
   "outputs": [],
   "source": [
    "# https://towardsdatascience.com/how-to-use-datasets-and-dataloader-in-pytorch-for-custom-text-data-270eed7f7c00\n",
    "from torch.utils.data import Dataset, DataLoader\n",
    "class OverlapDataset(Dataset):\n",
    "    \"\"\"Genus + GE dataset.\"\"\"\n",
    "\n",
    "    def __init__(self, target, cancer):\n",
    "        \"\"\"\n",
    "        Args:\n",
    "            csv_file (string): Path to the csv file with annotations.\n",
    "            root_dir (string): Directory with all the images.\n",
    "            transform (callable, optional): Optional transform to be applied\n",
    "                on a sample.\n",
    "        \"\"\"\n",
    "        data, files_names = load.loadAll(includeStage=(target==\"stage\"), sameSamples=True, skipGenes=True)\n",
    "        ge_genus, ge_genus_name = data[-1], files_names[-1]\n",
    "\n",
    "        if target==\"tumor\":\n",
    "            ge_genus = load.attachTumorStatus(ge_genus)\n",
    "        else:\n",
    "            ge_genus = load.attachStageStatus(ge_genus)\n",
    "\n",
    "        x, y = pr.splitData(ge_genus, target=target, project=cancer)\n",
    "        x = x.drop(x.iloc[:, 5:5216], axis=1)\n",
    "        \n",
    "        self.modality_features = x\n",
    "        self.targets = y\n",
    "\n",
    "\n",
    "    def __len__(self):\n",
    "        return len(self.modality_features)\n",
    "\n",
    "    def __getitem__(self, idx):\n",
    "        if torch.is_tensor(idx):\n",
    "            idx = idx.tolist()\n",
    "\n",
    "        sample_features = self.modality_features.iloc[idx].values\n",
    "        sample_target = self.targets.iloc[idx]\n",
    "        sample = {'features': sample_features, 'target': sample_target}\n",
    "\n",
    "        return sample"
   ]
  },
  {
   "cell_type": "code",
   "execution_count": 45,
   "metadata": {},
   "outputs": [
    {
     "name": "stdout",
     "output_type": "stream",
     "text": [
      "\n",
      "First iteration of data set:  {'features': array([0.        , 0.        , 0.        , 0.        , 0.        ,\n",
      "       0.65618724, 0.77328287, 0.14825781, 0.18096101, 0.53191298]), 'target': 1} \n",
      "\n",
      "Length of data set:  122 \n",
      "\n",
      "Entire data set:  [{'features': tensor([[0.0000, 0.0000, 0.0000, 0.0000, 0.0000, 0.6562, 0.7733, 0.1483, 0.1810,\n",
      "         0.5319]], dtype=torch.float64), 'target': tensor([1])}, {'features': tensor([[0.0000, 0.0000, 0.0000, 0.1066, 0.0000, 0.5604, 0.7994, 0.0535, 0.1874,\n",
      "         0.5761]], dtype=torch.float64), 'target': tensor([1])}] \n",
      "\n"
     ]
    }
   ],
   "source": [
    "overlapped = OverlapDataset(\"tumor\", \"STAD\")\n",
    "# Display text and label.\n",
    "print('\\nFirst iteration of data set: ', next(iter(overlapped)), '\\n')\n",
    "# Print how many items are in the data set\n",
    "print('Length of data set: ', len(overlapped), '\\n')\n",
    "# Print entire data set\n",
    "print('Entire data set: ', list(DataLoader(overlapped))[:2], '\\n')"
   ]
  },
  {
   "cell_type": "code",
   "execution_count": null,
   "metadata": {},
   "outputs": [],
   "source": [
    "# Creating a PyTorch class\n",
    "# 28*28 ==> 9 ==> 28*28\n",
    "class AE(torch.nn.Module):\n",
    "\tdef __init__(self):\n",
    "\t\tsuper().__init__()\n",
    "\t\t\n",
    "\t\t# Building an linear encoder with Linear\n",
    "\t\t# layer followed by Relu activation function\n",
    "\t\t# 784 ==> 9\n",
    "\t\tself.encoder = torch.nn.Sequential(\n",
    "\t\t\ttorch.nn.Linear(10, 128),\n",
    "\t\t\ttorch.nn.ReLU(),\n",
    "\t\t\ttorch.nn.Linear(128, 64),\n",
    "\t\t\ttorch.nn.ReLU(),\n",
    "\t\t\ttorch.nn.Linear(64, 36),\n",
    "\t\t\ttorch.nn.ReLU(),\n",
    "\t\t\ttorch.nn.Linear(36, 18),\n",
    "\t\t\ttorch.nn.ReLU(),\n",
    "\t\t\ttorch.nn.Linear(18, 9)\n",
    "\t\t)\n",
    "\t\t\n",
    "\t\t# Building an linear decoder with Linear\n",
    "\t\t# layer followed by Relu activation function\n",
    "\t\t# The Sigmoid activation function\n",
    "\t\t# outputs the value between 0 and 1\n",
    "\t\t# 9 ==> 784\n",
    "\t\tself.decoder = torch.nn.Sequential(\n",
    "\t\t\ttorch.nn.Linear(9, 18),\n",
    "\t\t\ttorch.nn.ReLU(),\n",
    "\t\t\ttorch.nn.Linear(18, 36),\n",
    "\t\t\ttorch.nn.ReLU(),\n",
    "\t\t\ttorch.nn.Linear(36, 64),\n",
    "\t\t\ttorch.nn.ReLU(),\n",
    "\t\t\ttorch.nn.Linear(64, 128),\n",
    "\t\t\ttorch.nn.ReLU(),\n",
    "\t\t\ttorch.nn.Linear(128, 10),\n",
    "\t\t\ttorch.nn.Sigmoid()\n",
    "\t\t)\n",
    "\n",
    "\tdef forward(self, x):\n",
    "\t\tencoded = self.encoder(x)\n",
    "\t\tdecoded = self.decoder(encoded)\n",
    "\t\treturn encoded, decoded\n"
   ]
  },
  {
   "cell_type": "code",
   "execution_count": null,
   "metadata": {},
   "outputs": [],
   "source": [
    "# Model Initialization\n",
    "model = AE()\n",
    "\n",
    "# Validation using MSE Loss function\n",
    "loss_function = torch.nn.MSELoss()\n",
    "\n",
    "# Using an Adam Optimizer with lr = 0.1\n",
    "optimizer = torch.optim.Adam(model.parameters(),\n",
    "\t\t\t\t\t\t\tlr = 1e-1,\n",
    "\t\t\t\t\t\t\tweight_decay = 1e-8)"
   ]
  },
  {
   "cell_type": "code",
   "execution_count": null,
   "metadata": {},
   "outputs": [],
   "source": [
    "print(loader.dataset)"
   ]
  },
  {
   "cell_type": "code",
   "execution_count": null,
   "metadata": {},
   "outputs": [],
   "source": [
    "epochs = 1\n",
    "outputs = []\n",
    "losses = []\n",
    "for epoch in range(epochs):\n",
    "\tfor (image, _) in loader:\n",
    "\t\n",
    "\t\t# Reshaping the image to (-1, 784)\n",
    "\t\timage = image.reshape(-1, 28*28)\n",
    "\t\t\n",
    "\t\t# Output of Autoencoder\n",
    "\t\thidden, reconstructed = model(image)\n",
    "\t\t\n",
    "\t\t# Calculating the loss function\n",
    "\t\tloss = loss_function(reconstructed, image)\n",
    "\t\tprint(hidden)\n",
    "\t\t\n",
    "\t\t# The gradients are set to zero,\n",
    "\t\t# the gradient is computed and stored.\n",
    "\t\t# .step() performs parameter update\n",
    "\t\toptimizer.zero_grad()\n",
    "\t\tloss.backward()\n",
    "\t\toptimizer.step()\n",
    "\t\t\n",
    "\t\t# Storing the losses in a list for plotting\n",
    "\t\tlosses.append(loss.detach())\n",
    "\t\toutputs.append((epochs, image, reconstructed))\n",
    "\n",
    "# Defining the Plot Style\n",
    "plt.style.use('fivethirtyeight')\n",
    "plt.xlabel('Iterations')\n",
    "plt.ylabel('Loss')\n",
    "\n",
    "# Plotting the last 100 values\n",
    "plt.plot(losses[-100:])"
   ]
  },
  {
   "cell_type": "code",
   "execution_count": null,
   "metadata": {},
   "outputs": [],
   "source": [
    "for i, item in enumerate(image):\n",
    "    # Reshape the array for plotting\n",
    "    item = item.reshape(-1, 28, 28)\n",
    "    plt.imshow(item[0].detach())\n",
    "\n",
    "for i, item in enumerate(reconstructed):\n",
    "    item = item.reshape(-1, 28, 28)\n",
    "    # plt.imshow(item[0].detach())\n"
   ]
  }
 ],
 "metadata": {
  "kernelspec": {
   "display_name": "bacteria",
   "language": "python",
   "name": "python3"
  },
  "language_info": {
   "codemirror_mode": {
    "name": "ipython",
    "version": 3
   },
   "file_extension": ".py",
   "mimetype": "text/x-python",
   "name": "python",
   "nbconvert_exporter": "python",
   "pygments_lexer": "ipython3",
   "version": "3.9.4"
  },
  "orig_nbformat": 4,
  "vscode": {
   "interpreter": {
    "hash": "5c9c23c68e4133fb152380ec4059b1f78568734598c8159b0962b671d1bd3454"
   }
  }
 },
 "nbformat": 4,
 "nbformat_minor": 2
}
