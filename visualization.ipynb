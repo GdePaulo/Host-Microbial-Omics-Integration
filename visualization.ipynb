{
 "cells": [
  {
   "cell_type": "code",
   "execution_count": null,
   "metadata": {},
   "outputs": [],
   "source": [
    "import pandas as pd\n",
    "import loader as load\n",
    "# aak_ge = load.loadGEWithClinical()"
   ]
  },
  {
   "cell_type": "code",
   "execution_count": null,
   "metadata": {},
   "outputs": [],
   "source": [
    "import processor as pr\n",
    "\n",
    "tcma_cancer_type = [\"COAD\", \"ESCA\", \"HNSC\", \"READ\", \"STAD\"]\n",
    "\n",
    "data = [load.loadTCMA(\"genus\"), load.loadTCMA(\"phylum\"), aak_ge, load.loadGEOverlappingTCMA(\"genus\"), load.loadGEOverlappingTCMA(\"phylum\")]\n",
    "source_types = [\"GENUS\", \"PHYLUM\", \"GE\", \"GENUS n GE\", \"PHYLUM n GE\"]\n",
    "file_names = [\"TCMA_Genus\", \"TCMA_Phylum\", \"TCGA_GE(Aakash)\", \"TCMA_Genus_GE(Aakash)_Overlap\", \"TCMA_Phylum_GE(Aakash)_Overlap\"]\n",
    "reduction_type = \"TSNE\"\n",
    "for i, b in enumerate(data):\n",
    "    X, Y, titles = [], [], []\n",
    "    b = load.attachTumorStatus(b)\n",
    "    for c in tcma_cancer_type:\n",
    "        x, y = pr.splitData(b, \"tumor\", project=c)\n",
    "        if reduction_type == \"PCA\":\n",
    "            X.append(pr.getPCA(x))\n",
    "        else:\n",
    "            X.append(pr.getTSNE(x))\n",
    "        Y.append(y)\n",
    "        titles.append(f\"{c} {source_types[i]} {reduction_type}\")\n",
    "    pr.plotScatter(X, Y, titles, f\"Visual/{reduction_type}/{file_names[i]}\")\n"
   ]
  },
  {
   "cell_type": "code",
   "execution_count": null,
   "metadata": {},
   "outputs": [],
   "source": [
    "target = \"tumor\"\n",
    "files = ['aak_ge', 'tcma_gen', 'tcma_gen_aak_ge']\n",
    "data = [pd.read_csv(fr\"Data\\Descriptor\\Prediction_Tables\\{target}\\{x}_pred.csv\", index_col=None) for x in files]\n",
    "data[0].head(5)\n",
    "data[0][\"cancer\"].nunique()"
   ]
  },
  {
   "cell_type": "code",
   "execution_count": null,
   "metadata": {},
   "outputs": [],
   "source": [
    "import matplotlib\n",
    "import matplotlib.pyplot as plt\n",
    "import matplotlib.patches as mpatches\n",
    "\n",
    "# fig, ax = plt.subplots()\n",
    "fig = plt.figure(figsize = (18, 6))\n",
    "\n",
    "metric = \"f1-score\"\n",
    "\n",
    "print(data[0].p.unique())\n",
    "for i, p in enumerate(data[0].p.unique()):\n",
    "    ax = fig.add_subplot(1,3,(i+1)) \n",
    "    ax.set_title(f\"{target} p: {p}\", fontsize = 10)\n",
    "    ax.set_ylabel(metric, fontsize = 15)\n",
    "        \n",
    "\n",
    "    for j, d in enumerate(data):\n",
    "        d = d[[metric, \"cancer\", \"p\"]]\n",
    "        d = d[d.p == p]\n",
    "        line = d.plot(kind=\"line\", x=\"cancer\", y=metric, ax=ax, label=files[j])\n",
    "filename = f\"Visual/prediction/{target}_{metric}.png\"\n",
    "plt.savefig(filename, transparent=False, facecolor=\"white\")\n"
   ]
  }
 ],
 "metadata": {
  "interpreter": {
   "hash": "5c9c23c68e4133fb152380ec4059b1f78568734598c8159b0962b671d1bd3454"
  },
  "kernelspec": {
   "display_name": "Python 3.9.4 ('bacteria')",
   "language": "python",
   "name": "python3"
  },
  "language_info": {
   "codemirror_mode": {
    "name": "ipython",
    "version": 3
   },
   "file_extension": ".py",
   "mimetype": "text/x-python",
   "name": "python",
   "nbconvert_exporter": "python",
   "pygments_lexer": "ipython3",
   "version": "3.9.4"
  },
  "orig_nbformat": 4
 },
 "nbformat": 4,
 "nbformat_minor": 2
}
