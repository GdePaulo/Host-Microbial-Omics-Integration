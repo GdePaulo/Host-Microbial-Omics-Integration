{
 "cells": [
  {
   "cell_type": "code",
   "execution_count": null,
   "metadata": {},
   "outputs": [],
   "source": [
    "import pandas as pd"
   ]
  },
  {
   "cell_type": "code",
   "execution_count": null,
   "metadata": {},
   "outputs": [],
   "source": [
    "import loader as load\n",
    "aak_ge = load.loadGEWithClinical()"
   ]
  },
  {
   "cell_type": "code",
   "execution_count": null,
   "metadata": {},
   "outputs": [],
   "source": [
    "import processor as pr\n",
    "\n",
    "tcma_cancer_type = [\"COAD\", \"ESCA\", \"HNSC\", \"READ\", \"STAD\"]\n",
    "X, Y, titles = [], [], []\n",
    "\n",
    "for c in tcma_cancer_type:\n",
    "\n",
    "    # TCMA Genus data~\n",
    "    b = load.loadTCMA(\"genus\")\n",
    "    source = \"GENUS\"\n",
    "    file = \"TCMA_Genus_PCA_2\"\n",
    "\n",
    "    # TCMA Genus x GE(Aakash) data\n",
    "    # b = load.loadGEOverlappingTCMA(\"genus\")\n",
    "    # source = \"GENUS n GE\"\n",
    "    # file = \"TCMA_Genus_GE(Aakash)_Overlap_PCA\"\n",
    "\n",
    "    # TCMA Phylum data\n",
    "    # b = load.loadTCMA(\"phylum\")\n",
    "    # source = \"PHYLUM\"\n",
    "    # file = \"TCMA_Phylum_PCA\"\n",
    "\n",
    "    # TCMA Phylum x GE(Aakash) data\n",
    "    # b = load.loadGEOverlappingTCMA(\"phylum\")\n",
    "    # source = \"PHYLUM n GE\"\n",
    "    # file = \"TCMA_Phylum_GE(Aakash)_Overlap_PCA\"\n",
    "\n",
    "    # GE(Aakash data)\n",
    "    # b = aak_ge\n",
    "    # source = \"GE\"\n",
    "    # file = \"TCGA_GE(Aakash)_PCA\"\n",
    "    \n",
    "    b = b[b[\"project\"] == c]\n",
    "    b = b.drop([\"project\"], axis=1)\n",
    "    load.attachTumorStatus(b)\n",
    "\n",
    "    x, y = pr.splitData(b, \"tumor\")\n",
    "    X.append(pr.getPCA(x))\n",
    "    Y.append(y)\n",
    "    titles.append(f\"{c} {source} PCA\")\n",
    "pr.plotScatter(X, Y, titles, f\"Visual/{file}\")\n"
   ]
  }
 ],
 "metadata": {
  "interpreter": {
   "hash": "5c9c23c68e4133fb152380ec4059b1f78568734598c8159b0962b671d1bd3454"
  },
  "kernelspec": {
   "display_name": "Python 3.9.4 ('bacteria')",
   "language": "python",
   "name": "python3"
  },
  "language_info": {
   "codemirror_mode": {
    "name": "ipython",
    "version": 3
   },
   "file_extension": ".py",
   "mimetype": "text/x-python",
   "name": "python",
   "nbconvert_exporter": "python",
   "pygments_lexer": "ipython3",
   "version": "3.9.4"
  },
  "orig_nbformat": 4
 },
 "nbformat": 4,
 "nbformat_minor": 2
}
