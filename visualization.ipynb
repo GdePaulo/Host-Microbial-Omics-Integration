{
 "cells": [
  {
   "cell_type": "code",
   "execution_count": null,
   "metadata": {},
   "outputs": [],
   "source": [
    "import pandas as pd\n",
    "import loader as load\n",
    "import config\n",
    "# aak_ge = load.loadGEWithClinical()"
   ]
  },
  {
   "cell_type": "code",
   "execution_count": null,
   "metadata": {},
   "outputs": [],
   "source": [
    "import matplotlib\n",
    "import matplotlib.pyplot as plt\n",
    "import matplotlib.patches as mpatches\n",
    "\n",
    "# fig, ax = plt.subplots()\n",
    "\n",
    "# print(data[0].cancer.unique())\n",
    "\n",
    "def plot_prediction_metrics_for_data_types(prediction_per_layer, layer_names, sampling, target, selection_type):\n",
    "    for metric in [\"precision\", \"recall\", \"f1-score\"]:\n",
    "        fig = plt.figure(figsize = (24, 6))\n",
    "        for i, cancer in enumerate(prediction_per_layer[0].cancer.unique()):\n",
    "            ax = fig.add_subplot(1,4,(i+1)) \n",
    "            ax.set_title(f\"{target} pred {cancer} | {sampling} | {selection_type}\", fontsize = 10)\n",
    "            ax.set_ylabel(metric, fontsize = 15)\n",
    "\n",
    "            for j, d in enumerate(prediction_per_layer):\n",
    "                # d[\"balanced_accuracy\"] = d[\"\"]\n",
    "                d = d[[metric, \"cancer\", \"p\"]]\n",
    "                d = d[d.cancer == cancer]\n",
    "                # feature_amounts = d.p.unique()\n",
    "                x_categorical_tick_sequence = range(d.p.nunique())\n",
    "                # Necessary for easy way to prevent ugly x-axis scaling based on feature value\n",
    "                d = d.astype({\"p\": str})\n",
    "                line = d.plot(kind=\"line\", x=\"p\", y=metric, ax=ax, xticks=x_categorical_tick_sequence, label=layer_names[j], ylim=(0, 1))\n",
    "                \n",
    "        filename = f\"Visual/prediction/{sampling}/{target}/{selection_type}/{metric}.png\"\n",
    "        load.createDirectory(filename)\n",
    "        plt.savefig(filename, transparent=False, facecolor=\"white\")"
   ]
  },
  {
   "cell_type": "code",
   "execution_count": null,
   "metadata": {},
   "outputs": [],
   "source": [
    "for target in config.prediction_targets:\n",
    "    for sampling in config.sampling:\n",
    "        for selection_type in config.selection_types:\n",
    "            files = ['aak_ge', 'tcma_gen', 'tcma_gen_aak_ge']\n",
    "            data = [pd.read_csv(fr\"Data\\Descriptor\\Prediction_Tables\\{sampling}\\{target}\\{x}_{selection_type}_pred.csv\", index_col=None) for x in files]\n",
    "            plot_prediction_metrics_for_data_types(data, files, sampling, target, selection_type)"
   ]
  },
  {
   "cell_type": "code",
   "execution_count": null,
   "metadata": {},
   "outputs": [],
   "source": [
    "data[0].head(5)\n",
    "data[2][\"cancer\"].nunique()"
   ]
  },
  {
   "cell_type": "code",
   "execution_count": null,
   "metadata": {},
   "outputs": [],
   "source": [
    "data, files = load.loadAll(includeStage=(target==\"stage\"), sameSamples=True)\n",
    "files"
   ]
  },
  {
   "cell_type": "code",
   "execution_count": null,
   "metadata": {},
   "outputs": [],
   "source": [
    "tcma_gen = data[0]\n",
    "tcma_gen.head(1)\n",
    "taxa = tcma_gen.iloc[:, :-2]\n",
    "taxa_means = taxa.mean(axis=0)\n",
    "\n",
    "# Remove zero values\n",
    "taxa_means_nonzero = taxa_means.where(lambda x : x != 0).dropna()\n",
    "\n",
    "print(f\"Dropped {len(taxa_means) - len(taxa_means_nonzero)} zero rows\")\n",
    "\n",
    "ax = taxa_means_nonzero.plot(kind=\"bar\", figsize=(50,10))"
   ]
  },
  {
   "cell_type": "code",
   "execution_count": null,
   "metadata": {},
   "outputs": [],
   "source": [
    "taxa_fig = ax.get_figure()\n",
    "taxa_fig.savefig(\"Visual/TCMA/tcma_genus_abundance.png\", transparent=False, facecolor=\"white\")"
   ]
  }
 ],
 "metadata": {
  "interpreter": {
   "hash": "5c9c23c68e4133fb152380ec4059b1f78568734598c8159b0962b671d1bd3454"
  },
  "kernelspec": {
   "display_name": "Python 3.9.4 ('bacteria')",
   "language": "python",
   "name": "python3"
  },
  "language_info": {
   "codemirror_mode": {
    "name": "ipython",
    "version": 3
   },
   "file_extension": ".py",
   "mimetype": "text/x-python",
   "name": "python",
   "nbconvert_exporter": "python",
   "pygments_lexer": "ipython3",
   "version": "3.9.4"
  },
  "orig_nbformat": 4
 },
 "nbformat": 4,
 "nbformat_minor": 2
}
