{
 "cells": [
  {
   "cell_type": "code",
   "execution_count": null,
   "metadata": {},
   "outputs": [],
   "source": [
    "import pandas as pd\n",
    "import loader as load\n",
    "import config\n",
    "# aak_ge = load.loadGEWithClinical()"
   ]
  },
  {
   "cell_type": "code",
   "execution_count": null,
   "metadata": {},
   "outputs": [],
   "source": [
    "import matplotlib\n",
    "import matplotlib.pyplot as plt\n",
    "import matplotlib.patches as mpatches\n",
    "\n",
    "# fig, ax = plt.subplots()\n",
    "\n",
    "# print(data[0].cancer.unique())\n",
    "\n",
    "def plot_prediction_metrics_for_data_types(prediction_per_layer, layer_names, sampling, target, selection_type):\n",
    "    for metric in [\"precision\", \"recall\", \"f1-score\"]:\n",
    "        fig = plt.figure(figsize = (24, 6))\n",
    "        for i, cancer in enumerate(prediction_per_layer[0].cancer.unique()):\n",
    "            ax = fig.add_subplot(1,4,(i+1)) \n",
    "            ax.set_title(f\"{target} pred {cancer} | {sampling} | {selection_type}\", fontsize = 10)\n",
    "            ax.set_ylabel(metric, fontsize = 15)\n",
    "\n",
    "            for j, d in enumerate(prediction_per_layer):\n",
    "                # d[\"balanced_accuracy\"] = d[\"\"]\n",
    "                d = d[[metric, \"cancer\", \"p\"]]\n",
    "                d = d[d.cancer == cancer]\n",
    "                # feature_amounts = d.p.unique()\n",
    "                x_categorical_tick_sequence = range(d.p.nunique())\n",
    "                # Necessary for easy way to prevent ugly x-axis scaling based on feature value\n",
    "                d = d.astype({\"p\": str})\n",
    "                line = d.plot(kind=\"line\", x=\"p\", y=metric, ax=ax, xticks=x_categorical_tick_sequence, label=layer_names[j], ylim=(0, 1))\n",
    "                \n",
    "        filename = f\"Visual/prediction/{sampling}/{target}/{selection_type}/{metric}.png\"\n",
    "        load.createDirectory(filename)\n",
    "        plt.savefig(filename, transparent=False, facecolor=\"white\")"
   ]
  },
  {
   "cell_type": "code",
   "execution_count": null,
   "metadata": {},
   "outputs": [],
   "source": [
    "for target in config.prediction_targets:\n",
    "    for sampling in config.sampling:\n",
    "        for selection_type in config.selection_types:\n",
    "            files = ['aak_ge', 'tcma_gen', 'tcma_gen_aak_ge']\n",
    "            data = [pd.read_csv(fr\"Data\\Descriptor\\Prediction_Tables\\{sampling}\\{target}\\{x}_{selection_type}_pred.csv\", index_col=None) for x in files]\n",
    "            plot_prediction_metrics_for_data_types(data, files, sampling, target, selection_type)"
   ]
  },
  {
   "cell_type": "code",
   "execution_count": null,
   "metadata": {},
   "outputs": [],
   "source": [
    "pred1 = [2, 2, 2, 0, 2]\n",
    "actual1 = [0, 2, 2, 1, 4]\n",
    "\n",
    "pred2 = [1, 2, 3, 0, 2]\n",
    "actual2 = [1, 2, 2, 1, 3]\n",
    "\n",
    "\n",
    "\n",
    "\n",
    "from sklearn.metrics import confusion_matrix\n",
    "\n",
    "# Put label or it will give a wrong dimension if values missing\n",
    "cnf_matrix = confusion_matrix(actual1, pred1, labels=range(5))#, normalize=\"all\")\n",
    "cnf_matrix2 = confusion_matrix(actual2, pred2, labels=range(5))#, normalize=\"all\")\n",
    "cnf_matrix"
   ]
  },
  {
   "cell_type": "code",
   "execution_count": null,
   "metadata": {},
   "outputs": [],
   "source": [
    "files = ['aak_ge', 'tcma_gen', 'tcma_gen_aak_ge']\n",
    "c_data = [pd.read_csv(fr\"Data\\Descriptor\\Prediction_Tables\\random_sampling\\stage\\{x}_chi2_predoutput.csv\", index_col=None) for x in files]\n",
    "           "
   ]
  },
  {
   "cell_type": "code",
   "execution_count": null,
   "metadata": {},
   "outputs": [],
   "source": [
    "\n",
    "import itertools\n",
    "import numpy as np\n",
    "def generate_confusion_matrix(output_per_layer, classes, layer_names, sampling, target, selection_type, normalize=False):\n",
    "    if normalize:\n",
    "        cnf_matrix = cnf_matrix.astype('float') / cnf_matrix.sum(axis=1)[:, np.newaxis]\n",
    "        print(\"Normalized confusion matrix\")\n",
    "    else:\n",
    "        print('Confusion matrix, without normalization')\n",
    "\n",
    "    cancer = \"COAD\"\n",
    "    for k, d in enumerate(output_per_layer):\n",
    "        if k > 0:\n",
    "            continue\n",
    "        fig = plt.figure(figsize = (24, 6))\n",
    "        d = d[d.cancer == cancer]\n",
    "        ps = d.p.unique()\n",
    "        \n",
    "        for i, p in enumerate(ps):\n",
    "            d_with_p_features = d[d.p == p]\n",
    "            predicted = d_with_p_features[\"predicted\"].values\n",
    "            actual = d_with_p_features[\"actual\"].values\n",
    "            matrix = confusion_matrix(predicted, actual, labels=range(5)) # normalize? don't hardcode.\n",
    "\n",
    "            \n",
    "            ax = fig.add_subplot(1,len(ps),(i+1)) \n",
    "            # plt.subplots_adjust(wspace=0)\n",
    "            plt.imshow(matrix, interpolation='nearest', cmap=plt.get_cmap('Blues'))\n",
    "            \n",
    "            # if i == 1:\n",
    "            plt.colorbar()\n",
    "            title = f\"{layer_names[k]} {target} pred {cancer} | {sampling} | {selection_type}\"\n",
    "            plt.title(title)\n",
    "\n",
    "            tick_marks = np.arange(len(classes))\n",
    "            plt.xticks(tick_marks, classes, rotation=45)\n",
    "            plt.yticks(tick_marks, classes)\n",
    "\n",
    "            fmt = '.2f' if normalize else 'd'\n",
    "            thresh = matrix.max() / 2.\n",
    "\n",
    "            for i, j in itertools.product(range(matrix.shape[0]), range(matrix.shape[1])):\n",
    "                plt.text(j, i, format(matrix[i, j], fmt), horizontalalignment=\"center\",\n",
    "                        color=\"white\" if matrix[i, j] > thresh else \"black\")\n",
    "\n",
    "            plt.tight_layout()\n",
    "            plt.ylabel('True label')\n",
    "            plt.xlabel('Predicted label')\n",
    "\n",
    "    return matrix\n",
    "labels = [\"Stage \" + str(x) for x in range(5)]\n",
    "generate_confusion_matrix(c_data, labels, files, \"random\", \"stage\", \"chi2\")"
   ]
  },
  {
   "cell_type": "code",
   "execution_count": null,
   "metadata": {},
   "outputs": [],
   "source": [
    "data, files = load.loadAll(includeStage=(target==\"stage\"), sameSamples=True)\n",
    "files"
   ]
  },
  {
   "cell_type": "code",
   "execution_count": null,
   "metadata": {},
   "outputs": [],
   "source": [
    "tcma_gen = data[0]\n",
    "tcma_gen.head(1)\n",
    "taxa = tcma_gen.iloc[:, :-2]\n",
    "taxa_means = taxa.mean(axis=0)\n",
    "\n",
    "# Remove zero values\n",
    "taxa_means_nonzero = taxa_means.where(lambda x : x != 0).dropna()\n",
    "\n",
    "print(f\"Dropped {len(taxa_means) - len(taxa_means_nonzero)} zero rows\")\n",
    "\n",
    "ax = taxa_means_nonzero.plot(kind=\"bar\", figsize=(50,10))"
   ]
  },
  {
   "cell_type": "code",
   "execution_count": null,
   "metadata": {},
   "outputs": [],
   "source": [
    "taxa_fig = ax.get_figure()\n",
    "taxa_fig.savefig(\"Visual/TCMA/tcma_genus_abundance.png\", transparent=False, facecolor=\"white\")"
   ]
  }
 ],
 "metadata": {
  "interpreter": {
   "hash": "5c9c23c68e4133fb152380ec4059b1f78568734598c8159b0962b671d1bd3454"
  },
  "kernelspec": {
   "display_name": "Python 3.9.4 ('bacteria')",
   "language": "python",
   "name": "python3"
  },
  "language_info": {
   "codemirror_mode": {
    "name": "ipython",
    "version": 3
   },
   "file_extension": ".py",
   "mimetype": "text/x-python",
   "name": "python",
   "nbconvert_exporter": "python",
   "pygments_lexer": "ipython3",
   "version": "3.9.4"
  },
  "orig_nbformat": 4
 },
 "nbformat": 4,
 "nbformat_minor": 2
}
