{
 "cells": [
  {
   "cell_type": "code",
   "execution_count": 3,
   "metadata": {},
   "outputs": [],
   "source": [
    "import pandas as pd\n",
    "\n",
    "# https://portal.gdc.cancer.gov/\n",
    "# tar -xvzf C:\\Users\\Ameno\\Downloads\\clinical.cases_selection.2022-03-29.tar.gz -C C:\\Users\\Ameno\\Downloads\\HNSC_clinical"
   ]
  },
  {
   "cell_type": "code",
   "execution_count": 4,
   "metadata": {},
   "outputs": [],
   "source": [
    "# df = pd.read_csv('sample_metadata.txt', delimiter = \"\\t\")\n",
    "g = pd.read_csv('Data/HNSC/tcga_scaled01_rnaseq.tsv', delimiter = \"\\t\", index_col=0)\n",
    "# b.head()\n",
    "# b.head()\n",
    "# df.head()\n",
    "# list(df.columns)"
   ]
  },
  {
   "cell_type": "code",
   "execution_count": 5,
   "metadata": {},
   "outputs": [
    {
     "name": "stdout",
     "output_type": "stream",
     "text": [
      "                                 TRHDE     RPE65     OR4N5    TRIM60  \\\n",
      "                             -0.042882  0.583696  0.369836  0.985446   \n",
      "TCGA-A6-2670-01A-02R-0821-07 -0.231989 -1.779292  0.913945 -0.452253   \n",
      "\n",
      "                                 LRIT2    ZNF677  C1orf129  MGC32805  \\\n",
      "                             -1.578451 -0.503370  0.112099  0.818456   \n",
      "TCGA-A6-2670-01A-02R-0821-07 -0.049176 -1.234968 -0.988846 -1.521509   \n",
      "\n",
      "                                  HBG2   TMEM163  ...    FBXO10  \\\n",
      "                             -1.049611 -0.304902  ... -0.147438   \n",
      "TCGA-A6-2670-01A-02R-0821-07  0.511784 -0.062709  ...  0.390474   \n",
      "\n",
      "                              RP11-218C14.6    TEX261     OBFC1    CHRDL2  \\\n",
      "                                  -0.845946  2.100277 -0.304646  1.097201   \n",
      "TCGA-A6-2670-01A-02R-0821-07       0.125562 -0.587602 -0.309476 -0.420616   \n",
      "\n",
      "                              ATP6V1G3    HOTAIR     ALG10    KCNMB4       TK2  \n",
      "                              0.802950 -0.513098  0.085296  0.779454 -0.792611  \n",
      "TCGA-A6-2670-01A-02R-0821-07 -2.019163 -0.769296 -0.098677 -1.666063  0.527340  \n",
      "\n",
      "[2 rows x 17814 columns]\n"
     ]
    }
   ],
   "source": [
    "# Explore SNF data\n",
    "g_snf = pd.read_csv(\"Data\\COAD\\COLON_Gene_Expression.txt\", delimiter = \"\\t\", index_col=0).T\n",
    "print(g_snf.head(2))\n",
    "# print(g.head(2))"
   ]
  },
  {
   "cell_type": "code",
   "execution_count": 30,
   "metadata": {},
   "outputs": [],
   "source": [
    "x_cancer_type = [\"COAD\", \"ESCA\", \"HNSC\", \"READ\", \"STAD\"]\n",
    "\n",
    "#stad has the most normal samples \n",
    "cancer = x_cancer_type[0]\n",
    "# cancer = \"HNSC\"\n",
    "# cancer = \"ESCA\"\n",
    "# cancer = \"READ\"\n",
    "\n",
    "b = pd.read_csv(f'Data/{cancer}/Microbial/bacteria.sample.relabund.phylum.txt', delimiter = \"\\t\", index_col=0).T"
   ]
  },
  {
   "cell_type": "code",
   "execution_count": 31,
   "metadata": {},
   "outputs": [
    {
     "name": "stdout",
     "output_type": "stream",
     "text": [
      "no occurrences: ['TCGA-AA-A010-01', 'TCGA-AA-A00Z-01', 'TCGA-A6-2676-01', 'TCGA-A6-5659-01B', 'TCGA-AA-3666-01', 'TCGA-AA-A01V-11', 'TCGA-AA-3947-01', 'TCGA-A6-2679-01', 'TCGA-AA-3558-01', 'TCGA-AA-A01V-01', 'TCGA-AY-4070-01', 'TCGA-AA-3494-11', 'TCGA-A6-2680-01', 'TCGA-A6-2677-01B', 'TCGA-AA-3529-01', 'TCGA-A6-3810-11', 'TCGA-AA-3681-01', 'TCGA-CM-4750-01', 'TCGA-A6-3808-11', 'TCGA-AA-3664-01', 'TCGA-AA-A02W-01', 'TCGA-AA-3516-01', 'TCGA-AA-A01Q-01', 'TCGA-AA-3549-01', 'TCGA-AA-A01S-01', 'TCGA-AA-3692-01', 'TCGA-AA-3510-11', 'TCGA-AA-A01K-01', 'TCGA-AA-A01D-01', 'TCGA-AA-3494-01', 'TCGA-AA-3812-01', 'TCGA-A6-6780-01B', 'TCGA-AA-3956-01', 'TCGA-AA-A01T-01', 'TCGA-AZ-4308-01', 'TCGA-AA-A01R-11', 'TCGA-AA-3510-01', 'TCGA-AA-3861-01', 'TCGA-A6-3807-01', 'TCGA-A6-2671-01', 'TCGA-AZ-4681-01', 'TCGA-AA-3514-01', 'TCGA-AA-3495-11', 'TCGA-AA-A02O-01', 'TCGA-AA-A02R-01', 'TCGA-A6-5656-01B', 'TCGA-CM-4752-01', 'TCGA-AA-3553-01', 'TCGA-AA-A03F-11', 'TCGA-A6-6650-01B', 'TCGA-AA-A01C-01', 'TCGA-AA-3509-11', 'TCGA-A6-3807-11', 'TCGA-AA-A00N-01', 'TCGA-AA-A01P-11', 'TCGA-AA-3715-01', 'TCGA-AZ-4682-01B', 'TCGA-AA-3502-11', 'TCGA-A6-2683-01', 'TCGA-AA-3966-01', 'TCGA-A6-2674-01', 'TCGA-A6-2684-01C', 'TCGA-AA-3548-01', 'TCGA-A6-3808-01', 'TCGA-A6-2677-01', 'TCGA-AA-A01G-01', 'TCGA-AA-3529-11', 'TCGA-A6-3810-01', 'TCGA-AA-3693-01', 'TCGA-AA-A01T-11', 'TCGA-AA-A03J-11', 'TCGA-A6-2678-01', 'TCGA-A6-3809-01', 'TCGA-CM-4748-01', 'TCGA-AA-3672-01', 'TCGA-CM-4746-01', 'TCGA-AA-A02O-11', 'TCGA-AA-A00U-01', 'TCGA-AA-A03F-01', 'TCGA-AA-3968-01', 'TCGA-AA-3977-01', 'TCGA-AA-A03J-01', 'TCGA-A6-3809-01B', 'TCGA-AA-3970-01', 'TCGA-AA-3534-01', 'TCGA-AA-A01R-01', 'TCGA-AA-3555-01', 'TCGA-AA-A01I-01', 'TCGA-AA-A00R-01', 'TCGA-A6-2681-01', 'TCGA-AA-3518-01', 'TCGA-AY-4071-01', 'TCGA-AA-A01X-11', 'TCGA-AA-A00Q-01', 'TCGA-A6-3810-01B', 'TCGA-AA-A01S-11', 'TCGA-AA-3994-01', 'TCGA-AA-3688-01']\n",
      "overlapping count:  48 / 146\n",
      "normal count:  30 / 146\n",
      "normal overlapping count:  3 / 30\n"
     ]
    }
   ],
   "source": [
    "g.head()\n",
    "# b.head()\n",
    "\n",
    "g.iloc[:,3]\n",
    "g_samples = list(g.index.values)\n",
    "b_samples = list(b.index.values)\n",
    "set(g_samples).intersection(b_samples)\n",
    "b_samples\n",
    "# print(g.columns)\n",
    "# print(g.describe())\n",
    "\n",
    "find = \"TCGA-CR-6491\"\n",
    "# find = \"TCGA-CV-7090\"\n",
    "\n",
    "# TCGA-ZX-AA5X-01 does not occur, and has duplicates. Not true, it has it. It just doesn't have some of the elevens ( other elevens it does ), and take care of the b ones\n",
    "\n",
    "# HNSC \n",
    "\n",
    "def findOverlap(a_samples, b_samples, ignoreVial=False):\n",
    "    overlapping_count = 0\n",
    "    normal_overlapping_count = 0\n",
    "    missing = []\n",
    "    control_count = 0\n",
    "    for find in a_samples:\n",
    "        occurrences = 0\n",
    "        for s in b_samples:\n",
    "            if ignoreVial and find[-1]==\"A\":\n",
    "                find = find[:-1]\n",
    "            if find in s:\n",
    "                occurrences+=1\n",
    "        if occurrences<1:\n",
    "            # print(find, \" does not have any occurrences\")\n",
    "            missing.append(find)\n",
    "        else:\n",
    "            overlapping_count += 1\n",
    "        if ((ignoreVial and find[-2] == \"1\") or (not ignoreVial and find[-3] == \"1\")):\n",
    "            control_count += 1\n",
    "            if occurrences > 0:\n",
    "                normal_overlapping_count += 1\n",
    "    print(\"no occurrences:\", missing)\n",
    "    print(\"overlapping count: \", overlapping_count, \"/\", len(a_samples))\n",
    "    print(\"normal count: \", control_count, \"/\", len(a_samples))\n",
    "    print(\"normal overlapping count: \", normal_overlapping_count, \"/\", control_count)\n",
    "    return missing\n",
    "rna_stad_missing = findOverlap(b_samples, g_samples, ignoreVial=True)\n",
    "l1=[]\n",
    "for i in b:\n",
    "    if i not in l1:\n",
    "        l1.append(i)\n",
    "    else:\n",
    "        print(i,end=' ')\n",
    "\n",
    "\n",
    "# tumor normal and control \n",
    "import re\n",
    "for s in g_samples:\n",
    "    if \"4183\" in s:\n",
    "    # if re.search(r\"[1].$\",s):\n",
    "    # if \"-21\" in s:\n",
    "        \n",
    "        print(s)"
   ]
  },
  {
   "cell_type": "code",
   "execution_count": 32,
   "metadata": {},
   "outputs": [
    {
     "name": "stdout",
     "output_type": "stream",
     "text": [
      "no occurrences: ['TCGA-AA-A01V-11A', 'TCGA-AA-3558-01A', 'TCGA-AA-3494-11A', 'TCGA-A6-3810-11A', 'TCGA-A6-3808-11A', 'TCGA-AA-3510-11A', 'TCGA-AA-A01R-11A', 'TCGA-AZ-4681-01A', 'TCGA-AA-3495-11A', 'TCGA-AA-A03F-11A', 'TCGA-AA-3509-11A', 'TCGA-A6-3807-11A', 'TCGA-AA-A01P-11A', 'TCGA-AA-3502-11A', 'TCGA-AA-3529-11A', 'TCGA-AA-A01T-11A', 'TCGA-AA-A03J-11A', 'TCGA-AA-A02O-11A', 'TCGA-AA-A01X-11A', 'TCGA-AA-A01S-11A']\n",
      "overlapping count:  126 / 146\n",
      "normal count:  21 / 146\n",
      "normal overlapping count:  3 / 21\n",
      "x-tc: set()  tc-x: {'TCGA-AA-A01Q-01', 'TCGA-AA-3518-01', 'TCGA-AA-A01D-01', 'TCGA-A6-2683-01', 'TCGA-AA-3966-01', 'TCGA-AA-3968-01', 'TCGA-AA-A01I-01', 'TCGA-AA-3494-01', 'TCGA-CM-4752-01', 'TCGA-A6-2681-01', 'TCGA-A6-6780-01B', 'TCGA-A6-2676-01', 'TCGA-AA-A02O-01', 'TCGA-AA-3529-01', 'TCGA-AA-3494-11', 'TCGA-AA-3558-01', 'TCGA-A6-5656-01B', 'TCGA-A6-3809-01B', 'TCGA-AA-3516-01', 'TCGA-AA-3812-01', 'TCGA-AA-3861-01', 'TCGA-A6-3807-01', 'TCGA-AA-3529-11', 'TCGA-AA-3947-01', 'TCGA-A6-3808-11', 'TCGA-AA-3510-01', 'TCGA-AA-3970-01', 'TCGA-A6-3809-01', 'TCGA-AA-3688-01', 'TCGA-AA-A02W-01', 'TCGA-AA-3956-01', 'TCGA-AA-A03J-01', 'TCGA-AA-3672-01', 'TCGA-AA-3692-01', 'TCGA-AA-3495-11', 'TCGA-AY-4071-01', 'TCGA-A6-2674-01', 'TCGA-AA-A01K-01', 'TCGA-AA-3548-01', 'TCGA-AA-A01G-01', 'TCGA-AA-A03F-01', 'TCGA-AA-A00Q-01', 'TCGA-AA-A00Z-01', 'TCGA-AA-A02O-11', 'TCGA-AA-3534-01', 'TCGA-A6-3810-01', 'TCGA-AA-3664-01', 'TCGA-AA-A01R-11', 'TCGA-A6-2679-01', 'TCGA-A6-2678-01', 'TCGA-CM-4748-01', 'TCGA-AA-3994-01', 'TCGA-AA-A01R-01', 'TCGA-AZ-4681-01', 'TCGA-AA-A01T-11', 'TCGA-AA-3715-01', 'TCGA-AA-3514-01', 'TCGA-AA-A01V-11', 'TCGA-AA-A01C-01', 'TCGA-A6-2680-01', 'TCGA-A6-2677-01', 'TCGA-AZ-4308-01', 'TCGA-AA-3693-01', 'TCGA-AA-A00R-01', 'TCGA-AA-3549-01', 'TCGA-A6-5659-01B', 'TCGA-CM-4746-01', 'TCGA-AA-A00U-01', 'TCGA-AA-A00N-01', 'TCGA-AA-A01X-11', 'TCGA-A6-2677-01B', 'TCGA-AA-A01S-01', 'TCGA-A6-2671-01', 'TCGA-A6-6650-01B', 'TCGA-A6-2684-01C', 'TCGA-AA-3681-01', 'TCGA-AA-3555-01', 'TCGA-A6-3807-11', 'TCGA-AA-3553-01', 'TCGA-CM-4750-01', 'TCGA-AA-3510-11', 'TCGA-AA-A01S-11', 'TCGA-AA-A01P-11', 'TCGA-A6-3810-01B', 'TCGA-AA-A01T-01', 'TCGA-AA-3509-11', 'TCGA-A6-3808-01', 'TCGA-AA-A03F-11', 'TCGA-AZ-4682-01B', 'TCGA-AY-4070-01', 'TCGA-AA-A01V-01', 'TCGA-AA-A03J-11', 'TCGA-AA-A02R-01', 'TCGA-A6-3810-11', 'TCGA-AA-3502-11', 'TCGA-AA-3977-01', 'TCGA-AA-A010-01', 'TCGA-AA-3666-01'}\n"
     ]
    }
   ],
   "source": [
    "x_type = [\"cnv\", \"methylation\", \"rnaseq\"]\n",
    "# x_cancer_type = [\"COAD\", \"READ\", \"STAD\"]\n",
    "xe_rna_stad_samples = pd.read_csv(rf\"Data\\{cancer}\\xenos_{x_type[2]}_samples.txt\", names=[\"sample\"], header=None)\n",
    "xe_rna_stad_samples.head(2)\n",
    "xe_rna_stad_missing = findOverlap(b_samples, xe_rna_stad_samples[\"sample\"].tolist())\n",
    "xe_rna_stad_missing = map(lambda x: x[:-1], xe_rna_stad_missing)\n",
    "with_xe_difference = set(xe_rna_stad_missing).difference(set(rna_stad_missing))\n",
    "from_xe_difference = set(rna_stad_missing).difference(set(xe_rna_stad_missing))\n",
    "\n",
    "print(\"x-tc:\", with_xe_difference, \" tc-x:\", from_xe_difference)\n",
    "# findOverlap(b_samples, g_snf_samples_mapped)"
   ]
  },
  {
   "cell_type": "code",
   "execution_count": 14,
   "metadata": {},
   "outputs": [],
   "source": [
    "g2 = pd.read_csv('Data\\pancan_scaled_rnaseq.tsv\\pancan_scaled_rnaseq.tsv', delimiter = \"\\t\", index_col=0)"
   ]
  },
  {
   "cell_type": "code",
   "execution_count": 18,
   "metadata": {},
   "outputs": [
    {
     "data": {
      "text/plain": [
       "10459"
      ]
     },
     "execution_count": 18,
     "metadata": {},
     "output_type": "execute_result"
    }
   ],
   "source": [
    "g2_samples = list(g2.index.values)\n",
    "# len(g_samples)\n",
    "same = set(g2_samples).intersection(g_samples)\n",
    "len(same)"
   ]
  },
  {
   "cell_type": "code",
   "execution_count": 12,
   "metadata": {},
   "outputs": [
    {
     "name": "stdout",
     "output_type": "stream",
     "text": [
      "                   RPS4Y1      XIST      KRT5  AGR2  CEACAM5     KRT6A  \\\n",
      "name                                                                     \n",
      "TCGA-02-0047-01  0.678296  0.289910  0.034230   0.0      0.0  0.084731   \n",
      "TCGA-02-0055-01  0.200633  0.654917  0.181993   0.0      0.0  0.100606   \n",
      "\n",
      "                    KRT14   CEACAM6     DDX3Y     KDM5D  ...   FAM129A  \\\n",
      "name                                                     ...             \n",
      "TCGA-02-0047-01  0.031863  0.037709  0.746797  0.687833  ...  0.440610   \n",
      "TCGA-02-0055-01  0.050011  0.092586  0.103725  0.140642  ...  0.620658   \n",
      "\n",
      "                  C8orf48    CDK5R1    FAM81A  C13orf18     GDPD3     SMAGP  \\\n",
      "name                                                                          \n",
      "TCGA-02-0047-01  0.428782  0.732819  0.634340  0.580662  0.294313  0.458134   \n",
      "TCGA-02-0055-01  0.363207  0.592269  0.602755  0.610192  0.374569  0.722420   \n",
      "\n",
      "                  C2orf85   POU5F1B     CHST2  \n",
      "name                                           \n",
      "TCGA-02-0047-01  0.478219  0.168263  0.638497  \n",
      "TCGA-02-0055-01  0.271356  0.160465  0.602560  \n",
      "\n",
      "[2 rows x 5000 columns]\n"
     ]
    },
    {
     "data": {
      "text/html": [
       "<div>\n",
       "<style scoped>\n",
       "    .dataframe tbody tr th:only-of-type {\n",
       "        vertical-align: middle;\n",
       "    }\n",
       "\n",
       "    .dataframe tbody tr th {\n",
       "        vertical-align: top;\n",
       "    }\n",
       "\n",
       "    .dataframe thead th {\n",
       "        text-align: right;\n",
       "    }\n",
       "</style>\n",
       "<table border=\"1\" class=\"dataframe\">\n",
       "  <thead>\n",
       "    <tr style=\"text-align: right;\">\n",
       "      <th>name</th>\n",
       "      <th>Bacteroidetes</th>\n",
       "      <th>Proteobacteria</th>\n",
       "      <th>Firmicutes</th>\n",
       "      <th>Fusobacteria</th>\n",
       "      <th>Verrucomicrobia</th>\n",
       "      <th>Chloroflexi</th>\n",
       "      <th>Thermotogae</th>\n",
       "      <th>Actinobacteria</th>\n",
       "      <th>Spirochaetes</th>\n",
       "      <th>Synergistetes</th>\n",
       "      <th>Tenericutes</th>\n",
       "    </tr>\n",
       "  </thead>\n",
       "  <tbody>\n",
       "    <tr>\n",
       "      <th>TCGA-AG-3999-01A</th>\n",
       "      <td>0.647603</td>\n",
       "      <td>0.000000</td>\n",
       "      <td>0.067323</td>\n",
       "      <td>0.276764</td>\n",
       "      <td>0.0</td>\n",
       "      <td>0.0</td>\n",
       "      <td>0.0</td>\n",
       "      <td>0.0</td>\n",
       "      <td>0.0</td>\n",
       "      <td>0.0</td>\n",
       "      <td>0.0</td>\n",
       "    </tr>\n",
       "    <tr>\n",
       "      <th>TCGA-AG-A01L-01A</th>\n",
       "      <td>0.579041</td>\n",
       "      <td>0.234426</td>\n",
       "      <td>0.160304</td>\n",
       "      <td>0.013424</td>\n",
       "      <td>0.0</td>\n",
       "      <td>0.0</td>\n",
       "      <td>0.0</td>\n",
       "      <td>0.0</td>\n",
       "      <td>0.0</td>\n",
       "      <td>0.0</td>\n",
       "      <td>0.0</td>\n",
       "    </tr>\n",
       "  </tbody>\n",
       "</table>\n",
       "</div>"
      ],
      "text/plain": [
       "name              Bacteroidetes  Proteobacteria  Firmicutes  Fusobacteria  \\\n",
       "TCGA-AG-3999-01A       0.647603        0.000000    0.067323      0.276764   \n",
       "TCGA-AG-A01L-01A       0.579041        0.234426    0.160304      0.013424   \n",
       "\n",
       "name              Verrucomicrobia  Chloroflexi  Thermotogae  Actinobacteria  \\\n",
       "TCGA-AG-3999-01A              0.0          0.0          0.0             0.0   \n",
       "TCGA-AG-A01L-01A              0.0          0.0          0.0             0.0   \n",
       "\n",
       "name              Spirochaetes  Synergistetes  Tenericutes  \n",
       "TCGA-AG-3999-01A           0.0            0.0          0.0  \n",
       "TCGA-AG-A01L-01A           0.0            0.0          0.0  "
      ]
     },
     "execution_count": 12,
     "metadata": {},
     "output_type": "execute_result"
    }
   ],
   "source": [
    "# g.rename(columns={0:\"name\"}, inplace=True)\n",
    "g.index.name = \"name\"\n",
    "print(g.head(2))\n",
    "b.index\n",
    "b.head(2)"
   ]
  },
  {
   "cell_type": "code",
   "execution_count": 13,
   "metadata": {},
   "outputs": [],
   "source": [
    "b.rename(index= lambda s: s[:-1] if s[-1]==\"A\"else s, inplace=True)\n",
    "multi = b.join(g, how=\"inner\")\n",
    "# multi.loc[\"TCGA-CV-5970-11\"]\n",
    "multi.index.name = \"patient\"\n",
    "# multi[\"patient\"]\n",
    "# multi[\"tumor\"] = multi.apply(lambda row: 1 if re.search(r\"[0].$\",row.name) else 0)\n",
    "multi[\"tumor\"] = multi.apply(lambda row: 1 if re.search(r\"[0].$\",row.name) else 0, axis=1)\n",
    "# multi.apply(lambda row: print(row.name))\n",
    "multi.to_csv(f\"Data/{cancer}/gene_biome_{cancer}.csv\")\n",
    "# pd.merge(b, g, how=\"inner\", left_on=\"name\")\n",
    "# g.merge(b, how=\"inner\", on=\"name\")"
   ]
  }
 ],
 "metadata": {
  "interpreter": {
   "hash": "471eca0dc848140133dc64d1932547dad678b609e95c6d148d4173db0d1b72c4"
  },
  "kernelspec": {
   "display_name": "Python 3.9.4 ('bacteria')",
   "language": "python",
   "name": "python3"
  },
  "language_info": {
   "codemirror_mode": {
    "name": "ipython",
    "version": 3
   },
   "file_extension": ".py",
   "mimetype": "text/x-python",
   "name": "python",
   "nbconvert_exporter": "python",
   "pygments_lexer": "ipython3",
   "version": "3.9.4"
  },
  "orig_nbformat": 4
 },
 "nbformat": 4,
 "nbformat_minor": 2
}
