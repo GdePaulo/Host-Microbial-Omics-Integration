{
 "cells": [
  {
   "cell_type": "code",
   "execution_count": 8,
   "metadata": {},
   "outputs": [],
   "source": [
    "import pandas as pd\n",
    "\n",
    "# https://portal.gdc.cancer.gov/\n",
    "# tar -xvzf C:\\Users\\Ameno\\Downloads\\clinical.cases_selection.2022-03-29.tar.gz -C C:\\Users\\Ameno\\Downloads\\HNSC_clinical"
   ]
  },
  {
   "cell_type": "code",
   "execution_count": 9,
   "metadata": {},
   "outputs": [],
   "source": [
    "# df = pd.read_csv('sample_metadata.txt', delimiter = \"\\t\")\n",
    "g = pd.read_csv('Data/HNSC/tcga_scaled01_rnaseq.tsv', delimiter = \"\\t\", index_col=0)\n",
    "# b.head()\n",
    "# b.head()\n",
    "# df.head()\n",
    "# list(df.columns)"
   ]
  },
  {
   "cell_type": "code",
   "execution_count": 22,
   "metadata": {},
   "outputs": [
    {
     "name": "stdout",
     "output_type": "stream",
     "text": [
      "                                 TRHDE     RPE65     OR4N5    TRIM60  \\\n",
      "                             -0.042882  0.583696  0.369836  0.985446   \n",
      "TCGA-A6-2670-01A-02R-0821-07 -0.231989 -1.779292  0.913945 -0.452253   \n",
      "\n",
      "                                 LRIT2    ZNF677  C1orf129  MGC32805  \\\n",
      "                             -1.578451 -0.503370  0.112099  0.818456   \n",
      "TCGA-A6-2670-01A-02R-0821-07 -0.049176 -1.234968 -0.988846 -1.521509   \n",
      "\n",
      "                                  HBG2   TMEM163  ...    FBXO10  \\\n",
      "                             -1.049611 -0.304902  ... -0.147438   \n",
      "TCGA-A6-2670-01A-02R-0821-07  0.511784 -0.062709  ...  0.390474   \n",
      "\n",
      "                              RP11-218C14.6    TEX261     OBFC1    CHRDL2  \\\n",
      "                                  -0.845946  2.100277 -0.304646  1.097201   \n",
      "TCGA-A6-2670-01A-02R-0821-07       0.125562 -0.587602 -0.309476 -0.420616   \n",
      "\n",
      "                              ATP6V1G3    HOTAIR     ALG10    KCNMB4       TK2  \n",
      "                              0.802950 -0.513098  0.085296  0.779454 -0.792611  \n",
      "TCGA-A6-2670-01A-02R-0821-07 -2.019163 -0.769296 -0.098677 -1.666063  0.527340  \n",
      "\n",
      "[2 rows x 17814 columns]\n",
      "                   RPS4Y1      XIST      KRT5  AGR2  CEACAM5     KRT6A  \\\n",
      "name                                                                     \n",
      "TCGA-02-0047-01  0.678296  0.289910  0.034230   0.0      0.0  0.084731   \n",
      "TCGA-02-0055-01  0.200633  0.654917  0.181993   0.0      0.0  0.100606   \n",
      "\n",
      "                    KRT14   CEACAM6     DDX3Y     KDM5D  ...   FAM129A  \\\n",
      "name                                                     ...             \n",
      "TCGA-02-0047-01  0.031863  0.037709  0.746797  0.687833  ...  0.440610   \n",
      "TCGA-02-0055-01  0.050011  0.092586  0.103725  0.140642  ...  0.620658   \n",
      "\n",
      "                  C8orf48    CDK5R1    FAM81A  C13orf18     GDPD3     SMAGP  \\\n",
      "name                                                                          \n",
      "TCGA-02-0047-01  0.428782  0.732819  0.634340  0.580662  0.294313  0.458134   \n",
      "TCGA-02-0055-01  0.363207  0.592269  0.602755  0.610192  0.374569  0.722420   \n",
      "\n",
      "                  C2orf85   POU5F1B     CHST2  \n",
      "name                                           \n",
      "TCGA-02-0047-01  0.478219  0.168263  0.638497  \n",
      "TCGA-02-0055-01  0.271356  0.160465  0.602560  \n",
      "\n",
      "[2 rows x 5000 columns]\n"
     ]
    }
   ],
   "source": [
    "g_snf = pd.read_csv(\"Data\\COAD\\COLON_Gene_Expression.txt\", delimiter = \"\\t\", index_col=0).T\n",
    "print(g_snf.head(2))\n",
    "print(g.head(2))"
   ]
  },
  {
   "cell_type": "code",
   "execution_count": 27,
   "metadata": {},
   "outputs": [],
   "source": [
    "# cancer = \"COAD\"\n",
    "\n",
    "# has the most normal samples \n",
    "cancer = \"STAD\"\n",
    "# cancer = \"HNSC\"\n",
    "# cancer = \"ESCA\"\n",
    "# cancer = \"READ\"\n",
    "\n",
    "b = pd.read_csv(f'Data/{cancer}/Microbial/bacteria.sample.relabund.phylum.txt', delimiter = \"\\t\", index_col=0).T"
   ]
  },
  {
   "cell_type": "code",
   "execution_count": 56,
   "metadata": {},
   "outputs": [
    {
     "name": "stdout",
     "output_type": "stream",
     "text": [
      "no occurrences: ['TCGA-BR-4188-11', 'TCGA-BR-4280-11', 'TCGA-BR-4369-11', 'TCGA-CG-5728-01', 'TCGA-CG-5726-11', 'TCGA-BR-4267-11', 'TCGA-BR-4256-11', 'TCGA-BR-4184-01', 'TCGA-BR-4187-11', 'TCGA-BR-6710-01', 'TCGA-BR-4363-11', 'TCGA-BR-4366-11', 'TCGA-CG-5725-11', 'TCGA-CG-4455-01', 'TCGA-CG-5730-01', 'TCGA-BR-4292-11', 'TCGA-CG-5723-11', 'TCGA-CG-5727-11', 'TCGA-CG-5727-01', 'TCGA-BR-4367-11', 'TCGA-BR-4255-11', 'TCGA-BR-4191-11', 'TCGA-BR-4184-11', 'TCGA-BR-4253-11', 'TCGA-BR-4183-01', 'TCGA-CG-5733-01', 'TCGA-BR-4370-11', 'TCGA-CG-5724-11', 'TCGA-BR-4357-11', 'TCGA-D7-5579-01', 'TCGA-HU-A4H0-11', 'TCGA-CG-4300-01', 'TCGA-BR-4294-11', 'TCGA-CD-5802-01', 'TCGA-BR-4201-11', 'TCGA-BR-4368-11', 'TCGA-BR-4279-11', 'TCGA-BR-4188-01', 'TCGA-EQ-5647-01', 'TCGA-F1-6875-11', 'TCGA-HU-8245-01', 'TCGA-CG-5732-11', 'TCGA-BR-4257-11', 'TCGA-BR-4183-11']\n",
      "overlapping count:  122 / 166\n",
      "normal count:  39 / 166\n",
      "normal overlapping count:  9 / 39\n"
     ]
    }
   ],
   "source": [
    "g.head()\n",
    "# b.head()\n",
    "\n",
    "g.iloc[:,3]\n",
    "g_samples = list(g.index.values)\n",
    "b_samples = list(b.index.values)\n",
    "set(g_samples).intersection(b_samples)\n",
    "b_samples\n",
    "# print(g.columns)\n",
    "# print(g.describe())\n",
    "\n",
    "find = \"TCGA-CR-6491\"\n",
    "# find = \"TCGA-CV-7090\"\n",
    "\n",
    "# TCGA-ZX-AA5X-01 does not occur, and has duplicates. Not true, it has it. It just doesn't have some of the elevens ( other elevens it does ), and take care of the b ones\n",
    "\n",
    "# HNSC \n",
    "\n",
    "def findOverlap(a_samples, b_samples, ignoreVial=False):\n",
    "    overlapping_count = 0\n",
    "    normal_overlapping_count = 0\n",
    "    missing = []\n",
    "    control_count = 0\n",
    "    for find in a_samples:\n",
    "        occurrences = 0\n",
    "        for s in b_samples:\n",
    "            if ignoreVial and find[-1]==\"A\":\n",
    "                find = find[:-1]\n",
    "            if find in s:\n",
    "                occurrences+=1\n",
    "        if occurrences<1:\n",
    "            # print(find, \" does not have any occurrences\")\n",
    "            missing.append(find)\n",
    "        else:\n",
    "            overlapping_count += 1\n",
    "        if ((ignoreVial and find[-2] == \"1\") or (not ignoreVial and find[-3] == \"1\")):\n",
    "            control_count += 1\n",
    "            if occurrences > 0:\n",
    "                normal_overlapping_count += 1\n",
    "    print(\"no occurrences:\", missing)\n",
    "    print(\"overlapping count: \", overlapping_count, \"/\", len(a_samples))\n",
    "    print(\"normal count: \", control_count, \"/\", len(a_samples))\n",
    "    print(\"normal overlapping count: \", normal_overlapping_count, \"/\", control_count)\n",
    "findOverlap(b_samples, g_samples, ignoreVial=True)\n",
    "l1=[]\n",
    "for i in b:\n",
    "    if i not in l1:\n",
    "        l1.append(i)\n",
    "    else:\n",
    "        print(i,end=' ')\n",
    "\n",
    "\n",
    "# tumor normal and control \n",
    "import re\n",
    "for s in g_samples:\n",
    "    if \"4183\" in s:\n",
    "    # if re.search(r\"[1].$\",s):\n",
    "    # if \"-21\" in s:\n",
    "        \n",
    "        print(s)"
   ]
  },
  {
   "cell_type": "code",
   "execution_count": 57,
   "metadata": {},
   "outputs": [
    {
     "name": "stdout",
     "output_type": "stream",
     "text": [
      "no occurrences: ['TCGA-CG-4474-01A', 'TCGA-BR-4188-11A', 'TCGA-BR-4280-11A', 'TCGA-BR-4369-11A', 'TCGA-CG-5728-01A', 'TCGA-CG-5726-11A', 'TCGA-BR-4267-11A', 'TCGA-BR-4292-01A', 'TCGA-BR-4256-11A', 'TCGA-BR-4184-01A', 'TCGA-BR-4187-11A', 'TCGA-HU-A4G6-01A', 'TCGA-D7-6518-01A', 'TCGA-CG-4472-01A', 'TCGA-BR-4363-11A', 'TCGA-BR-4366-11A', 'TCGA-CG-5725-11A', 'TCGA-CG-4455-01A', 'TCGA-CG-5730-01A', 'TCGA-BR-4292-11A', 'TCGA-CG-5723-11A', 'TCGA-CG-5727-11A', 'TCGA-CG-5727-01A', 'TCGA-BR-4367-11A', 'TCGA-BR-4255-11A', 'TCGA-BR-4191-11A', 'TCGA-BR-4184-11A', 'TCGA-BR-4253-11A', 'TCGA-BR-4183-01A', 'TCGA-D7-6820-01A', 'TCGA-CG-5733-01A', 'TCGA-BR-4370-11A', 'TCGA-CG-5724-11A', 'TCGA-CG-4449-01A', 'TCGA-BR-6706-01A', 'TCGA-BR-4357-11A', 'TCGA-D7-5579-01A', 'TCGA-HU-A4H0-11A', 'TCGA-CG-4300-01A', 'TCGA-BR-4294-11A', 'TCGA-CD-5802-01A', 'TCGA-BR-4201-11A', 'TCGA-BR-4368-11A', 'TCGA-BR-4279-11A', 'TCGA-BR-4188-01A', 'TCGA-EQ-5647-01A', 'TCGA-F1-6875-11A', 'TCGA-B7-5816-01A', 'TCGA-HU-8245-01A', 'TCGA-HF-7136-01A', 'TCGA-CG-5732-11A', 'TCGA-BR-4257-11A', 'TCGA-D7-6817-01A', 'TCGA-BR-4255-01A', 'TCGA-BR-4183-11A']\n",
      "overlapping count:  111 / 166\n",
      "normal count:  39 / 166\n",
      "normal overlapping count:  9 / 39\n"
     ]
    }
   ],
   "source": [
    "xe_rna_stad_samples = pd.read_csv(r\"Data\\STAD\\xenos_rnaseq_samples.txt\", names=[\"sample\"], header=None)\n",
    "xe_rna_stad_samples.head(2)\n",
    "findOverlap(b_samples, xe_rna_stad_samples[\"sample\"].tolist())"
   ]
  },
  {
   "cell_type": "code",
   "execution_count": 14,
   "metadata": {},
   "outputs": [],
   "source": [
    "g2 = pd.read_csv('Data\\pancan_scaled_rnaseq.tsv\\pancan_scaled_rnaseq.tsv', delimiter = \"\\t\", index_col=0)"
   ]
  },
  {
   "cell_type": "code",
   "execution_count": 18,
   "metadata": {},
   "outputs": [
    {
     "data": {
      "text/plain": [
       "10459"
      ]
     },
     "execution_count": 18,
     "metadata": {},
     "output_type": "execute_result"
    }
   ],
   "source": [
    "g2_samples = list(g2.index.values)\n",
    "# len(g_samples)\n",
    "same = set(g2_samples).intersection(g_samples)\n",
    "len(same)"
   ]
  },
  {
   "cell_type": "code",
   "execution_count": 12,
   "metadata": {},
   "outputs": [
    {
     "name": "stdout",
     "output_type": "stream",
     "text": [
      "                   RPS4Y1      XIST      KRT5  AGR2  CEACAM5     KRT6A  \\\n",
      "name                                                                     \n",
      "TCGA-02-0047-01  0.678296  0.289910  0.034230   0.0      0.0  0.084731   \n",
      "TCGA-02-0055-01  0.200633  0.654917  0.181993   0.0      0.0  0.100606   \n",
      "\n",
      "                    KRT14   CEACAM6     DDX3Y     KDM5D  ...   FAM129A  \\\n",
      "name                                                     ...             \n",
      "TCGA-02-0047-01  0.031863  0.037709  0.746797  0.687833  ...  0.440610   \n",
      "TCGA-02-0055-01  0.050011  0.092586  0.103725  0.140642  ...  0.620658   \n",
      "\n",
      "                  C8orf48    CDK5R1    FAM81A  C13orf18     GDPD3     SMAGP  \\\n",
      "name                                                                          \n",
      "TCGA-02-0047-01  0.428782  0.732819  0.634340  0.580662  0.294313  0.458134   \n",
      "TCGA-02-0055-01  0.363207  0.592269  0.602755  0.610192  0.374569  0.722420   \n",
      "\n",
      "                  C2orf85   POU5F1B     CHST2  \n",
      "name                                           \n",
      "TCGA-02-0047-01  0.478219  0.168263  0.638497  \n",
      "TCGA-02-0055-01  0.271356  0.160465  0.602560  \n",
      "\n",
      "[2 rows x 5000 columns]\n"
     ]
    },
    {
     "data": {
      "text/html": [
       "<div>\n",
       "<style scoped>\n",
       "    .dataframe tbody tr th:only-of-type {\n",
       "        vertical-align: middle;\n",
       "    }\n",
       "\n",
       "    .dataframe tbody tr th {\n",
       "        vertical-align: top;\n",
       "    }\n",
       "\n",
       "    .dataframe thead th {\n",
       "        text-align: right;\n",
       "    }\n",
       "</style>\n",
       "<table border=\"1\" class=\"dataframe\">\n",
       "  <thead>\n",
       "    <tr style=\"text-align: right;\">\n",
       "      <th>name</th>\n",
       "      <th>Bacteroidetes</th>\n",
       "      <th>Proteobacteria</th>\n",
       "      <th>Firmicutes</th>\n",
       "      <th>Fusobacteria</th>\n",
       "      <th>Verrucomicrobia</th>\n",
       "      <th>Chloroflexi</th>\n",
       "      <th>Thermotogae</th>\n",
       "      <th>Actinobacteria</th>\n",
       "      <th>Spirochaetes</th>\n",
       "      <th>Synergistetes</th>\n",
       "      <th>Tenericutes</th>\n",
       "    </tr>\n",
       "  </thead>\n",
       "  <tbody>\n",
       "    <tr>\n",
       "      <th>TCGA-AG-3999-01A</th>\n",
       "      <td>0.647603</td>\n",
       "      <td>0.000000</td>\n",
       "      <td>0.067323</td>\n",
       "      <td>0.276764</td>\n",
       "      <td>0.0</td>\n",
       "      <td>0.0</td>\n",
       "      <td>0.0</td>\n",
       "      <td>0.0</td>\n",
       "      <td>0.0</td>\n",
       "      <td>0.0</td>\n",
       "      <td>0.0</td>\n",
       "    </tr>\n",
       "    <tr>\n",
       "      <th>TCGA-AG-A01L-01A</th>\n",
       "      <td>0.579041</td>\n",
       "      <td>0.234426</td>\n",
       "      <td>0.160304</td>\n",
       "      <td>0.013424</td>\n",
       "      <td>0.0</td>\n",
       "      <td>0.0</td>\n",
       "      <td>0.0</td>\n",
       "      <td>0.0</td>\n",
       "      <td>0.0</td>\n",
       "      <td>0.0</td>\n",
       "      <td>0.0</td>\n",
       "    </tr>\n",
       "  </tbody>\n",
       "</table>\n",
       "</div>"
      ],
      "text/plain": [
       "name              Bacteroidetes  Proteobacteria  Firmicutes  Fusobacteria  \\\n",
       "TCGA-AG-3999-01A       0.647603        0.000000    0.067323      0.276764   \n",
       "TCGA-AG-A01L-01A       0.579041        0.234426    0.160304      0.013424   \n",
       "\n",
       "name              Verrucomicrobia  Chloroflexi  Thermotogae  Actinobacteria  \\\n",
       "TCGA-AG-3999-01A              0.0          0.0          0.0             0.0   \n",
       "TCGA-AG-A01L-01A              0.0          0.0          0.0             0.0   \n",
       "\n",
       "name              Spirochaetes  Synergistetes  Tenericutes  \n",
       "TCGA-AG-3999-01A           0.0            0.0          0.0  \n",
       "TCGA-AG-A01L-01A           0.0            0.0          0.0  "
      ]
     },
     "execution_count": 12,
     "metadata": {},
     "output_type": "execute_result"
    }
   ],
   "source": [
    "# g.rename(columns={0:\"name\"}, inplace=True)\n",
    "g.index.name = \"name\"\n",
    "print(g.head(2))\n",
    "b.index\n",
    "b.head(2)"
   ]
  },
  {
   "cell_type": "code",
   "execution_count": 13,
   "metadata": {},
   "outputs": [],
   "source": [
    "b.rename(index= lambda s: s[:-1] if s[-1]==\"A\"else s, inplace=True)\n",
    "multi = b.join(g, how=\"inner\")\n",
    "# multi.loc[\"TCGA-CV-5970-11\"]\n",
    "multi.index.name = \"patient\"\n",
    "# multi[\"patient\"]\n",
    "# multi[\"tumor\"] = multi.apply(lambda row: 1 if re.search(r\"[0].$\",row.name) else 0)\n",
    "multi[\"tumor\"] = multi.apply(lambda row: 1 if re.search(r\"[0].$\",row.name) else 0, axis=1)\n",
    "# multi.apply(lambda row: print(row.name))\n",
    "multi.to_csv(f\"Data/{cancer}/gene_biome_{cancer}.csv\")\n",
    "# pd.merge(b, g, how=\"inner\", left_on=\"name\")\n",
    "# g.merge(b, how=\"inner\", on=\"name\")"
   ]
  }
 ],
 "metadata": {
  "interpreter": {
   "hash": "471eca0dc848140133dc64d1932547dad678b609e95c6d148d4173db0d1b72c4"
  },
  "kernelspec": {
   "display_name": "Python 3.9.4 ('bacteria')",
   "language": "python",
   "name": "python3"
  },
  "language_info": {
   "codemirror_mode": {
    "name": "ipython",
    "version": 3
   },
   "file_extension": ".py",
   "mimetype": "text/x-python",
   "name": "python",
   "nbconvert_exporter": "python",
   "pygments_lexer": "ipython3",
   "version": "3.9.4"
  },
  "orig_nbformat": 4
 },
 "nbformat": 4,
 "nbformat_minor": 2
}
