{
 "cells": [
  {
   "cell_type": "code",
   "execution_count": null,
   "metadata": {},
   "outputs": [],
   "source": [
    "import pandas as pd\n",
    "\n",
    "# https://portal.gdc.cancer.gov/\n",
    "# tar -xvzf C:\\Users\\Ameno\\Downloads\\clinical.cases_selection.2022-03-29.tar.gz -C C:\\Users\\Ameno\\Downloads\\HNSC_clinical"
   ]
  },
  {
   "cell_type": "code",
   "execution_count": null,
   "metadata": {},
   "outputs": [],
   "source": [
    "# df = pd.read_csv('sample_metadata.txt', delimiter = \"\\t\")\n",
    "g = pd.read_csv('Data/HNSC/tcga_scaled01_rnaseq.tsv', delimiter = \"\\t\", index_col=0)\n",
    "# b.head()\n",
    "# b.head()\n",
    "# df.head()\n",
    "# list(df.columns)"
   ]
  },
  {
   "cell_type": "code",
   "execution_count": null,
   "metadata": {},
   "outputs": [],
   "source": [
    "# Explore SNF data\n",
    "g_snf = pd.read_csv(\"Data\\COAD\\COLON_Gene_Expression.txt\", delimiter = \"\\t\", index_col=0).T\n",
    "print(g_snf.head(2))\n",
    "# print(g.head(2))"
   ]
  },
  {
   "cell_type": "code",
   "execution_count": null,
   "metadata": {},
   "outputs": [],
   "source": [
    "x_cancer_type = [\"COAD\", \"ESCA\", \"HNSC\", \"READ\", \"STAD\"]\n",
    "\n",
    "#stad has the most normal samples \n",
    "cancer = x_cancer_type[4]\n",
    "# cancer = \"HNSC\"\n",
    "# cancer = \"ESCA\"\n",
    "# cancer = \"READ\"\n",
    "\n",
    "b = pd.read_csv(f'Data/{cancer}/Microbial/bacteria.sample.relabund.phylum.txt', delimiter = \"\\t\", index_col=0).T"
   ]
  },
  {
   "cell_type": "code",
   "execution_count": null,
   "metadata": {},
   "outputs": [],
   "source": []
  },
  {
   "cell_type": "code",
   "execution_count": null,
   "metadata": {},
   "outputs": [],
   "source": [
    "g.head()\n",
    "# b.head()\n",
    "\n",
    "g.iloc[:,3]\n",
    "g_samples = list(g.index.values)\n",
    "b_samples = list(b.index.values)\n",
    "set(g_samples).intersection(b_samples)\n",
    "b_samples\n",
    "# print(g.columns)\n",
    "# print(g.describe())\n",
    "\n",
    "find = \"TCGA-CR-6491\"\n",
    "# find = \"TCGA-CV-7090\"\n",
    "\n",
    "# TCGA-ZX-AA5X-01 does not occur, and has duplicates. Not true, it has it. It just doesn't have some of the elevens ( other elevens it does ), and take care of the b ones\n",
    "\n",
    "# HNSC \n",
    "\n",
    "def findOverlap(a_samples, b_samples, ignoreVial=False):\n",
    "    overlapping_count = 0\n",
    "    normal_overlapping_count = 0\n",
    "    missing = []\n",
    "    control_count = 0\n",
    "    b_control_count = 0\n",
    "    \n",
    "    print(f\"checking a ({len(a_samples)}) vs. b ({len(b_samples)})\")\n",
    "    for find in a_samples:\n",
    "        occurrences = 0\n",
    "        for s in b_samples:\n",
    "            if ignoreVial and find[-1]==\"A\":\n",
    "                find = find[:-1]\n",
    "            if find in s:\n",
    "                occurrences+=1\n",
    "        if occurrences<1:\n",
    "            # print(find, \" does not have any occurrences\")\n",
    "            missing.append(find)\n",
    "        else:\n",
    "            overlapping_count += 1\n",
    "        if ((ignoreVial and find[-2] == \"1\") or (not ignoreVial and find[-3] == \"1\")):\n",
    "            control_count += 1\n",
    "            if occurrences > 0:\n",
    "                normal_overlapping_count += 1\n",
    "    \n",
    "    for find in b_samples:\n",
    "        if ((ignoreVial and find[-2] == \"1\") or (not ignoreVial and find[-3] == \"1\")):\n",
    "            b_control_count += 1\n",
    "            \n",
    "    print(\"no occurrences:\", missing)\n",
    "    print(\"overlapping count: \", overlapping_count, \"/\", len(a_samples))\n",
    "    print(\"normal count a: \", control_count, \"/\", len(a_samples))\n",
    "    print(\"normal count b: \", b_control_count, \"/\", len(b_samples))\n",
    "    print(\"normal overlapping count: \", normal_overlapping_count, \"/\", control_count)\n",
    "    return missing\n",
    "rna_stad_missing = findOverlap(b_samples, g_samples, ignoreVial=True)\n",
    "l1=[]\n",
    "for i in b:\n",
    "    if i not in l1:\n",
    "        l1.append(i)\n",
    "    else:\n",
    "        print(i,end=' ')\n",
    "\n",
    "\n",
    "# tumor normal and control \n",
    "import re\n",
    "for s in g_samples:\n",
    "    if \"4183\" in s:\n",
    "    # if re.search(r\"[1].$\",s):\n",
    "    # if \"-21\" in s:\n",
    "        \n",
    "        print(s)"
   ]
  },
  {
   "cell_type": "code",
   "execution_count": null,
   "metadata": {},
   "outputs": [],
   "source": []
  },
  {
   "cell_type": "code",
   "execution_count": null,
   "metadata": {},
   "outputs": [],
   "source": [
    "for c in x_cancer_type:\n",
    "    cancer_microbiome = pd.read_csv(f'Data/{c}/Microbial/bacteria.sample.relabund.phylum.txt', delimiter = \"\\t\", index_col=0).T\n",
    "    cancer_microbiome[\"tumor\"] = cancer_microbiome.apply(lambda row: 1 if re.search(r\"[0]..$\",row.name) else 0, axis=1)\n",
    "    # cancer_microbiome[\"cancer\"] = c\n",
    "    print(f\"{c}:\", cancer_microbiome.tumor.value_counts())\n",
    "    # print(cancer_microbiome.head(2))\n",
    "    # print(list(cancer_microbiome.columns))"
   ]
  },
  {
   "cell_type": "code",
   "execution_count": null,
   "metadata": {},
   "outputs": [],
   "source": [
    "x_type = [\"cnv\", \"methylation\", \"rnaseq\"]\n",
    "# x_cancer_type = [\"COAD\", \"READ\", \"STAD\"]\n",
    "xe_rna_stad_samples = pd.read_csv(rf\"Data\\{cancer}\\xenos_{x_type[2]}_samples.txt\", names=[\"sample\"], header=None)\n",
    "xe_rna_stad_samples.head(2)\n",
    "\n",
    "print(f\"Number of xenos samples:\", xe_rna_stad_samples.shape[0])\n",
    "xe_rna_stad_missing = findOverlap(b_samples, xe_rna_stad_samples[\"sample\"].tolist())\n",
    "xe_rna_stad_missing = map(lambda x: x[:-1], xe_rna_stad_missing)\n",
    "with_xe_difference = set(xe_rna_stad_missing).difference(set(rna_stad_missing))\n",
    "from_xe_difference = set(rna_stad_missing).difference(set(xe_rna_stad_missing))\n",
    "\n",
    "print(\"x-tc:\", with_xe_difference, \" tc-x:\", from_xe_difference)\n",
    "# findOverlap(b_samples, g_snf_samples_mapped)"
   ]
  },
  {
   "cell_type": "code",
   "execution_count": null,
   "metadata": {},
   "outputs": [],
   "source": [
    "akash_methylation_stad_samples = pd.read_csv(rf\"Data\\{cancer}\\TCGA_STAD_Samples.csv\", names=[\"sample\"], header=None, skiprows=1)\n",
    "akash_methylation_stad_samples = list(map(lambda x: x.replace(\".\", \"-\"), akash_methylation_stad_samples[\"sample\"].tolist()))\n",
    "akash_methylation_stad_missing = findOverlap(b_samples, akash_methylation_stad_samples, ignoreVial=True)\n",
    "akash_methylation_stad_samples\n",
    "[print(x) for x in akash_methylation_stad_samples if \"11\" in x]"
   ]
  },
  {
   "cell_type": "code",
   "execution_count": null,
   "metadata": {},
   "outputs": [],
   "source": [
    "g2 = pd.read_csv('Data\\pancan_scaled_rnaseq.tsv\\pancan_scaled_rnaseq.tsv', delimiter = \"\\t\", index_col=0)"
   ]
  },
  {
   "cell_type": "code",
   "execution_count": null,
   "metadata": {},
   "outputs": [],
   "source": [
    "g2_samples = list(g2.index.values)\n",
    "# len(g_samples)\n",
    "same = set(g2_samples).intersection(g_samples)\n",
    "len(same)"
   ]
  },
  {
   "cell_type": "code",
   "execution_count": null,
   "metadata": {},
   "outputs": [],
   "source": [
    "# g.rename(columns={0:\"name\"}, inplace=True)\n",
    "g.index.name = \"name\"\n",
    "print(g.head(2))\n",
    "b.index\n",
    "b.head(2)"
   ]
  },
  {
   "cell_type": "code",
   "execution_count": null,
   "metadata": {},
   "outputs": [],
   "source": [
    "b.rename(index= lambda s: s[:-1] if s[-1]==\"A\"else s, inplace=True)\n",
    "multi = b.join(g, how=\"inner\")\n",
    "# multi.loc[\"TCGA-CV-5970-11\"]\n",
    "multi.index.name = \"patient\"\n",
    "# multi[\"patient\"]\n",
    "# multi[\"tumor\"] = multi.apply(lambda row: 1 if re.search(r\"[0].$\",row.name) else 0)\n",
    "multi[\"tumor\"] = multi.apply(lambda row: 1 if re.search(r\"[0].$\",row.name) else 0, axis=1)\n",
    "# multi.apply(lambda row: print(row.name))\n",
    "# multi.to_csv(f\"Data/{cancer}/gene_biome_{cancer}.csv\")\n",
    "# pd.merge(b, g, how=\"inner\", left_on=\"name\")\n",
    "# g.merge(b, how=\"inner\", on=\"name\")"
   ]
  },
  {
   "cell_type": "code",
   "execution_count": null,
   "metadata": {},
   "outputs": [],
   "source": [
    "all_cancer_genus = pd.read_csv(f'Data/TCMA/all_cancers_genus.csv', index_col=0)\n",
    "all_cancer_genus.rename(index= lambda s: s[:-1] if s[-1]==\"A\"else s, inplace=True)\n",
    "\n",
    "genus_ge = all_cancer_genus.join(g, how=\"inner\")\n",
    "genus_ge.index.name = \"patient\"\n",
    "genus_ge[\"tumor\"] = genus_ge.apply(lambda row: 1 if re.search(r\"[0].$\",row.name) else 0, axis=1)\n",
    "genus_ge.to_csv(f\"Data/TCMA/all_cancers_genus_ge(aakash).csv\")\n",
    "print(genus_ge.head(1))\n"
   ]
  },
  {
   "cell_type": "code",
   "execution_count": null,
   "metadata": {},
   "outputs": [],
   "source": []
  }
 ],
 "metadata": {
  "interpreter": {
   "hash": "5ff11b96d6191b1744b0c21f422c8b48708f27d8a8903ac73174d6a3fb479488"
  },
  "kernelspec": {
   "display_name": "Python 3.8.6 ('pytorch-cpu')",
   "language": "python",
   "name": "python3"
  },
  "language_info": {
   "codemirror_mode": {
    "name": "ipython",
    "version": 3
   },
   "file_extension": ".py",
   "mimetype": "text/x-python",
   "name": "python",
   "nbconvert_exporter": "python",
   "pygments_lexer": "ipython3",
   "version": "3.9.4"
  },
  "orig_nbformat": 4
 },
 "nbformat": 4,
 "nbformat_minor": 2
}
