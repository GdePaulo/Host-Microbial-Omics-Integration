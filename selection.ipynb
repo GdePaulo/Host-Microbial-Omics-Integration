{
 "cells": [
  {
   "cell_type": "code",
   "execution_count": null,
   "metadata": {},
   "outputs": [],
   "source": [
    "import pandas as pd\n",
    "import loader as load\n",
    "aak_ge = load.loadGEWithClinical()\n",
    "# aak_ge = None"
   ]
  },
  {
   "cell_type": "code",
   "execution_count": null,
   "metadata": {},
   "outputs": [],
   "source": [
    "import processor as pr\n",
    "\n",
    "tcma_cancer_type = [\"COAD\", \"ESCA\", \"HNSC\", \"READ\", \"STAD\"]\n",
    "\n",
    "data = [load.loadTCMA(\"genus\"), load.loadTCMA(\"phylum\"), aak_ge, load.loadGEOverlappingTCMA(\"genus\"), load.loadGEOverlappingTCMA(\"phylum\")]\n",
    "source_types = [\"GENUS\", \"PHYLUM\", \"GE\", \"GENUS n GE\", \"PHYLUM n GE\"]\n",
    "file_names = [\"TCMA_Genus\", \"TCMA_Phylum\", \"TCGA_GE(Aakash)\", \"TCMA_Genus_GE(Aakash)_Overlap\", \"TCMA_Phylum_GE(Aakash)_Overlap\"]\n",
    "reduction_type = \"PCA\"\n"
   ]
  },
  {
   "cell_type": "code",
   "execution_count": null,
   "metadata": {},
   "outputs": [],
   "source": [
    "import processor as pr\n",
    "\n",
    "for feature_amount in [0, 5, 10]:\n",
    "    for i, b in enumerate(data):\n",
    "        X, Y, titles = [], [], []\n",
    "        b = load.attachTumorStatus(b)\n",
    "\n",
    "        for c in tcma_cancer_type:\n",
    "            x, y = pr.splitData(b, \"tumor\", project=c)\n",
    "            \n",
    "            best_x = pr.selectFeatures(x, y, feature_amount)\n",
    "            x = best_x\n",
    "\n",
    "            if reduction_type == \"PCA\":\n",
    "                X.append(pr.getPCA(x))\n",
    "            else:\n",
    "                X.append(pr.getTSNE(x))\n",
    "            Y.append(y)\n",
    "            titles.append(f\"{c} {source_types[i]} {reduction_type} p:{feature_amount}\")\n",
    "        pr.plotScatter(X, Y, titles, f\"Visual/{reduction_type}/p{feature_amount}/{file_names[i]}\")"
   ]
  }
 ],
 "metadata": {
  "interpreter": {
   "hash": "5c9c23c68e4133fb152380ec4059b1f78568734598c8159b0962b671d1bd3454"
  },
  "kernelspec": {
   "display_name": "Python 3.9.4 ('bacteria')",
   "language": "python",
   "name": "python3"
  },
  "language_info": {
   "codemirror_mode": {
    "name": "ipython",
    "version": 3
   },
   "file_extension": ".py",
   "mimetype": "text/x-python",
   "name": "python",
   "nbconvert_exporter": "python",
   "pygments_lexer": "ipython3",
   "version": "3.9.4"
  },
  "orig_nbformat": 4
 },
 "nbformat": 4,
 "nbformat_minor": 2
}
