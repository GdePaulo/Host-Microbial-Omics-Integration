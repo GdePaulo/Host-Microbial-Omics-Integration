{
 "cells": [
  {
   "cell_type": "code",
   "execution_count": null,
   "metadata": {},
   "outputs": [],
   "source": [
    "import pandas as pd\n",
    "import loader as load\n",
    "# aak_ge = load.loadGEWithClinical()\n",
    "aak_ge = None"
   ]
  },
  {
   "cell_type": "code",
   "execution_count": null,
   "metadata": {},
   "outputs": [],
   "source": [
    "import processor as pr\n",
    "\n",
    "tcma_cancer_type = [\"COAD\", \"ESCA\", \"HNSC\", \"READ\", \"STAD\"]\n",
    "\n",
    "# data = [load.loadTCMA(\"genus\"), load.loadTCMA(\"phylum\"), aak_ge, load.loadGEOverlappingTCMA(\"genus\"), load.loadGEOverlappingTCMA(\"phylum\")]\n",
    "# source_types = [\"GENUS\", \"PHYLUM\", \"GE\", \"GENUS n GE\", \"PHYLUM n GE\"]\n",
    "# file_names = [\"TCMA_Genus\", \"TCMA_Phylum\", \"TCGA_GE(Aakash)\", \"TCMA_Genus_GE(Aakash)_Overlap\", \"TCMA_Phylum_GE(Aakash)_Overlap\"]\n",
    "source_types = [\"GENUS\", \"GE\", \"GENUS n GE\"]\n",
    "\n",
    "diagnostic =\"stage\"\n",
    "samples_pool = \"all\"\n",
    "\n",
    "\n",
    "data, file_names = load.loadAll(includeStage=(diagnostic==\"stage\"), sameSamples=(samples_pool==\"intersect\"))\n"
   ]
  },
  {
   "cell_type": "code",
   "execution_count": null,
   "metadata": {},
   "outputs": [],
   "source": [
    "# data[2].loc[\"TCGA-A6-2682-01\"][\"stage\"]\n",
    "# d = data[2]\n",
    "# d[d[\"project\"]==\"READ\"]\n",
    "t = load.attachStageStatus(data[1])\n",
    "print(file_names[1])\n",
    "print(t[t.project.isin(tcma_cancer_type)].groupby([\"project\"])[\"stage\"].value_counts())"
   ]
  },
  {
   "cell_type": "code",
   "execution_count": null,
   "metadata": {},
   "outputs": [],
   "source": [
    "reduction_type = \"PCA\""
   ]
  },
  {
   "cell_type": "code",
   "execution_count": null,
   "metadata": {},
   "outputs": [],
   "source": [
    "import processor as pr\n",
    "\n",
    "for feature_amount in [0, 5, 10]:\n",
    "    for i, b in enumerate(data):\n",
    "        X, Y, titles = [], [], []\n",
    "\n",
    "        if diagnostic == \"tumor\":\n",
    "            b = load.attachTumorStatus(b)\n",
    "        else:\n",
    "            b = load.attachStageStatus(b)\n",
    "\n",
    "        for c in tcma_cancer_type:\n",
    "            x, y = pr.splitData(b, diagnostic, project=c)\n",
    "            \n",
    "            best_x = pr.selectFeatures(x, y, feature_amount)\n",
    "            x = best_x\n",
    "\n",
    "            if reduction_type == \"PCA\":\n",
    "                X.append(pr.getPCA(x))\n",
    "            else:\n",
    "                X.append(pr.getTSNE(x))\n",
    "            Y.append(y)\n",
    "            titles.append(f\"{c} {source_types[i]} {reduction_type} p:{feature_amount}\")\n",
    "        pr.plotScatter(X, Y, titles, f\"Visual/{diagnostic}/{samples_pool}/{reduction_type}/p{feature_amount}/{file_names[i]}\", diagnostic=diagnostic)"
   ]
  }
 ],
 "metadata": {
  "interpreter": {
   "hash": "5c9c23c68e4133fb152380ec4059b1f78568734598c8159b0962b671d1bd3454"
  },
  "kernelspec": {
   "display_name": "Python 3.9.4 ('bacteria')",
   "language": "python",
   "name": "python3"
  },
  "language_info": {
   "codemirror_mode": {
    "name": "ipython",
    "version": 3
   },
   "file_extension": ".py",
   "mimetype": "text/x-python",
   "name": "python",
   "nbconvert_exporter": "python",
   "pygments_lexer": "ipython3",
   "version": "3.9.4"
  },
  "orig_nbformat": 4
 },
 "nbformat": 4,
 "nbformat_minor": 2
}
