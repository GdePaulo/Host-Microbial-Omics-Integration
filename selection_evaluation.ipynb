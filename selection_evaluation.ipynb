{
 "cells": [
  {
   "cell_type": "code",
   "execution_count": null,
   "metadata": {},
   "outputs": [],
   "source": [
    "import pandas as pd\n",
    "import numpy as np\n",
    "import loader as load\n",
    "import config\n",
    "import matplotlib\n",
    "import matplotlib.pyplot as plt\n",
    "\n",
    "files = ['aak_ge', 'tcma_gen', 'tcma_gen_aak_ge']\n",
    "c_data_features = [pd.read_csv(fr\"Data\\Descriptor\\Prediction_Tables\\random_sampling\\stage\\{x}_linreg_predfeature.csv\", index_col=None) for x in files]"
   ]
  },
  {
   "cell_type": "code",
   "execution_count": null,
   "metadata": {},
   "outputs": [],
   "source": [
    "overlap = c_data_features[-1]\n",
    "overlap"
   ]
  },
  {
   "cell_type": "code",
   "execution_count": null,
   "metadata": {},
   "outputs": [],
   "source": [
    "# p: 200, target: tumor/stage, selection: linreg, layer: overlap\n",
    "# what are the most selected bacterial features per cancer and across cancers\n",
    "# what are the most selected Microbial features per cancer and across cancers\n",
    "x = \"tcma_gen_aak_ge\"\n",
    "p = 200\n",
    "c = \"STAD\"\n",
    "all_features, _ = load.getFeatures()\n",
    "tcma_gen_features, aak_ge_features = all_features\n",
    "\n",
    "for target in config.prediction_targets[:1]:\n",
    "    for selection_type in config.selection_types[:1]:\n",
    "        fig = plt.figure(linewidth=2,\n",
    "        #    edgecolor=fig_border,\n",
    "        #    facecolor=fig_background_color,\n",
    "        # tight_layout={'pad':0.1},\n",
    "        figsize=(10,7),\n",
    "        )\n",
    "        # Make space for main title. Use instead of tight layout\n",
    "        fig.subplots_adjust(top=0.8)\n",
    "        main_title = f\"{config.modality_file_name_to_name[x]} Feature selection frequency\"\n",
    "        for k, c in enumerate([\"COAD\", \"ESCA\", \"HNSC\", \"STAD\"][:4]):\n",
    "            data_features = pd.read_csv(fr\"Data\\Descriptor\\Prediction_Tables\\random_sampling\\{target}\\{x}_{selection_type}_predfeature.csv\", index_col=None)\n",
    "            data_features = data_features[data_features.p == p]\n",
    "            data_features = data_features[data_features.cancer == c]\n",
    "            feature_frequencies = data_features[\"features\"].value_counts()\n",
    "            unique_selected_features = len(feature_frequencies)\n",
    "            print(feature_frequencies)\n",
    "\n",
    "            cell_text = feature_frequencies.values.reshape(unique_selected_features, 1)[:10]\n",
    "            feature_names = feature_frequencies.index[:10]\n",
    "            column_headers = [\"Freq.\"]\n",
    "            title = f\"{c}\"\n",
    "            #487cfd, 0343df, r:E50000, ff4848\n",
    "\n",
    "            rcolors = [\"#5b8afd\" if x in aak_ge_features else \"#ff4848\" for x in feature_names]\n",
    "            ccolors = plt.cm.BuPu(np.full(len(column_headers), 0.1))\n",
    "\n",
    "            ax = fig.add_subplot(1,len(c),(k+1))\n",
    "            \n",
    "            # Add a table at the bottom of the axes\n",
    "            the_table = ax.table(cellText=cell_text,\n",
    "                                rowLabels=feature_names,\n",
    "                                rowColours=rcolors,\n",
    "                                rowLoc='right',\n",
    "                                colColours=ccolors,\n",
    "                                colLabels=column_headers,\n",
    "                                loc='center')\n",
    "            \n",
    "                    # Scaling is the only influence we have over top and bottom cell padding.\n",
    "            # Make the rows taller (i.e., make cell y scale larger).\n",
    "            the_table.scale(0.5, 2.5)\n",
    "            # Hide axes\n",
    "            # ax = plt.gca()\n",
    "            ax.get_xaxis().set_visible(False)\n",
    "            ax.get_yaxis().set_visible(False)\n",
    "            # Hide axes border\n",
    "            plt.box(on=None)\n",
    "            # Add title\n",
    "            ax.set_title(title, fontsize=15)\n",
    "            # Force the figure to update, so backends center objects correctly within the figure.\n",
    "            # Without o\n",
    "        # Mid point of left and right x-positions\n",
    "        # mid = (fig.subplotpars.right + fig.subplotpars.left)/2\n",
    "        plt.suptitle(main_title, fontsize=20, y=0.92, x=0.5)\n",
    "        plt.draw()\n",
    "\n",
    "        plt.show()\n"
   ]
  }
 ],
 "metadata": {
  "kernelspec": {
   "display_name": "bacteria",
   "language": "python",
   "name": "python3"
  },
  "language_info": {
   "codemirror_mode": {
    "name": "ipython",
    "version": 3
   },
   "file_extension": ".py",
   "mimetype": "text/x-python",
   "name": "python",
   "nbconvert_exporter": "python",
   "pygments_lexer": "ipython3",
   "version": "3.9.4"
  },
  "orig_nbformat": 4,
  "vscode": {
   "interpreter": {
    "hash": "5c9c23c68e4133fb152380ec4059b1f78568734598c8159b0962b671d1bd3454"
   }
  }
 },
 "nbformat": 4,
 "nbformat_minor": 2
}
