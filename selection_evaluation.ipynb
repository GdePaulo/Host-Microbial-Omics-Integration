{
 "cells": [
  {
   "cell_type": "code",
   "execution_count": null,
   "metadata": {},
   "outputs": [],
   "source": [
    "import pandas as pd\n",
    "import numpy as np\n",
    "import loader as load\n",
    "import config\n",
    "import matplotlib\n",
    "import matplotlib.pyplot as plt\n",
    "\n",
    "files = ['aak_ge', 'tcma_gen', 'tcma_gen_aak_ge']\n",
    "c_data_features = [pd.read_csv(fr\"Data\\Descriptor\\Prediction_Tables\\random_sampling\\stage\\{x}_linreg_predfeature.csv\", index_col=None) for x in files]"
   ]
  },
  {
   "cell_type": "code",
   "execution_count": null,
   "metadata": {},
   "outputs": [],
   "source": [
    "overlap = c_data_features[-1]\n",
    "overlap"
   ]
  },
  {
   "cell_type": "code",
   "execution_count": null,
   "metadata": {},
   "outputs": [],
   "source": [
    "# p: 200, target: tumor/stage, selection: linreg, layer: overlap\n",
    "# what are the most selected bacterial features per cancer and across cancers\n",
    "# what are the most selected Microbial features per cancer and across cancers\n",
    "x = \"tcma_gen_aak_ge\"\n",
    "p = 200\n",
    "c = \"STAD\"\n",
    "all_features, _ = load.getFeatures()\n",
    "tcma_gen_features, aak_ge_features = all_features\n",
    "    \n",
    "for target in config.prediction_targets[:1]:\n",
    "    for selection_type in config.selection_types[:1]:\n",
    "        data_features = pd.read_csv(fr\"Data\\Descriptor\\Prediction_Tables\\random_sampling\\{target}\\{x}_{selection_type}_predfeature.csv\", index_col=None)\n",
    "        data_features = data_features[data_features.p == p]\n",
    "        data_features = data_features[data_features.cancer == c]\n",
    "        feature_frequencies = data_features[\"features\"].value_counts()\n",
    "        \n",
    "        print(feature_frequencies)\n",
    "\n",
    "        cell_text = feature_frequencies.values.reshape(980, 1)\n",
    "\n",
    "        # plt.figure(linewidth=2,\n",
    "        #    edgecolor=fig_border,\n",
    "        #    facecolor=fig_background_color,\n",
    "        #    tight_layout={'pad':1},\n",
    "           #figsize=(5,3)\n",
    "        #   )\n",
    "        # Add a table at the bottom of the axes\n",
    "        the_table = plt.table(cellText=cell_text,\n",
    "                            rowLabels=feature_frequencies.index,\n",
    "                            #   rowColours=rcolors,\n",
    "                            #   rowLoc='right',\n",
    "                            #   colColours=ccolors,\n",
    "                            #   colLabels=column_headers,\n",
    "                            loc='center')\n",
    "        plt.show()"
   ]
  }
 ],
 "metadata": {
  "kernelspec": {
   "display_name": "bacteria",
   "language": "python",
   "name": "python3"
  },
  "language_info": {
   "codemirror_mode": {
    "name": "ipython",
    "version": 3
   },
   "file_extension": ".py",
   "mimetype": "text/x-python",
   "name": "python",
   "nbconvert_exporter": "python",
   "pygments_lexer": "ipython3",
   "version": "3.9.4"
  },
  "orig_nbformat": 4,
  "vscode": {
   "interpreter": {
    "hash": "5c9c23c68e4133fb152380ec4059b1f78568734598c8159b0962b671d1bd3454"
   }
  }
 },
 "nbformat": 4,
 "nbformat_minor": 2
}
