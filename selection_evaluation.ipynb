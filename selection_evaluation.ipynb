{
 "cells": [
  {
   "cell_type": "code",
   "execution_count": null,
   "metadata": {},
   "outputs": [],
   "source": [
    "import pandas as pd\n",
    "import numpy as np\n",
    "import loader as load\n",
    "import config\n",
    "import matplotlib\n",
    "import matplotlib.pyplot as plt\n",
    "\n",
    "files = ['aak_ge', 'tcma_gen', 'tcma_gen_aak_ge']\n",
    "c_data_features = [pd.read_csv(fr\"Data\\Descriptor\\Prediction_Tables\\random_sampling\\stage\\{x}_linreg_predfeature.csv\", index_col=None) for x in files]"
   ]
  },
  {
   "cell_type": "code",
   "execution_count": null,
   "metadata": {},
   "outputs": [],
   "source": [
    "overlap = c_data_features[-1]\n",
    "overlap"
   ]
  },
  {
   "cell_type": "code",
   "execution_count": null,
   "metadata": {},
   "outputs": [],
   "source": [
    "# p: 200, target: tumor/stage, selection: linreg, layer: overlap\n",
    "# what are the most selected bacterial features per cancer and across cancers\n",
    "# what are the most selected Microbial features per cancer and across cancers\n",
    "\n",
    "def plot_freq_features_selected(layer_features, files, layer_names, target, selection_type, root_folder=\"Visual/selection\"):\n",
    "    all_features, _ = load.getFeatures()\n",
    "    tcma_gen_features, aak_ge_features = all_features\n",
    "\n",
    "    p = 200\n",
    "\n",
    "    for i, features_data in enumerate(layer_features):\n",
    "        p_features_data = features_data[features_data.p == p]\n",
    "\n",
    "        fig = plt.figure(linewidth=2,\n",
    "        # tight_layout={'pad':0.1},\n",
    "        figsize=(20,7),\n",
    "        )\n",
    "        # Make space for main title. Use instead of tight layout\n",
    "        fig.subplots_adjust(top=0.8)\n",
    "        main_title = f\"{target} pred {layer_names[i]} Feature selection frequency | {selection_type}\"\n",
    "        for k, c in enumerate([\"COAD\", \"ESCA\", \"HNSC\", \"STAD\"][:4]):\n",
    "            cancer_features_data = p_features_data[p_features_data.cancer == c]\n",
    "            feature_frequencies = cancer_features_data[\"features\"].value_counts()\n",
    "            unique_selected_features = len(feature_frequencies)\n",
    "            \n",
    "            print(unique_selected_features, features_data)\n",
    "            cell_text = feature_frequencies.values.reshape(unique_selected_features, 1)[:10]\n",
    "            feature_names = feature_frequencies.index[:10]\n",
    "            column_headers = [\"Freq.\"]\n",
    "            title = f\"{c}\"\n",
    "            #487cfd, 0343df, r:E50000, ff4848\n",
    "\n",
    "            rcolors = [\"#5b8afd\" if x in aak_ge_features else \"#ff4848\" for x in feature_names]\n",
    "            ccolors = plt.cm.BuPu(np.full(len(column_headers), 0.1))\n",
    "\n",
    "            ax = fig.add_subplot(1,len(c),(k+1))\n",
    "            \n",
    "            # Add a table at the bottom of the axes\n",
    "            the_table = ax.table(cellText=cell_text,\n",
    "                                rowLabels=feature_names,\n",
    "                                rowColours=rcolors,\n",
    "                                rowLoc='right',\n",
    "                                colColours=ccolors,\n",
    "                                colLabels=column_headers,\n",
    "                                loc='center')\n",
    "            \n",
    "            # Make the rows taller (i.e., make cell y scale larger).\n",
    "            the_table.scale(0.5, 2.5)\n",
    "            # Hide axes\n",
    "            ax.get_xaxis().set_visible(False)\n",
    "            ax.get_yaxis().set_visible(False)\n",
    "            # Hide axes border\n",
    "            plt.box(on=None)\n",
    "            # Add title\n",
    "            ax.set_title(title, fontsize=15)\n",
    "            \n",
    "        # Mid point of left and right x-positions\n",
    "        # mid = (fig.subplotpars.right + fig.subplotpars.left)/2\n",
    "        plt.suptitle(main_title, fontsize=20, y=0.92, x=0.5)\n",
    "        # Force the figure to update, so backends center objects correctly within the figure.\n",
    "        plt.draw()\n",
    "\n",
    "        # plt.show()\n",
    "        filename = f\"{root_folder}/{target}/{selection_type}/{files[i]}_freq.png\"\n",
    "        load.createDirectory(filename)\n",
    "        plt.savefig(filename, transparent=False, facecolor=\"white\")\n",
    "\n",
    "files = config.visualization_packages[\"base\"]\n",
    "for target in config.prediction_targets[:]:\n",
    "    for selection_type in config.selection_types[:2]:\n",
    "        prediction_tables_dir = fr\"Data/Descriptor/Prediction_Tables/random_sampling/{target}\"\n",
    "        layer_features = [pd.read_csv(fr\"{prediction_tables_dir}\\{x}_{selection_type}_predfeature.csv\", index_col=None) for x in files]\n",
    "        layer_names = [config.modality_file_name_to_name[x] for x in files]\n",
    "        # print(layer_features)\n",
    "        plot_freq_features_selected(layer_features, files, layer_names, target, selection_type)"
   ]
  }
 ],
 "metadata": {
  "kernelspec": {
   "display_name": "bacteria",
   "language": "python",
   "name": "python3"
  },
  "language_info": {
   "codemirror_mode": {
    "name": "ipython",
    "version": 3
   },
   "file_extension": ".py",
   "mimetype": "text/x-python",
   "name": "python",
   "nbconvert_exporter": "python",
   "pygments_lexer": "ipython3",
   "version": "3.9.4"
  },
  "orig_nbformat": 4,
  "vscode": {
   "interpreter": {
    "hash": "5c9c23c68e4133fb152380ec4059b1f78568734598c8159b0962b671d1bd3454"
   }
  }
 },
 "nbformat": 4,
 "nbformat_minor": 2
}
