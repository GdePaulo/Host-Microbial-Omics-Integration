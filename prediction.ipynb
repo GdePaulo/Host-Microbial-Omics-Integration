{
 "cells": [
  {
   "cell_type": "code",
   "execution_count": 1,
   "metadata": {},
   "outputs": [],
   "source": [
    "import pandas as pd\n",
    "import processor as pr\n",
    "import loader as load\n",
    "import predictor as pred\n",
    "import config\n",
    "\n",
    "# ge_phylum_stage = load.loadGEOverlappingTCMA(\"phylum\", includeStage=True)\n",
    "# ge_genus_stage = load.loadGEOverlappingTCMA(\"genus\", includeStage=True)\n",
    "# aak_ge_stage = load.loadGEWithClinical(includeStage=True)"
   ]
  },
  {
   "cell_type": "code",
   "execution_count": null,
   "metadata": {},
   "outputs": [],
   "source": [
    "import pandas as pd\n",
    "import processor as pr\n",
    "import loader as load\n",
    "import predictor as pred\n",
    "import config\n",
    "\n",
    "# ge_phylum_stage = load.loadGEOverlappingTCMA(\"phylum\", includeStage=True)\n",
    "# ge_genus_stage = load.loadGEOverlappingTCMA(\"genus\", includeStage=True)\n",
    "# aak_ge_stage = load.loadGEWithClinical(includeStage=True)"
   ]
  },
  {
   "cell_type": "code",
   "execution_count": null,
   "metadata": {},
   "outputs": [],
   "source": [
    "for target in config.prediction_targets:\n",
    "    data, files = load.loadAll(includeStage=(target==\"stage\"), sameSamples=True)\n",
    "    \n",
    "    for sampling in config.sampling:\n",
    "        pred.runExperiments(data[:], files[:], target=target, sampling=sampling)"
   ]
  },
  {
   "cell_type": "code",
   "execution_count": 2,
   "metadata": {},
   "outputs": [
    {
     "name": "stderr",
     "output_type": "stream",
     "text": [
      "c:\\Users\\Ameno\\Desktop\\Thesis\\Host-Microbial-Omics-Integration\\loader.py:23: SettingWithCopyWarning: \n",
      "A value is trying to be set on a copy of a slice from a DataFrame.\n",
      "Try using .loc[row_indexer,col_indexer] = value instead\n",
      "\n",
      "See the caveats in the documentation: https://pandas.pydata.org/pandas-docs/stable/user_guide/indexing.html#returning-a-view-versus-a-copy\n",
      "  aak_ge_clinical_types[\"portion_id\"] = aak_ge_clinical_types.apply(lambda row: str(row.portion_id)[:-4], axis=1)\n",
      "c:\\Users\\Ameno\\Desktop\\Thesis\\Host-Microbial-Omics-Integration\\loader.py:24: SettingWithCopyWarning: \n",
      "A value is trying to be set on a copy of a slice from a DataFrame\n",
      "\n",
      "See the caveats in the documentation: https://pandas.pydata.org/pandas-docs/stable/user_guide/indexing.html#returning-a-view-versus-a-copy\n",
      "  aak_ge_clinical_types.drop_duplicates([\"portion_id\"], inplace=True)\n",
      "c:\\Users\\Ameno\\Desktop\\Thesis\\Host-Microbial-Omics-Integration\\loader.py:64: SettingWithCopyWarning: \n",
      "A value is trying to be set on a copy of a slice from a DataFrame.\n",
      "Try using .loc[row_indexer,col_indexer] = value instead\n",
      "\n",
      "See the caveats in the documentation: https://pandas.pydata.org/pandas-docs/stable/user_guide/indexing.html#returning-a-view-versus-a-copy\n",
      "  tcma_genus[\"stage\"] = tcma_genus.apply(lambda row: tcma_genus_aak_ge.loc[row.name][\"stage\"], axis=1)\n"
     ]
    }
   ],
   "source": [
    "data, files = load.loadAll(includeStage=True, sameSamples=True)"
   ]
  },
  {
   "cell_type": "code",
   "execution_count": null,
   "metadata": {},
   "outputs": [],
   "source": [
    "pred.runExperiments(data[:], files[:], target=\"stage\", sampling=\"random_sampling\")"
   ]
  },
  {
   "cell_type": "code",
   "execution_count": 3,
   "metadata": {},
   "outputs": [
    {
     "name": "stdout",
     "output_type": "stream",
     "text": [
      "TCGA-IG-A3I8-01    2\n",
      "TCGA-IG-A3I8-11    0\n",
      "TCGA-IG-A3QL-01    2\n",
      "TCGA-IG-A3Y9-01    3\n",
      "TCGA-IG-A3YA-01    3\n",
      "                  ..\n",
      "TCGA-LN-A4A8-01    2\n",
      "TCGA-LN-A4MR-01    2\n",
      "TCGA-LN-A5U5-01    4\n",
      "TCGA-LN-A8I1-01    2\n",
      "TCGA-LN-A9FQ-01    2\n",
      "Name: stage, Length: 62, dtype: int32\n"
     ]
    },
    {
     "data": {
      "text/plain": [
       "array([ 1.93313068,  2.18738136,  2.03187015,  2.24287305,  0.00728352,\n",
       "        2.30506897,  2.35438891,  2.05198344,  2.11761247,  1.92952112,\n",
       "        2.29942078,  2.02054195, -0.13128815,  2.3923181 ,  2.21638903,\n",
       "        1.6062588 ,  1.97067496,  2.06405305,  1.99515629,  1.82392603,\n",
       "       -0.05705918,  2.23732039,  2.06897079,  1.88521266,  2.22694542])"
      ]
     },
     "execution_count": 3,
     "metadata": {},
     "output_type": "execute_result"
    }
   ],
   "source": [
    "from sklearn.model_selection import train_test_split, StratifiedKFold\n",
    "from sklearn.linear_model import LogisticRegression, LinearRegression\n",
    "from sklearn.svm import SVC\n",
    "from sklearn.metrics import accuracy_score, classification_report, average_precision_score, log_loss\n",
    "import numpy as np\n",
    "\n",
    "d = data[1]\n",
    "d = load.attachStageStatus(d)\n",
    "x, y = pr.splitData(d, target=\"stage\", project=\"ESCA\")\n",
    "print(y)\n",
    "model = LinearRegression()\n",
    "# pred.runRandomSampling(x, y, model)\n",
    "\n",
    "x_train, x_test, y_train, y_test = train_test_split(x, y, test_size=0.4, stratify=y, random_state=42)\n",
    "\n",
    "model.fit(x_train, y_train)\n",
    "y_predicted = model.predict(x_test)\n",
    "y_predicted_rounded = np.rint(y_predicted)\n",
    "y_predicted_rounded\n",
    "y_predicted\n"
   ]
  },
  {
   "cell_type": "code",
   "execution_count": 7,
   "metadata": {},
   "outputs": [
    {
     "name": "stdout",
     "output_type": "stream",
     "text": [
      "Index(['XIST', 'RPS4Y1', 'ZFY', 'DDX3Y', 'CAPN9', 'KDM5D', 'PRKY', 'UGT1A7',\n",
      "       'MAGEA9B', 'NLGN4Y', 'USP9Y', 'EIF1AY', 'CDKN2A', 'FOXD1', 'IRX1',\n",
      "       'HOXA6', 'MAGEA1', 'UGT2B15', 'HOXA1', 'YBX2'],\n",
      "      dtype='object')\n",
      "Index(['RPS4Y1', 'XIST', 'DDX3Y', 'KDM5D', 'USP9Y', 'EIF1AY', 'ZFY', 'NLGN4Y',\n",
      "       'PRKY', 'UGT2B15', 'IRX1', 'CAPN9', 'FOXD1', 'CDKN2A', 'YBX2',\n",
      "       'MAGEA9B', 'MAGEA1', 'UGT1A7', 'HOXA6', 'HOXA1'],\n",
      "      dtype='object')\n",
      "Index(['RPS4Y1', 'XIST', 'KDM5D', 'EIF1AY', 'GSTM1', 'ZFY', 'CYorf15A',\n",
      "       'NLRP2', 'NLGN4Y', 'PPAN-P2RY11', 'PRKY', 'PRSS21', 'MUC2', 'IGF2BP3',\n",
      "       'MAGEA4', 'CGREF1', 'MAGEA9B', 'FADS6', 'MAGEA1', 'ZNF883'],\n",
      "      dtype='object')\n"
     ]
    }
   ],
   "source": [
    "model.coef_\n",
    "# features_with_coefficients = pd.DataFrame(zip(x_train.columns, model.coef_))\n",
    "features_with_coefficients = pd.DataFrame({\"feature\":x_train.columns,\"coefficients\":np.transpose(model.coef_)})\n",
    "features_with_coefficients_abs = features_with_coefficients.copy()\n",
    "features_with_coefficients_abs[\"coefficients\"] = features_with_coefficients_abs.apply(lambda row: abs(row.coefficients), axis=1)\n",
    "features_with_coefficients_abs\n",
    "sorted_features = features_with_coefficients_abs.sort_values(\"coefficients\", ascending=False)\n",
    "top_features = sorted_features.head(20)[\"feature\"].values\n",
    "x_train[top_features]\n",
    "\n",
    "best_indices = [x_train.columns.get_loc(c) for c in x_train.columns if c in top_features]\n",
    "\n",
    "\n",
    "print(x_train[top_features].columns)\n",
    "\n",
    "print(x_train.iloc[:, best_indices].columns)\n",
    "print(x_train.iloc[:, pr.selectFeatures(x, y, 20, \"linreg\")].columns)"
   ]
  }
 ],
 "metadata": {
  "interpreter": {
   "hash": "5c9c23c68e4133fb152380ec4059b1f78568734598c8159b0962b671d1bd3454"
  },
  "kernelspec": {
   "display_name": "Python 3.9.4 ('bacteria')",
   "language": "python",
   "name": "python3"
  },
  "language_info": {
   "codemirror_mode": {
    "name": "ipython",
    "version": 3
   },
   "file_extension": ".py",
   "mimetype": "text/x-python",
   "name": "python",
   "nbconvert_exporter": "python",
   "pygments_lexer": "ipython3",
   "version": "3.9.4"
  },
  "orig_nbformat": 4
 },
 "nbformat": 4,
 "nbformat_minor": 2
}
