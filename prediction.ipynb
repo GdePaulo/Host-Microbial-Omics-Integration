{
 "cells": [
  {
   "cell_type": "code",
   "execution_count": null,
   "metadata": {},
   "outputs": [],
   "source": [
    "import pandas as pd\n",
    "import processor as pr\n",
    "import loader as load\n",
    "ge_phylum_stage = load.loadGEOverlappingTCMA(\"phylum\", includeStage=True)\n"
   ]
  },
  {
   "cell_type": "code",
   "execution_count": null,
   "metadata": {},
   "outputs": [],
   "source": [
    "\n",
    "# print(stad_ge_phylum_stage[\"stage\"].values)\n",
    "stage_dictionary = {\n",
    "    \"I\":0,\n",
    "    \"IA\":0,\n",
    "    \"IB\":0,\n",
    "    \"II\":1,\n",
    "    \"IIA\":1,\n",
    "    \"IIB\":1,\n",
    "    \"III\":2,\n",
    "    \"IIIA\":2,\n",
    "    \"IIIB\":2,\n",
    "    \"IIIC\":2,\n",
    "    \"IV\":3,\n",
    "}\n",
    "\n",
    "def convertStage(stage):\n",
    "    st = str(stage)[6:]\n",
    "    return stage_dictionary[st]\n",
    "\n",
    "stad_ge_phylum_stage = ge_phylum_stage[ge_phylum_stage[\"project\"]==\"STAD\"]\n",
    "stad_ge_phylum_stage[\"stage\"] = stad_ge_phylum_stage.apply(lambda row: convertStage(row.stage) if row.stage==row.stage else row.stage, axis=1)   \n",
    "print(stad_ge_phylum_stage[\"stage\"].value_counts())\n",
    "stad_ge_phylum_stage = stad_ge_phylum_stage.dropna(subset=[\"stage\"])\n",
    "# load.attachTumorStatus(stad_ge_phylum_stage)\n",
    "x, y = pr.splitData(stad_ge_phylum_stage, \"stage\", project=\"STAD\")\n",
    "\n",
    "from sklearn.linear_model import LogisticRegression\n",
    "model = LogisticRegression(multi_class='multinomial').fit(x, y)\n",
    "print(model.predict(x))\n",
    "print(y.values)"
   ]
  },
  {
   "cell_type": "code",
   "execution_count": null,
   "metadata": {},
   "outputs": [],
   "source": [
    "import predictor as pred\n",
    "\n",
    "tcma_genus = load.loadTCMA(\"genus\")\n",
    "tcma_genus_aak_ge = load.loadGEOverlappingTCMA(\"genus\")\n",
    "# aak_ge = load.loadGEWithClinical()\n",
    "aak_ge = None\n",
    "data = [tcma_genus, aak_ge, tcma_genus_aak_ge]\n",
    "files = [\"tcma_gen\", \"aak_ge\", \"tcma_gen_aak_ge\"]"
   ]
  },
  {
   "cell_type": "code",
   "execution_count": null,
   "metadata": {},
   "outputs": [],
   "source": [
    "for i, d in enumerate(data[:1]):\n",
    "    load.attachTumorStatus(d)\n",
    "    final_report = \"\"\n",
    "    for c in [\"COAD\", \"ESCA\", \"HNSC\", \"READ\", \"STAD\"]:   \n",
    "        if i == 2 and  c == \"READ\":\n",
    "            continue\n",
    "        x, y = pr.splitData(d, target=\"tumor\", project=c)\n",
    "        cur_report = pred.runCrossValidation(x, y)\n",
    "        final_report += f\"Summary data for: {c}\\n\"\n",
    "        description = \",\".join([k + \": \" + str(cur_report[k]) for k in cur_report])\n",
    "        final_report += description + \"\\n\"\n",
    "        load.saveDescriptor(final_report, fr'Data\\Descriptor\\Prediction\\{files[i]}_tmr_pred.txt')\n",
    "# print(\"Final final_report\", final_report)\n",
    "# Warnings because everything is being predicted as the same\n"
   ]
  }
 ],
 "metadata": {
  "interpreter": {
   "hash": "5c9c23c68e4133fb152380ec4059b1f78568734598c8159b0962b671d1bd3454"
  },
  "kernelspec": {
   "display_name": "Python 3.9.4 ('bacteria')",
   "language": "python",
   "name": "python3"
  },
  "language_info": {
   "codemirror_mode": {
    "name": "ipython",
    "version": 3
   },
   "file_extension": ".py",
   "mimetype": "text/x-python",
   "name": "python",
   "nbconvert_exporter": "python",
   "pygments_lexer": "ipython3",
   "version": "3.9.4"
  },
  "orig_nbformat": 4
 },
 "nbformat": 4,
 "nbformat_minor": 2
}
