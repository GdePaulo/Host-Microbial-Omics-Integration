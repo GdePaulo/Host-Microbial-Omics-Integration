{
 "cells": [
  {
   "cell_type": "code",
   "execution_count": null,
   "metadata": {},
   "outputs": [],
   "source": [
    "import pandas as pd\n",
    "import processor as pr\n",
    "import loader as load\n",
    "import predictor as pred\n",
    "import config\n",
    "\n",
    "# ge_phylum_stage = load.loadGEOverlappingTCMA(\"phylum\", includeStage=True)\n",
    "# ge_genus_stage = load.loadGEOverlappingTCMA(\"genus\", includeStage=True)\n",
    "# aak_ge_stage = load.loadGEWithClinical(includeStage=True)\n",
    "test = [[1, 4], [8, 9]]\n",
    "actual = [[1, 2], [2, 3]]\n",
    "predictions = {}\n",
    "all_predicted_labels = [y for x in test for y in x]\n",
    "all_actual_labels = [y for x in actual for y in x]\n",
    "all_sampling_iterations = [i for i, x in enumerate(actual) for y in range(len(x))]\n",
    "predictions[\"predicted\"] = all_predicted_labels\n",
    "predictions[\"actual\"] = all_actual_labels\n",
    "predictions[\"iteration\"] = all_sampling_iterations\n",
    "\n",
    "# current_prediction_index = 0\n",
    "# for pred in test:\n",
    "#     predictions[current_prediction_index] = \n",
    "print(all_predicted_labels)\n",
    "print(all_sampling_iterations)\n",
    "pd.DataFrame.from_dict(predictions, orient='columns')"
   ]
  },
  {
   "cell_type": "code",
   "execution_count": null,
   "metadata": {},
   "outputs": [],
   "source": [
    "# aak_ge takes a while. chokes during feature selection COAD even with 5\n",
    "for target in config.prediction_targets[1:]:\n",
    "    data, files = load.loadAll(includeStage=(target==\"stage\"), sameSamples=True, skipGenes=False)\n",
    "    \n",
    "    for sampling in config.sampling[:]:\n",
    "\n",
    "        for selection in config.selection_types[:]:\n",
    "            # print(data[1:], files[1:])\n",
    "            # pred.runExperiments(data[1:2], files[1:2], target=target, sampling=sampling, selection=selection)\n",
    "            pred.runExperiments(data[:], files[:], target=target, sampling=sampling, selection=selection)"
   ]
  },
  {
   "cell_type": "code",
   "execution_count": null,
   "metadata": {},
   "outputs": [],
   "source": [
    "data, files = load.loadAll(includeStage=True, sameSamples=True)"
   ]
  },
  {
   "cell_type": "code",
   "execution_count": null,
   "metadata": {},
   "outputs": [],
   "source": [
    "pred.runExperiments(data[:], files[:], target=\"stage\", sampling=\"random_sampling\")"
   ]
  },
  {
   "cell_type": "code",
   "execution_count": null,
   "metadata": {},
   "outputs": [],
   "source": [
    "from sklearn.model_selection import train_test_split, StratifiedKFold\n",
    "from sklearn.linear_model import LogisticRegression, LinearRegression\n",
    "from sklearn.svm import SVC\n",
    "from sklearn.metrics import accuracy_score, classification_report, average_precision_score, log_loss\n",
    "import numpy as np\n",
    "\n",
    "d = data[1]\n",
    "d = load.attachStageStatus(d)\n",
    "x, y = pr.splitData(d, target=\"stage\", project=\"ESCA\")\n",
    "print(y)\n",
    "model = LinearRegression()\n",
    "# pred.runRandomSampling(x, y, model)\n",
    "\n",
    "x_train, x_test, y_train, y_test = train_test_split(x, y, test_size=0.4, stratify=y, random_state=42)\n",
    "\n",
    "model.fit(x_train, y_train)\n",
    "y_predicted = model.predict(x_test)\n",
    "y_predicted_rounded = np.rint(y_predicted)\n",
    "y_predicted_rounded\n",
    "# y_predicted\n",
    "y.dtype\n"
   ]
  },
  {
   "cell_type": "code",
   "execution_count": null,
   "metadata": {},
   "outputs": [],
   "source": [
    "# test = [ 5.3, 5.2]\n",
    "# new = np.rint(test)\n",
    "# maximum = max(y_train)\n",
    "\n",
    "# test = np.clip(y_train, 0, 10)\n",
    "# test\n",
    "# https://stackoverflow.com/questions/43991252/anyway-to-average-different-confusion-matrices\n",
    "# https://stackoverflow.com/questions/64916272/how-to-display-mean-classification-report-and-confusion-matrix-in-case-of-kfold?rq=1\n",
    "# https://medium.com/analytics-vidhya/generation-of-a-concatenated-confusion-matrix-in-cross-validation-912485c4a972\n",
    "# https://towardsdatascience.com/how-to-plot-a-confusion-matrix-from-a-k-fold-cross-validation-b607317e9874\n",
    "y_predicted_rounded\n",
    "from sklearn.metrics import confusion_matrix\n",
    "# cm1 = pd.crosstab(pd.Series(y_predicted_rounded), pd.Series(y_test), rownames=['Predicted'], colnames=['Actual'], margins=True)\n",
    "# cm1\n",
    "print(y_test.values, y_predicted_rounded)\n",
    "confusion_matrix(y_test, y_predicted_rounded)"
   ]
  },
  {
   "cell_type": "code",
   "execution_count": null,
   "metadata": {},
   "outputs": [],
   "source": [
    "# test = [ 5.3, 5.2]\n",
    "# new = np.rint(test)\n",
    "# maximum = max(y_train)\n",
    "\n",
    "# test = np.clip(y_train, 0, 10)\n",
    "# test\n",
    "\n",
    "y_predicted_rounded\n",
    "cm1 = pd.crosstab(pd.Series(y_predicted_rounded), pd.Series(y_test), rownames=['Predicted'], colnames=['Actual'], margins=True)\n",
    "cm1"
   ]
  },
  {
   "cell_type": "code",
   "execution_count": null,
   "metadata": {},
   "outputs": [],
   "source": [
    "model.coef_\n",
    "# features_with_coefficients = pd.DataFrame(zip(x_train.columns, model.coef_))\n",
    "features_with_coefficients = pd.DataFrame({\"feature\":x_train.columns,\"coefficients\":np.transpose(model.coef_)})\n",
    "features_with_coefficients_abs = features_with_coefficients.copy()\n",
    "features_with_coefficients_abs[\"coefficients\"] = features_with_coefficients_abs.apply(lambda row: abs(row.coefficients), axis=1)\n",
    "features_with_coefficients_abs\n",
    "sorted_features = features_with_coefficients_abs.sort_values(\"coefficients\", ascending=False)\n",
    "top_features = sorted_features.head(20)[\"feature\"].values\n",
    "x_train[top_features]\n",
    "\n",
    "best_indices = [x_train.columns.get_loc(c) for c in x_train.columns if c in top_features]\n",
    "\n",
    "\n",
    "print(x_train[top_features].columns)\n",
    "\n",
    "print(x_train.iloc[:, best_indices].columns)\n",
    "linreg_ranked_features = pr.selectFeatures(x, y, 20, \"linreg\")\n",
    "print(x_train.iloc[:, linreg_ranked_features].columns)\n",
    "linreg_ranked_features[:20]"
   ]
  }
 ],
 "metadata": {
  "interpreter": {
   "hash": "5c9c23c68e4133fb152380ec4059b1f78568734598c8159b0962b671d1bd3454"
  },
  "kernelspec": {
   "display_name": "Python 3.9.4 ('bacteria')",
   "language": "python",
   "name": "python3"
  },
  "language_info": {
   "codemirror_mode": {
    "name": "ipython",
    "version": 3
   },
   "file_extension": ".py",
   "mimetype": "text/x-python",
   "name": "python",
   "nbconvert_exporter": "python",
   "pygments_lexer": "ipython3",
   "version": "3.9.4"
  },
  "orig_nbformat": 4
 },
 "nbformat": 4,
 "nbformat_minor": 2
}
