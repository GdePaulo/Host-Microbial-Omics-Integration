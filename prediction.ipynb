{
 "cells": [
  {
   "cell_type": "code",
   "execution_count": null,
   "metadata": {},
   "outputs": [],
   "source": [
    "import pandas as pd\n",
    "import processor as pr\n",
    "import loader as load\n",
    "import predictor as pred\n",
    "\n",
    "ge_phylum_stage = load.loadGEOverlappingTCMA(\"phylum\", includeStage=True)\n",
    "ge_genus_stage = load.loadGEOverlappingTCMA(\"genus\", includeStage=True)\n",
    "# aak_ge_stage = load.loadGEWithClinical(includeStage=True)"
   ]
  },
  {
   "cell_type": "code",
   "execution_count": null,
   "metadata": {},
   "outputs": [],
   "source": [
    "\n",
    "# print(aak_ge_stage[\"stage\"].value_counts(dropna=False))\n",
    "# d = pred.attachStageStatus(aak_ge_stage)\n",
    "# x, y = pr.splitData(d, \"stage\", project=\"STAD\")\n",
    "# print(y.value_counts())\n",
    "\n",
    "# print(pred.runCrossValidation(x, y, splits=3, model=\"MLGR\"))"
   ]
  },
  {
   "cell_type": "code",
   "execution_count": null,
   "metadata": {},
   "outputs": [],
   "source": [
    "\n",
    "data, files = load.loadAll(includeStage=True, sameSamples=True)"
   ]
  },
  {
   "cell_type": "code",
   "execution_count": null,
   "metadata": {},
   "outputs": [],
   "source": [
    "# data[1][\"stage\"].value_counts(ascending=True).iloc[0]"
   ]
  },
  {
   "cell_type": "code",
   "execution_count": null,
   "metadata": {},
   "outputs": [],
   "source": [
    "# tcma_genus_aak_ge = load.loadGEOverlappingTCMA(\"genus\", includeStage=True)\n",
    "# aak_ge = load.loadGEWithClinical(includeStage=True)\n",
    "# stage_data = [aak_ge, tcma_genus_aak_ge]\n",
    "pred.runExperiments(data[:], files[:], \"stage\")"
   ]
  }
 ],
 "metadata": {
  "interpreter": {
   "hash": "5c9c23c68e4133fb152380ec4059b1f78568734598c8159b0962b671d1bd3454"
  },
  "kernelspec": {
   "display_name": "Python 3.9.4 ('bacteria')",
   "language": "python",
   "name": "python3"
  },
  "language_info": {
   "codemirror_mode": {
    "name": "ipython",
    "version": 3
   },
   "file_extension": ".py",
   "mimetype": "text/x-python",
   "name": "python",
   "nbconvert_exporter": "python",
   "pygments_lexer": "ipython3",
   "version": "3.9.4"
  },
  "orig_nbformat": 4
 },
 "nbformat": 4,
 "nbformat_minor": 2
}
