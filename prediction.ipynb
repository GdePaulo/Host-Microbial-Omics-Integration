{
 "cells": [
  {
   "cell_type": "code",
   "execution_count": null,
   "metadata": {},
   "outputs": [],
   "source": [
    "import pandas as pd\n",
    "import processor as pr\n",
    "import loader as load\n",
    "import predictor as pred\n",
    "import config"
   ]
  },
  {
   "cell_type": "code",
   "execution_count": null,
   "metadata": {},
   "outputs": [],
   "source": [
    "\n",
    "data, files = load.loadAll(includeStage=(\"stage\"), sameSamples=True, skipGenes=True)\n",
    "ae, ae_file = data[-1], files[-1]\n",
    "print(len(ae))\n",
    "ae = load.attachStageStatus(ae)\n",
    "print(len(ae))\n",
    "x, y = pr.splitData(ae, target=\"stage\", project=\"COAD\")"
   ]
  },
  {
   "cell_type": "code",
   "execution_count": null,
   "metadata": {},
   "outputs": [],
   "source": [
    "y"
   ]
  },
  {
   "cell_type": "code",
   "execution_count": null,
   "metadata": {},
   "outputs": [],
   "source": [
    "stad_stage_exp = True\n",
    "# aak_ge takes a while. chokes during feature selection COAD even with 5\n",
    "for target in config.prediction_targets[1:]:\n",
    "    data, files = load.loadAll(includeStage=(target==\"stage\"), sameSamples=True, skipGenes=False)\n",
    "    for sampling in config.sampling[:]:\n",
    "        for selection in config.selection_types[:2]:\n",
    "            # pred.runExperiments(data[1:2], files[1:2], target=target, sampling=sampling, selection=selection)\n",
    "            \n",
    "            for parity in config.modality_parities[:1]:\n",
    "                enforce_modality_parity = (parity == \"parity\")\n",
    "\n",
    "                # Only run for overlap set if you run with parity\n",
    "                if enforce_modality_parity:\n",
    "                    genus_overlapping_ge_name = \"tcma_gen_aak_ge\"\n",
    "                    genus_overlapping_ge  = load.getSpecificData(genus_overlapping_ge_name, data, files)\n",
    "                    pred.runExperiments([genus_overlapping_ge], [genus_overlapping_ge_name], target=target, sampling=sampling, selection=selection, modality_selection_parity=enforce_modality_parity, stad_exp=stad_stage_exp)\n",
    "                else:\n",
    "                    pred.runExperiments(data[:], files[:], target=target, sampling=sampling, selection=selection, modality_selection_parity=enforce_modality_parity, stad_exp=stad_stage_exp)"
   ]
  },
  {
   "cell_type": "code",
   "execution_count": null,
   "metadata": {},
   "outputs": [],
   "source": [
    "data, files = load.loadAll(includeStage=True, sameSamples=True)"
   ]
  },
  {
   "cell_type": "code",
   "execution_count": null,
   "metadata": {},
   "outputs": [],
   "source": [
    "pred.runExperiments(data[:], files[:], target=\"stage\", sampling=\"random_sampling\")"
   ]
  },
  {
   "cell_type": "code",
   "execution_count": null,
   "metadata": {},
   "outputs": [],
   "source": [
    "from sklearn.model_selection import train_test_split, StratifiedKFold\n",
    "from sklearn.linear_model import LogisticRegression, LinearRegression\n",
    "from sklearn.svm import SVC\n",
    "from sklearn.metrics import accuracy_score, classification_report, average_precision_score, log_loss\n",
    "from sklearn.feature_selection import SelectFromModel\n",
    "from sklearn.ensemble import RandomForestRegressor\n",
    "import numpy as np\n",
    "from tuner import getTunedModel\n",
    "\n",
    "d = data[2]\n",
    "d = load.attachStageStatus(d)\n",
    "x, y = pr.splitData(d, target=\"stage\", project=\"STAD\")\n",
    "# print(y)\n",
    "model = LinearRegression()\n",
    "# pred.runRandomSampling(x, y, model)\n",
    "\n",
    "x_train, x_test, y_train, y_test = train_test_split(x, y, test_size=0.2, stratify=y, random_state=42)\n",
    "\n",
    "model.fit(x_train, y_train)\n",
    "y_predicted = model.predict(x_test)\n",
    "y_predicted_rounded = np.rint(y_predicted)\n",
    "# y_predicted_rounded\n",
    "# y_predicted\n",
    "# y.dtype\n",
    "print(model.coef_)\n",
    "\n",
    "\n",
    "def printImportances(name, features, coefficients):\n",
    "    with open(name, \"w+\") as f:\n",
    "        f.write(str(list(zip(features, coefficients))))\n",
    "# printImportances(\"z_linreg_coef\", x_train.columns, model.coef_.tolist())"
   ]
  },
  {
   "cell_type": "code",
   "execution_count": null,
   "metadata": {},
   "outputs": [],
   "source": [
    "from sklearn.linear_model import ElasticNet, Lasso\n",
    "# model = ElasticNet(random_state=0)\n",
    "# model = Lasso(random_state=0)\n",
    "model = RandomForestRegressor(random_state=0)\n",
    "\n",
    "model.fit(x_train, y_train)\n",
    "# tuned_object = getTunedModel(model, x_train, y_train, random_state=42, scoring=\"neg_root_mean_squared_error\")"
   ]
  },
  {
   "cell_type": "code",
   "execution_count": null,
   "metadata": {},
   "outputs": [],
   "source": [
    "# [tree.feature_importances_.tolist() for tree in tuned_object.best_estimator_.estimators_],\n",
    "from sklearn.inspection import permutation_importance\n",
    "forest = tuned_object.best_estimator_\n",
    "# result = permutation_importance(\n",
    "#     forest, x_test, y_test, n_repeats=10, random_state=42, n_jobs=-1\n",
    "# )\n"
   ]
  },
  {
   "cell_type": "code",
   "execution_count": null,
   "metadata": {},
   "outputs": [],
   "source": [
    "# result.importances_mean.tolist()"
   ]
  },
  {
   "cell_type": "code",
   "execution_count": null,
   "metadata": {},
   "outputs": [],
   "source": [
    "\n",
    "# model = tuned_object.best_estimator_\n",
    "# best_parameters = tuned_object.best_params_\n",
    "# print(f\"Finished tuning param: {best_parameters}\")\n",
    "model.feature_importances_\n",
    "method = \"rfreg\""
   ]
  },
  {
   "cell_type": "code",
   "execution_count": null,
   "metadata": {},
   "outputs": [],
   "source": [
    "coefficients = model.feature_importances_ if method == \"rfreg\" else model.coef_\n",
    "print(coefficients.tolist())\n",
    "# features_with_coefficients = pd.DataFrame(zip(x_train.columns, coefficients))\n",
    "features_with_coefficients = pd.DataFrame({\"feature\":x_train.columns,\"coefficients\":np.transpose(coefficients)})\n",
    "print(features_with_coefficients)\n",
    "features_with_coefficients_abs = features_with_coefficients.copy()\n",
    "features_with_coefficients_abs[\"coefficients\"] = features_with_coefficients_abs.apply(lambda row: abs(row.coefficients), axis=1)\n",
    "features_with_coefficients_abs\n",
    "sorted_features = features_with_coefficients_abs.sort_values(\"coefficients\", ascending=False)\n",
    "top_features = sorted_features.head(20)[\"feature\"].values\n",
    "x_train[top_features]\n",
    "# printImportances(\"z_rf_tuned_coef\", x_train.columns, coefficients.tolist())\n",
    "print(top_features)\n",
    "# print(coefficients)\n",
    "best_indices = [x_train.columns.get_loc(c) for c in top_features]\n",
    "\n",
    "\n",
    "print(x_train[top_features].columns)\n",
    "print(sorted_features.set_index(\"feature\").T.to_dict(\"records\")[0])\n",
    "# print(x_train.iloc[:, best_indices].columns)\n",
    "# linreg_ranked_features = pr.selectFeatures(x, y, 20, \"linreg\")\n",
    "# print(x_train.iloc[:, linreg_ranked_features].columns)\n",
    "# linreg_ranked_features[:20]"
   ]
  },
  {
   "cell_type": "code",
   "execution_count": null,
   "metadata": {},
   "outputs": [],
   "source": [
    "# Experiments with separate feature selection per modality\n",
    "all_features, _ = load.getFeatures()\n",
    "gen, ge = all_features\n",
    "\n",
    "# x_train[gen[:2]]\n",
    "# files\n",
    "x_train_with_genus_features = x_train[gen]\n",
    "x_train_with_ge_features = x_train[ge]\n",
    "# x_train_with_genus_features\n",
    "x_train_with_ge_features"
   ]
  }
 ],
 "metadata": {
  "interpreter": {
   "hash": "5c9c23c68e4133fb152380ec4059b1f78568734598c8159b0962b671d1bd3454"
  },
  "kernelspec": {
   "display_name": "Python 3.9.4 ('bacteria')",
   "language": "python",
   "name": "python3"
  },
  "language_info": {
   "codemirror_mode": {
    "name": "ipython",
    "version": 3
   },
   "file_extension": ".py",
   "mimetype": "text/x-python",
   "name": "python",
   "nbconvert_exporter": "python",
   "pygments_lexer": "ipython3",
   "version": "3.9.4"
  },
  "orig_nbformat": 4
 },
 "nbformat": 4,
 "nbformat_minor": 2
}
