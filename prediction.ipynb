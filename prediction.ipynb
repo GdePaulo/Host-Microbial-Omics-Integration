{
 "cells": [
  {
   "cell_type": "code",
   "execution_count": null,
   "metadata": {},
   "outputs": [],
   "source": [
    "import pandas as pd\n",
    "import processor as pr\n",
    "import loader as load\n",
    "import predictor as pred\n",
    "\n",
    "ge_phylum_stage = load.loadGEOverlappingTCMA(\"phylum\", includeStage=True)\n",
    "ge_genus_stage = load.loadGEOverlappingTCMA(\"genus\", includeStage=True)\n",
    "# aak_ge_stage = load.loadGEWithClinical(includeStage=True)"
   ]
  },
  {
   "cell_type": "code",
   "execution_count": null,
   "metadata": {},
   "outputs": [],
   "source": [
    "\n",
    "print(aak_ge_stage[\"stage\"].value_counts(dropna=False))\n",
    "d = pred.attachStageStatus(aak_ge_stage)\n",
    "x, y = pr.splitData(d, \"stage\", project=\"STAD\")\n",
    "print(y.value_counts())\n",
    "\n",
    "print(pred.runCrossValidation(x, y, splits=3, model=\"MLGR\"))"
   ]
  },
  {
   "cell_type": "code",
   "execution_count": null,
   "metadata": {},
   "outputs": [],
   "source": [
    "\n",
    "tcma_genus = load.loadTCMA(\"genus\")\n",
    "tcma_genus_aak_ge = load.loadGEOverlappingTCMA(\"genus\")\n",
    "# aak_ge = load.loadGEWithClinical()\n",
    "aak_ge = None\n",
    "data = [tcma_genus, aak_ge, tcma_genus_aak_ge]\n",
    "files = [\"tcma_gen\", \"aak_ge\", \"tcma_gen_aak_ge\"]\n",
    "# data, files = load.loadAll(with_stage=True)\n",
    "# print(len(tcma_genus[tcma_genus[\"project\"]==\"COAD\"]))"
   ]
  },
  {
   "cell_type": "code",
   "execution_count": null,
   "metadata": {},
   "outputs": [],
   "source": [
    "tcma_genus_aak_ge = load.loadGEOverlappingTCMA(\"genus\", includeStage=True)\n",
    "aak_ge = load.loadGEWithClinical(includeStage=True)\n",
    "stage_data = [aak_ge, tcma_genus_aak_ge]\n",
    "pred.runExperiments(stage_data[1:], files[2:], \"stage\")"
   ]
  },
  {
   "cell_type": "code",
   "execution_count": null,
   "metadata": {},
   "outputs": [],
   "source": [
    "\n",
    "for i, d in enumerate(data[:]):\n",
    "    d = load.attachTumorStatus(d)\n",
    "    final_reports = None\n",
    "    for j, c in enumerate([\"COAD\", \"ESCA\", \"HNSC\", \"READ\", \"STAD\"]):   \n",
    "        for p in [0, 5, 10]:\n",
    "            if i == 2 and  c == \"READ\":\n",
    "                continue\n",
    "            x, y = pr.splitData(d, target=\"tumor\", project=c)\n",
    "            \n",
    "            # print(\"Before selection\", x)\n",
    "            best_x = pr.selectFeatures(x, y, p)\n",
    "            x = best_x\n",
    "            # print(\"After selection\", x)\n",
    "\n",
    "            cur_report = pred.runCrossValidation(x, y)\n",
    "\n",
    "            cur_report[\"cancer\"] = c\n",
    "            cur_report[\"cv_folds\"] = 2\n",
    "            cur_report[\"p\"] = p\n",
    "\n",
    "            # Convert elements to array to avoid issues with lack of index when using scaler values from dictionary\n",
    "            cur_report = {k : [cur_report[k]] for k in cur_report}\n",
    "            report_d = pd.DataFrame.from_dict(cur_report, orient=\"columns\")\n",
    "\n",
    "            if final_reports is not None:\n",
    "                final_reports = pd.concat([final_reports, report_d], ignore_index=True)\n",
    "            else:\n",
    "                final_reports = report_d\n",
    "\n",
    "\n",
    "    output = StringIO()\n",
    "    final_reports = final_reports.round(3)\n",
    "    final_reports.to_csv(output, index=False)\n",
    "    output.seek(0)\n",
    "    pt = prettytable.from_csv(output)\n",
    "    print(pt)\n",
    "    print(final_reports)\n",
    "    load.saveDescriptor(pt, fr'Data\\Descriptor\\Prediction_Tables\\{files[i]}_tmr_pred.txt')\n",
    "# Warnings because everything is being predicted as the same\n"
   ]
  }
 ],
 "metadata": {
  "interpreter": {
   "hash": "5c9c23c68e4133fb152380ec4059b1f78568734598c8159b0962b671d1bd3454"
  },
  "kernelspec": {
   "display_name": "Python 3.9.4 ('bacteria')",
   "language": "python",
   "name": "python3"
  },
  "language_info": {
   "codemirror_mode": {
    "name": "ipython",
    "version": 3
   },
   "file_extension": ".py",
   "mimetype": "text/x-python",
   "name": "python",
   "nbconvert_exporter": "python",
   "pygments_lexer": "ipython3",
   "version": "3.9.4"
  },
  "orig_nbformat": 4
 },
 "nbformat": 4,
 "nbformat_minor": 2
}
