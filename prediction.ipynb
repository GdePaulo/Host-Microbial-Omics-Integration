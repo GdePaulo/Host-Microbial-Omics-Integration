{
 "cells": [
  {
   "cell_type": "code",
<<<<<<< HEAD
   "execution_count": 6,
=======
   "execution_count": 1,
>>>>>>> b491b01ba2e6c9b46a639dadc55ba7238f29ea36
   "metadata": {},
   "outputs": [],
   "source": [
    "import pandas as pd\n",
<<<<<<< HEAD
    "# cancer = \"HNSC\"\n",
    "cancer = \"COAD\"\n",
    "# cancer = \"STAD\"\n",
    "d = pd.read_csv(f\"Data/{cancer}/gene_biome_{cancer}.csv\", index_col=0)"
=======
    "d = pd.read_csv(\"gene_biome\", index_col=0)"
>>>>>>> b491b01ba2e6c9b46a639dadc55ba7238f29ea36
   ]
  },
  {
   "cell_type": "code",
<<<<<<< HEAD
   "execution_count": 10,
   "metadata": {},
   "outputs": [
    {
     "name": "stdout",
     "output_type": "stream",
     "text": [
      "HNSC: 1    154\n",
      "0      7\n",
      "Name: tumor, dtype: int64\n",
      "COAD: 1    45\n",
      "0     3\n",
      "Name: tumor, dtype: int64\n",
      "STAD: 1    113\n",
      "0      9\n",
      "Name: tumor, dtype: int64\n",
      "ESCA: 1    59\n",
      "0     7\n",
      "Name: tumor, dtype: int64\n",
      "READ: 1    3\n",
      "Name: tumor, dtype: int64\n"
     ]
    }
   ],
   "source": [
    "\n",
    "# Head and neck squamous cell, colon adeno, stomach, esophageal, rectum adeno\n",
    "for c in [\"HNSC\", \"COAD\", \"STAD\", \"ESCA\", \"READ\"]:\n",
    "    d = pd.read_csv(f\"Data/{c}/gene_biome_{c}.csv\", index_col=0)\n",
    "    print(f\"{c}:\",d.tumor.value_counts())"
   ]
  },
  {
   "cell_type": "code",
   "execution_count": 8,
   "metadata": {},
   "outputs": [
    {
     "data": {
      "text/plain": [
       "'STAD'"
      ]
     },
     "execution_count": 8,
     "metadata": {},
     "output_type": "execute_result"
    }
   ],
   "source": [
    "# d[d[\"tumor\"]==0]\n",
    "y = d.pop(\"tumor\")\n",
    "x = d\n",
    "cancer"
   ]
  },
  {
   "cell_type": "markdown",
   "metadata": {},
   "source": [
    "y[y==0]"
=======
   "execution_count": 2,
   "metadata": {},
   "outputs": [],
   "source": [
    "# d[d[\"tumor\"]==0]\n",
    "y = d.pop(\"tumor\")\n",
    "x = d"
>>>>>>> b491b01ba2e6c9b46a639dadc55ba7238f29ea36
   ]
  },
  {
   "cell_type": "code",
<<<<<<< HEAD
   "execution_count": 16,
=======
   "execution_count": 3,
>>>>>>> b491b01ba2e6c9b46a639dadc55ba7238f29ea36
   "metadata": {},
   "outputs": [
    {
     "data": {
      "text/plain": [
       "SVC()"
      ]
     },
<<<<<<< HEAD
     "execution_count": 16,
=======
     "execution_count": 3,
>>>>>>> b491b01ba2e6c9b46a639dadc55ba7238f29ea36
     "metadata": {},
     "output_type": "execute_result"
    }
   ],
   "source": [
    "from sklearn.model_selection import train_test_split, StratifiedKFold\n",
    "from sklearn.svm import SVC\n",
<<<<<<< HEAD
    "from sklearn.metrics import accuracy_score, classification_report\n",
=======
    "from sklearn.metrics import accuracy_score\n",
>>>>>>> b491b01ba2e6c9b46a639dadc55ba7238f29ea36
    "\n",
    "x_train, x_test, y_train, y_test = train_test_split(x, y, test_size=0.33, random_state=42)\n",
    "model = SVC()\n",
    "model.fit(x_train, y_train)\n"
   ]
  },
  {
   "cell_type": "code",
<<<<<<< HEAD
   "execution_count": 17,
=======
   "execution_count": 4,
>>>>>>> b491b01ba2e6c9b46a639dadc55ba7238f29ea36
   "metadata": {},
   "outputs": [
    {
     "data": {
      "text/plain": [
<<<<<<< HEAD
       "0.9512195121951219"
      ]
     },
     "execution_count": 17,
=======
       "0.9629629629629629"
      ]
     },
     "execution_count": 4,
>>>>>>> b491b01ba2e6c9b46a639dadc55ba7238f29ea36
     "metadata": {},
     "output_type": "execute_result"
    }
   ],
   "source": [
    "y_predicted = model.predict(x_test)\n",
    "accuracy_score(y_test, y_predicted)"
   ]
  },
  {
   "cell_type": "code",
<<<<<<< HEAD
   "execution_count": 18,
=======
   "execution_count": 10,
>>>>>>> b491b01ba2e6c9b46a639dadc55ba7238f29ea36
   "metadata": {},
   "outputs": [
    {
     "name": "stdout",
     "output_type": "stream",
     "text": [
<<<<<<< HEAD
      "[1 1 1 1 1 1 1 1 1 1 1 1 1 1 1 1 1 1 1 1 1 1 1 1 1 1 0 1 1 1 1]\n",
      "0.967741935483871\n",
      "{'0': {'precision': 1.0, 'recall': 0.5, 'f1-score': 0.6666666666666666, 'support': 2}, '1': {'precision': 0.9666666666666667, 'recall': 1.0, 'f1-score': 0.983050847457627, 'support': 29}, 'accuracy': 0.967741935483871, 'macro avg': {'precision': 0.9833333333333334, 'recall': 0.75, 'f1-score': 0.8248587570621468, 'support': 31}, 'weighted avg': {'precision': 0.9688172043010753, 'recall': 0.967741935483871, 'f1-score': 0.9626389648259521, 'support': 31}}\n",
      "[1 1 1 1 1 1 1 1 1 1 1 1 1 1 1 1 1 1 1 1 1 1 1 1 1 1 1 1 1 1 1]\n",
      "0.9032258064516129\n",
      "{'0': {'precision': 0.0, 'recall': 0.0, 'f1-score': 0.0, 'support': 3}, '1': {'precision': 0.9032258064516129, 'recall': 1.0, 'f1-score': 0.9491525423728813, 'support': 28}, 'accuracy': 0.9032258064516129, 'macro avg': {'precision': 0.45161290322580644, 'recall': 0.5, 'f1-score': 0.47457627118644063, 'support': 31}, 'weighted avg': {'precision': 0.8158168574401664, 'recall': 0.9032258064516129, 'f1-score': 0.8572990705303444, 'support': 31}}\n",
      "[1 1 1 1 1 1 1 1 1 1 1 1 1 1 1 1 1 1 1 1 1 1 1 1 1 1 1 1 1 1]\n",
      "0.9333333333333333\n",
      "{'0': {'precision': 0.0, 'recall': 0.0, 'f1-score': 0.0, 'support': 2}, '1': {'precision': 0.9333333333333333, 'recall': 1.0, 'f1-score': 0.9655172413793104, 'support': 28}, 'accuracy': 0.9333333333333333, 'macro avg': {'precision': 0.4666666666666667, 'recall': 0.5, 'f1-score': 0.4827586206896552, 'support': 30}, 'weighted avg': {'precision': 0.8711111111111111, 'recall': 0.9333333333333333, 'f1-score': 0.9011494252873563, 'support': 30}}\n",
      "[1 1 1 1 1 1 1 1 1 1 1 1 1 1 1 1 1 1 1 1 1 0 1 1 1 1 1 1 1 1]\n",
      "0.9666666666666667\n",
      "{'0': {'precision': 1.0, 'recall': 0.5, 'f1-score': 0.6666666666666666, 'support': 2}, '1': {'precision': 0.9655172413793104, 'recall': 1.0, 'f1-score': 0.9824561403508771, 'support': 28}, 'accuracy': 0.9666666666666667, 'macro avg': {'precision': 0.9827586206896552, 'recall': 0.75, 'f1-score': 0.8245614035087718, 'support': 30}, 'weighted avg': {'precision': 0.967816091954023, 'recall': 0.9666666666666667, 'f1-score': 0.9614035087719298, 'support': 30}}\n"
     ]
    },
    {
     "name": "stderr",
     "output_type": "stream",
     "text": [
      "C:\\Users\\Ameno\\Anaconda3\\envs\\bacteria\\lib\\site-packages\\sklearn\\metrics\\_classification.py:1318: UndefinedMetricWarning: Precision and F-score are ill-defined and being set to 0.0 in labels with no predicted samples. Use `zero_division` parameter to control this behavior.\n",
      "  _warn_prf(average, modifier, msg_start, len(result))\n",
      "C:\\Users\\Ameno\\Anaconda3\\envs\\bacteria\\lib\\site-packages\\sklearn\\metrics\\_classification.py:1318: UndefinedMetricWarning: Precision and F-score are ill-defined and being set to 0.0 in labels with no predicted samples. Use `zero_division` parameter to control this behavior.\n",
      "  _warn_prf(average, modifier, msg_start, len(result))\n",
      "C:\\Users\\Ameno\\Anaconda3\\envs\\bacteria\\lib\\site-packages\\sklearn\\metrics\\_classification.py:1318: UndefinedMetricWarning: Precision and F-score are ill-defined and being set to 0.0 in labels with no predicted samples. Use `zero_division` parameter to control this behavior.\n",
      "  _warn_prf(average, modifier, msg_start, len(result))\n",
      "C:\\Users\\Ameno\\Anaconda3\\envs\\bacteria\\lib\\site-packages\\sklearn\\metrics\\_classification.py:1318: UndefinedMetricWarning: Precision and F-score are ill-defined and being set to 0.0 in labels with no predicted samples. Use `zero_division` parameter to control this behavior.\n",
      "  _warn_prf(average, modifier, msg_start, len(result))\n",
      "C:\\Users\\Ameno\\Anaconda3\\envs\\bacteria\\lib\\site-packages\\sklearn\\metrics\\_classification.py:1318: UndefinedMetricWarning: Precision and F-score are ill-defined and being set to 0.0 in labels with no predicted samples. Use `zero_division` parameter to control this behavior.\n",
      "  _warn_prf(average, modifier, msg_start, len(result))\n",
      "C:\\Users\\Ameno\\Anaconda3\\envs\\bacteria\\lib\\site-packages\\sklearn\\metrics\\_classification.py:1318: UndefinedMetricWarning: Precision and F-score are ill-defined and being set to 0.0 in labels with no predicted samples. Use `zero_division` parameter to control this behavior.\n",
      "  _warn_prf(average, modifier, msg_start, len(result))\n"
=======
      "0.9506172839506173\n",
      "0.9625\n"
>>>>>>> b491b01ba2e6c9b46a639dadc55ba7238f29ea36
     ]
    }
   ],
   "source": [
<<<<<<< HEAD
    "skf = StratifiedKFold(n_splits=4, shuffle=True, random_state=0)\n",
=======
    "skf = StratifiedKFold(n_splits=2, shuffle=True, random_state=0)\n",
>>>>>>> b491b01ba2e6c9b46a639dadc55ba7238f29ea36
    "skf.get_n_splits(x, y)\n",
    "for train_index, test_index in skf.split(x, y):\n",
    "    # print(\"TRAIN:\", train_index, \"TEST:\", test_index)\n",
    "    x_train, x_test = x.iloc[train_index], x.iloc[test_index]\n",
    "    y_train, y_test = y.iloc[train_index], y.iloc[test_index]\n",
    "    model.fit(x_train, y_train)\n",
    "    y_predicted = model.predict(x_test)\n",
<<<<<<< HEAD
    "    print(y_predicted)\n",
    "    print(accuracy_score(y_test, y_predicted))\n",
    "    print(classification_report(y_test, y_predicted, output_dict=True))"
=======
    "    print(accuracy_score(y_test, y_predicted))"
>>>>>>> b491b01ba2e6c9b46a639dadc55ba7238f29ea36
   ]
  }
 ],
 "metadata": {
  "interpreter": {
   "hash": "471eca0dc848140133dc64d1932547dad678b609e95c6d148d4173db0d1b72c4"
  },
  "kernelspec": {
   "display_name": "Python 3.9.4 ('bacteria')",
   "language": "python",
   "name": "python3"
  },
  "language_info": {
   "codemirror_mode": {
    "name": "ipython",
    "version": 3
   },
   "file_extension": ".py",
   "mimetype": "text/x-python",
   "name": "python",
   "nbconvert_exporter": "python",
   "pygments_lexer": "ipython3",
   "version": "3.9.4"
  },
  "orig_nbformat": 4
 },
 "nbformat": 4,
 "nbformat_minor": 2
}
