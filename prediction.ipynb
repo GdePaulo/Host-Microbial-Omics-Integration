{
 "cells": [
  {
   "cell_type": "code",
   "execution_count": 1,
   "metadata": {},
   "outputs": [],
   "source": [
    "import pandas as pd"
   ]
  },
  {
   "cell_type": "code",
   "execution_count": 2,
   "metadata": {},
   "outputs": [],
   "source": [
    "import loader as load\n",
    "ge_phylum_stage = load.loadGEOverlappingTCMA(\"phylum\", includeStage=True)\n"
   ]
  },
  {
   "cell_type": "code",
   "execution_count": 3,
   "metadata": {},
   "outputs": [
    {
     "name": "stdout",
     "output_type": "stream",
     "text": [
      "[ 0.  0.  0.  2.  3.  2.  3.  1.  1.  1.  1.  3.  1.  1.  3.  2.  2. nan\n",
      "  2.  2.  0. nan  1. nan nan  0.  2.  2. nan  0.  3.  2. nan  3.  2.  2.\n",
      "  2.  1.  0.  3.  2.  3.  1.  3. nan  1. nan  2. nan  1.  1.  3.  2.  2.\n",
      "  2.  0.  0.  2.  2.  3.  1.  0.  2.  1.  0.  2.  1. nan nan  1.  0.  2.\n",
      "  1.  3.  0.  1.  0.  2.  2.  3.  1.  1. nan  1. nan  2.  2.  0.  1.  3.\n",
      "  0.  1.  0.  3.  2.  1. nan  3.  1.  1.  0.  1.  1.  2.  1.  3.  3.  1.\n",
      "  0.  0.  1.  0.  1.  3.  1. nan  1.  1.  1.  1.  2.  1.]\n"
     ]
    },
    {
     "name": "stderr",
     "output_type": "stream",
     "text": [
      "C:\\Users\\Ameno\\AppData\\Local\\Temp\\ipykernel_17148\\3993372423.py:21: SettingWithCopyWarning: \n",
      "A value is trying to be set on a copy of a slice from a DataFrame.\n",
      "Try using .loc[row_indexer,col_indexer] = value instead\n",
      "\n",
      "See the caveats in the documentation: https://pandas.pydata.org/pandas-docs/stable/user_guide/indexing.html#returning-a-view-versus-a-copy\n",
      "  stad_ge_phylum_stage[\"stage\"] = stad_ge_phylum_stage.apply(lambda row: convertStage(row.stage) if row.stage==row.stage else row.stage, axis=1)\n"
     ]
    }
   ],
   "source": [
    "import processor as pr\n",
    "stad_ge_phylum_stage = ge_phylum_stage[ge_phylum_stage[\"project\"]==\"STAD\"]\n",
    "# print(stad_ge_phylum_stage[\"stage\"].values)\n",
    "stage_dictionary = {\n",
    "    \"I\":0,\n",
    "    \"IA\":0,\n",
    "    \"IB\":0,\n",
    "    \"II\":1,\n",
    "    \"IIA\":1,\n",
    "    \"IIB\":1,\n",
    "    \"III\":2,\n",
    "    \"IIIA\":2,\n",
    "    \"IIIB\":2,\n",
    "    \"IIIC\":2,\n",
    "    \"IV\":3,\n",
    "}\n",
    "\n",
    "def convertStage(stage):\n",
    "    st = str(stage)[6:]\n",
    "    return stage_dictionary[st]\n",
    "stad_ge_phylum_stage[\"stage\"] = stad_ge_phylum_stage.apply(lambda row: convertStage(row.stage) if row.stage==row.stage else row.stage, axis=1)   \n",
    "print(stad_ge_phylum_stage[\"stage\"].values)\n",
    "# load.attachTumorStatus(stad_ge_phylum_stage)\n",
    "x, y = pr.splitData(stad_ge_phylum_stage, \"stage\")"
   ]
  },
  {
   "cell_type": "code",
   "execution_count": 4,
   "metadata": {},
   "outputs": [
    {
     "name": "stdout",
     "output_type": "stream",
     "text": [
      "[1 1 1 1 1 1 1 1 1 1 1 1 1 1 1 1 1 1 1 1 1 1 1 1 1 1 1 1 1 1 1 1 1 1 1 1 1\n",
      " 1 1 1 1 1 1 1 1 1 1 1 1 1 1 1 1 1 1 1 1 1 1 1 1]\n",
      "0.9344262295081968\n",
      "{'0': {'precision': 0.0, 'recall': 0.0, 'f1-score': 0.0, 'support': 4}, '1': {'precision': 0.9344262295081968, 'recall': 1.0, 'f1-score': 0.9661016949152543, 'support': 57}, 'accuracy': 0.9344262295081968, 'macro avg': {'precision': 0.4672131147540984, 'recall': 0.5, 'f1-score': 0.48305084745762716, 'support': 61}, 'weighted avg': {'precision': 0.8731523783929052, 'recall': 0.9344262295081968, 'f1-score': 0.9027507641011393, 'support': 61}}\n",
      "[1 1 1 1 1 1 1 1 1 1 1 1 1 1 1 1 1 1 1 1 1 1 1 1 1 1 1 1 1 1 1 1 1 1 1 1 1\n",
      " 1 1 1 1 1 1 1 1 1 1 1 1 1 1 1 1 1 1 1 1 1 1 1 1]\n",
      "0.9180327868852459\n",
      "{'0': {'precision': 0.0, 'recall': 0.0, 'f1-score': 0.0, 'support': 5}, '1': {'precision': 0.9180327868852459, 'recall': 1.0, 'f1-score': 0.9572649572649572, 'support': 56}, 'accuracy': 0.9180327868852459, 'macro avg': {'precision': 0.45901639344262296, 'recall': 0.5, 'f1-score': 0.4786324786324786, 'support': 61}, 'weighted avg': {'precision': 0.8427841977962913, 'recall': 0.9180327868852459, 'f1-score': 0.8788006165055344, 'support': 61}}\n",
      "Final report {'precision': 0.46311475409836067, 'recall': 0.5, 'f1-score': 0.4808416630450529}\n"
     ]
    },
    {
     "name": "stderr",
     "output_type": "stream",
     "text": [
      "c:\\Users\\Ameno\\Anaconda3\\envs\\bacteria\\lib\\site-packages\\sklearn\\metrics\\_classification.py:1318: UndefinedMetricWarning: Precision and F-score are ill-defined and being set to 0.0 in labels with no predicted samples. Use `zero_division` parameter to control this behavior.\n",
      "  _warn_prf(average, modifier, msg_start, len(result))\n",
      "c:\\Users\\Ameno\\Anaconda3\\envs\\bacteria\\lib\\site-packages\\sklearn\\metrics\\_classification.py:1318: UndefinedMetricWarning: Precision and F-score are ill-defined and being set to 0.0 in labels with no predicted samples. Use `zero_division` parameter to control this behavior.\n",
      "  _warn_prf(average, modifier, msg_start, len(result))\n",
      "c:\\Users\\Ameno\\Anaconda3\\envs\\bacteria\\lib\\site-packages\\sklearn\\metrics\\_classification.py:1318: UndefinedMetricWarning: Precision and F-score are ill-defined and being set to 0.0 in labels with no predicted samples. Use `zero_division` parameter to control this behavior.\n",
      "  _warn_prf(average, modifier, msg_start, len(result))\n",
      "c:\\Users\\Ameno\\Anaconda3\\envs\\bacteria\\lib\\site-packages\\sklearn\\metrics\\_classification.py:1318: UndefinedMetricWarning: Precision and F-score are ill-defined and being set to 0.0 in labels with no predicted samples. Use `zero_division` parameter to control this behavior.\n",
      "  _warn_prf(average, modifier, msg_start, len(result))\n",
      "c:\\Users\\Ameno\\Anaconda3\\envs\\bacteria\\lib\\site-packages\\sklearn\\metrics\\_classification.py:1318: UndefinedMetricWarning: Precision and F-score are ill-defined and being set to 0.0 in labels with no predicted samples. Use `zero_division` parameter to control this behavior.\n",
      "  _warn_prf(average, modifier, msg_start, len(result))\n",
      "c:\\Users\\Ameno\\Anaconda3\\envs\\bacteria\\lib\\site-packages\\sklearn\\metrics\\_classification.py:1318: UndefinedMetricWarning: Precision and F-score are ill-defined and being set to 0.0 in labels with no predicted samples. Use `zero_division` parameter to control this behavior.\n",
      "  _warn_prf(average, modifier, msg_start, len(result))\n"
     ]
    }
   ],
   "source": [
    "import predictor as pred\n",
    "tcma_genus = load.loadTCMA(\"genus\")\n",
    "tcma_genus_aak_ge = load.loadGEOverlappingTCMA(\"genus\")\n",
    "\n",
    "load.attachTumorStatus(tcma_genus)\n",
    "load.attachTumorStatus(tcma_genus_aak_ge)\n",
    "\n",
    "x, y = pr.splitData(tcma_genus_aak_ge, \"tumor\", \"STAD\")\n",
    "pred.runCrossValidation(x, y)\n"
   ]
  }
 ],
 "metadata": {
  "interpreter": {
   "hash": "5c9c23c68e4133fb152380ec4059b1f78568734598c8159b0962b671d1bd3454"
  },
  "kernelspec": {
   "display_name": "Python 3.9.4 ('bacteria')",
   "language": "python",
   "name": "python3"
  },
  "language_info": {
   "codemirror_mode": {
    "name": "ipython",
    "version": 3
   },
   "file_extension": ".py",
   "mimetype": "text/x-python",
   "name": "python",
   "nbconvert_exporter": "python",
   "pygments_lexer": "ipython3",
   "version": "3.9.4"
  },
  "orig_nbformat": 4
 },
 "nbformat": 4,
 "nbformat_minor": 2
}
